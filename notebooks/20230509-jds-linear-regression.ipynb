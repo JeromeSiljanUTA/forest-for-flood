{
 "cells": [
  {
   "cell_type": "code",
   "execution_count": 8,
   "id": "db9eb33b-4fae-4fe8-bdd6-66beae480ec6",
   "metadata": {
    "collapsed": false
   },
   "outputs": [],
   "source": [
    "import os\n",
    "import pyspark\n",
    "import logging\n",
    "from pyspark.ml.regression import LinearRegression"
   ]
  },
  {
   "cell_type": "code",
   "execution_count": 2,
   "id": "a43da1d4-76a3-49dd-b3af-d8b9cefa1ffd",
   "metadata": {
    "collapsed": false
   },
   "outputs": [
    {
     "data": {
      "text/plain": [
       "'/home/jerome/misc/projects/programming/forest-for-flood/src'"
      ]
     },
     "execution_count": 2,
     "metadata": {},
     "output_type": "execute_result"
    }
   ],
   "source": [
    "logging.basicConfig(level=logging.INFO)\n",
    "os.chdir('../src/')\n",
    "os.getcwd()"
   ]
  },
  {
   "cell_type": "code",
   "execution_count": 3,
   "id": "63454e2c-d4cb-4187-91c4-be893006cc18",
   "metadata": {
    "collapsed": false
   },
   "outputs": [
    {
     "data": {
      "text/plain": [
       "'/home/jerome/misc/projects/programming/forest-for-flood'"
      ]
     },
     "execution_count": 3,
     "metadata": {},
     "output_type": "execute_result"
    }
   ],
   "source": [
    "from d01_data.read_parquet import clean_parquet_df\n",
    "from d02_intermediate.to_parquet import clean_write_parquet\n",
    "from d03_processing.input_model import transform_into_vector\n",
    "from d04_modelling.train_model import fit_model\n",
    "from d05_model_evaluation.metrics import create_predictions, calculate_metrics\n",
    "os.chdir('../')\n",
    "os.getcwd()"
   ]
  },
  {
   "cell_type": "code",
   "execution_count": 4,
   "id": "329c9b1e-663e-49e6-a543-6f2dcbd375a9",
   "metadata": {
    "collapsed": false
   },
   "outputs": [
    {
     "name": "stderr",
     "output_type": "stream",
     "text": [
      "23/05/09 16:38:40 WARN Utils: Your hostname, Starscream resolves to a loopback address: 127.0.1.1; using 192.168.10.26 instead (on interface wlan0)\n",
      "23/05/09 16:38:40 WARN Utils: Set SPARK_LOCAL_IP if you need to bind to another address\n"
     ]
    },
    {
     "name": "stderr",
     "output_type": "stream",
     "text": [
      "Setting default log level to \"WARN\".\n",
      "To adjust logging level use sc.setLogLevel(newLevel). For SparkR, use setLogLevel(newLevel).\n"
     ]
    },
    {
     "name": "stderr",
     "output_type": "stream",
     "text": [
      "23/05/09 16:38:41 WARN NativeCodeLoader: Unable to load native-hadoop library for your platform... using builtin-java classes where applicable\n"
     ]
    }
   ],
   "source": [
    "spark = (\n",
    "    pyspark.sql.SparkSession.builder.master(\"local[*]\")\n",
    "    .config(\"spark.driver.memory\", \"10g\")\n",
    "    .getOrCreate()\n",
    ")\n",
    "sc = spark.sparkContext\n",
    "\n",
    "sc.setLogLevel(\"FATAL\")"
   ]
  },
  {
   "cell_type": "code",
   "execution_count": 6,
   "id": "1e48ca16-9982-4309-9e30-620870267010",
   "metadata": {
    "collapsed": false
   },
   "outputs": [],
   "source": [
    "df = clean_parquet_df(spark)\n",
    "train_df, test_df, validation_df = transform_into_vector(spark, df)"
   ]
  },
  {
   "cell_type": "code",
   "execution_count": 19,
   "id": "7232b8e5-a2af-4b40-92ef-a4a59d1e1093",
   "metadata": {
    "collapsed": false
   },
   "outputs": [],
   "source": [
    "model = LinearRegression(labelCol=\"totalinsurancepremiumofthepolicy\", maxIter=5000)"
   ]
  },
  {
   "cell_type": "code",
   "execution_count": 20,
   "id": "ffabf41c-c609-427e-8a40-285e8330620c",
   "metadata": {
    "collapsed": false
   },
   "outputs": [
    {
     "name": "stderr",
     "output_type": "stream",
     "text": [
      "\r",
      "[Stage 9:>                                                          (0 + 8) / 9]\r"
     ]
    },
    {
     "name": "stderr",
     "output_type": "stream",
     "text": [
      "\r",
      "[Stage 9:=============>                                             (2 + 7) / 9]\r",
      "\r",
      "[Stage 9:===================>                                       (3 + 6) / 9]\r"
     ]
    },
    {
     "name": "stderr",
     "output_type": "stream",
     "text": [
      "\r",
      "[Stage 9:==========================>                                (4 + 5) / 9]\r"
     ]
    },
    {
     "name": "stderr",
     "output_type": "stream",
     "text": [
      "\r",
      "[Stage 9:================================>                          (5 + 4) / 9]\r"
     ]
    },
    {
     "name": "stderr",
     "output_type": "stream",
     "text": [
      "\r",
      "[Stage 9:=======================================>                   (6 + 3) / 9]\r",
      "\r",
      "[Stage 9:=============================================>             (7 + 2) / 9]\r"
     ]
    },
    {
     "name": "stderr",
     "output_type": "stream",
     "text": [
      "\r",
      "[Stage 9:====================================================>      (8 + 1) / 9]\r"
     ]
    },
    {
     "name": "stderr",
     "output_type": "stream",
     "text": [
      "\r",
      "                                                                                \r"
     ]
    },
    {
     "name": "stderr",
     "output_type": "stream",
     "text": [
      "\r",
      "[Stage 11:===================>                                      (3 + 6) / 9]\r"
     ]
    },
    {
     "name": "stderr",
     "output_type": "stream",
     "text": [
      "\r",
      "[Stage 11:=========================>                                (4 + 5) / 9]\r"
     ]
    },
    {
     "name": "stderr",
     "output_type": "stream",
     "text": [
      "\r",
      "[Stage 11:================================>                         (5 + 4) / 9]\r"
     ]
    },
    {
     "name": "stderr",
     "output_type": "stream",
     "text": [
      "\r",
      "[Stage 11:======================================>                   (6 + 3) / 9]\r"
     ]
    },
    {
     "name": "stderr",
     "output_type": "stream",
     "text": [
      "\r",
      "[Stage 11:=============================================>            (7 + 2) / 9]\r"
     ]
    },
    {
     "name": "stderr",
     "output_type": "stream",
     "text": [
      "\r",
      "[Stage 11:===================================================>      (8 + 1) / 9]\r"
     ]
    },
    {
     "name": "stderr",
     "output_type": "stream",
     "text": [
      "\r",
      "                                                                                \r"
     ]
    }
   ],
   "source": [
    "trained_model = model.fit(train_df)"
   ]
  },
  {
   "cell_type": "code",
   "execution_count": 21,
   "id": "5030b21f-a0fd-4c4e-9af1-76c0013a5968",
   "metadata": {
    "collapsed": false
   },
   "outputs": [],
   "source": [
    "predictions_df = trained_model.transform(test_df)"
   ]
  },
  {
   "cell_type": "code",
   "execution_count": 22,
   "id": "0e1dac34-cb04-4d4b-835c-72a73cf374a2",
   "metadata": {
    "collapsed": false
   },
   "outputs": [
    {
     "name": "stderr",
     "output_type": "stream",
     "text": [
      "/home/jerome/misc/projects/programming/basic-venv/lib/python3.11/site-packages/pyspark/sql/context.py:157: FutureWarning: Deprecated in 3.0.0. Use SparkSession.builder.getOrCreate() instead.\n",
      "  warnings.warn(\n"
     ]
    },
    {
     "name": "stderr",
     "output_type": "stream",
     "text": [
      "\r",
      "[Stage 13:>                                                         (0 + 1) / 1]\r"
     ]
    },
    {
     "name": "stderr",
     "output_type": "stream",
     "text": [
      "\r",
      "                                                                                \r"
     ]
    },
    {
     "name": "stderr",
     "output_type": "stream",
     "text": [
      "\r",
      "[Stage 14:>                                                         (0 + 8) / 9]\r"
     ]
    },
    {
     "name": "stderr",
     "output_type": "stream",
     "text": [
      "\r",
      "[Stage 14:======>                                                   (1 + 8) / 9]\r",
      "\r",
      "[Stage 14:============>                                             (2 + 7) / 9]\r"
     ]
    },
    {
     "name": "stderr",
     "output_type": "stream",
     "text": [
      "\r",
      "[Stage 14:===================>                                      (3 + 6) / 9]\r"
     ]
    },
    {
     "name": "stderr",
     "output_type": "stream",
     "text": [
      "\r",
      "[Stage 14:=========================>                                (4 + 5) / 9]\r"
     ]
    },
    {
     "name": "stderr",
     "output_type": "stream",
     "text": [
      "\r",
      "[Stage 14:================================>                         (5 + 4) / 9]\r"
     ]
    },
    {
     "name": "stderr",
     "output_type": "stream",
     "text": [
      "\r",
      "[Stage 14:======================================>                   (6 + 3) / 9]\r"
     ]
    },
    {
     "name": "stderr",
     "output_type": "stream",
     "text": [
      "\r",
      "[Stage 14:===================================================>      (8 + 1) / 9]\r"
     ]
    },
    {
     "name": "stderr",
     "output_type": "stream",
     "text": [
      "\r",
      "                                                                                \r"
     ]
    }
   ],
   "source": [
    "metrics_dict = calculate_metrics(predictions_df)"
   ]
  },
  {
   "cell_type": "code",
   "execution_count": 23,
   "id": "2f3a46c4-afdb-4213-93fb-078d98d281d5",
   "metadata": {
    "collapsed": false
   },
   "outputs": [
    {
     "data": {
      "text/plain": [
       "{'r2': -5.106408626084753,\n",
       " 'explainedVariance': 3590781.9537764806,\n",
       " 'meanAbsoluteError': 681.8144323289797,\n",
       " 'meanSquaredError': 3081189.43383709,\n",
       " 'rootMeanSquaredError': 1755.3317161827533}"
      ]
     },
     "execution_count": 23,
     "metadata": {},
     "output_type": "execute_result"
    }
   ],
   "source": [
    "metrics_dict"
   ]
  }
 ],
 "metadata": {
  "kernelspec": {
   "argv": [
    "python",
    "-m",
    "ipykernel_launcher",
    "-f",
    "{connection_file}"
   ],
   "display_name": "Python 3 (ipykernel)",
   "env": null,
   "interrupt_mode": "signal",
   "language": "python",
   "metadata": {
    "debugger": true
   },
   "name": "python3"
  },
  "name": "20230509-jds-linear-regression.ipynb"
 },
 "nbformat": 4,
 "nbformat_minor": 5
}
