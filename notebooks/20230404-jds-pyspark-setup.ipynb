{
 "cells": [
  {
   "cell_type": "code",
   "execution_count": 1,
   "id": "c29cce31-aefb-4e17-9b80-63064541af49",
   "metadata": {
    "collapsed": false
   },
   "outputs": [],
   "source": [
    "import pandas as pd\n",
    "import numpy as np\n",
    "import pyspark"
   ]
  },
  {
   "cell_type": "markdown",
   "id": "7ce056f7-d70b-40e5-8d99-6035d5221e3b",
   "metadata": {
    "collapsed": false
   },
   "source": [
    "# Establish Spark Context\n",
    "`local[*]` lets pyspark know that we're using only one machine, as opposed to a set of machines in a cluster, etc.\n",
    "\n",
    "The * tells `pyspark` to use all the cores on your machine.\n",
    "\n",
    "It's important to not run more than once because once it's running, you'd have to kill the old SparkContext and start again. "
   ]
  },
  {
   "cell_type": "code",
   "execution_count": 3,
   "id": "43a4197a-0ff6-4681-bd61-a3b18afcda7a",
   "metadata": {
    "collapsed": false
   },
   "outputs": [
    {
     "name": "stderr",
     "output_type": "stream",
     "text": [
      "Setting default log level to \"WARN\".\n",
      "To adjust logging level use sc.setLogLevel(newLevel). For SparkR, use setLogLevel(newLevel).\n"
     ]
    },
    {
     "name": "stdout",
     "output_type": "stream",
     "text": [
      "23/04/04 16:28:45 WARN NativeCodeLoader: Unable to load native-hadoop library for your platform... using builtin-java classes where applicable\n"
     ]
    }
   ],
   "source": [
    "sc = pyspark.SparkContext('local[*]')"
   ]
  },
  {
   "cell_type": "code",
   "execution_count": 4,
   "id": "d8476690-6060-4f54-a6af-ae52ad44f6f6",
   "metadata": {
    "collapsed": false
   },
   "outputs": [],
   "source": [
    "spark = pyspark.sql.SparkSession(sc)"
   ]
  },
  {
   "cell_type": "code",
   "execution_count": 61,
   "id": "b67b1459-32d5-4b43-971a-c04c4d724e1c",
   "metadata": {
    "collapsed": false
   },
   "outputs": [],
   "source": [
    "df = spark.read.csv('../data/NFIP/nfip-flood-policies.csv', header=True)\n",
    "#df = spark.read.csv('../data/NFIP/small.csv', header=True)"
   ]
  },
  {
   "cell_type": "code",
   "execution_count": 65,
   "id": "91244d00-0975-429f-9ffb-afecc9b8e73c",
   "metadata": {
    "collapsed": false
   },
   "outputs": [
    {
     "name": "stderr",
     "output_type": "stream",
     "text": [
      "\r",
      "[Stage 85:================================>                       (56 + 8) / 97]\r"
     ]
    },
    {
     "name": "stderr",
     "output_type": "stream",
     "text": [
      "\r",
      "[Stage 85:================================>                       (57 + 8) / 97]\r"
     ]
    },
    {
     "name": "stderr",
     "output_type": "stream",
     "text": [
      "\r",
      "[Stage 85:=================================>                      (58 + 8) / 97]\r"
     ]
    },
    {
     "name": "stderr",
     "output_type": "stream",
     "text": [
      "\r",
      "[Stage 85:====================================>                   (64 + 8) / 97]\r"
     ]
    },
    {
     "name": "stderr",
     "output_type": "stream",
     "text": [
      "\r",
      "[Stage 85:=====================================>                  (65 + 8) / 97]\r"
     ]
    },
    {
     "name": "stderr",
     "output_type": "stream",
     "text": [
      "\r",
      "[Stage 85:======================================>                 (66 + 8) / 97]\r",
      "\r",
      "[Stage 85:======================================>                 (67 + 8) / 97]\r"
     ]
    },
    {
     "name": "stderr",
     "output_type": "stream",
     "text": [
      "\r",
      "[Stage 85:=========================================>              (72 + 8) / 97]\r"
     ]
    },
    {
     "name": "stderr",
     "output_type": "stream",
     "text": [
      "\r",
      "[Stage 85:==========================================>             (73 + 8) / 97]\r"
     ]
    },
    {
     "name": "stderr",
     "output_type": "stream",
     "text": [
      "\r",
      "[Stage 85:==========================================>             (74 + 8) / 97]\r",
      "\r",
      "[Stage 85:==============================================>         (80 + 8) / 97]\r"
     ]
    },
    {
     "name": "stderr",
     "output_type": "stream",
     "text": [
      "\r",
      "[Stage 85:==============================================>         (81 + 8) / 97]\r"
     ]
    },
    {
     "name": "stderr",
     "output_type": "stream",
     "text": [
      "\r",
      "[Stage 85:===============================================>        (82 + 8) / 97]\r"
     ]
    },
    {
     "name": "stderr",
     "output_type": "stream",
     "text": [
      "\r",
      "[Stage 85:===================================================>    (89 + 8) / 97]\r",
      "\r",
      "[Stage 85:===================================================>    (90 + 7) / 97]\r"
     ]
    },
    {
     "name": "stderr",
     "output_type": "stream",
     "text": [
      "\r",
      "[Stage 85:====================================================>   (91 + 6) / 97]\r",
      "\r",
      "[Stage 85:=====================================================>  (93 + 4) / 97]\r"
     ]
    },
    {
     "name": "stderr",
     "output_type": "stream",
     "text": [
      "\r",
      "                                                                                \r"
     ]
    }
   ],
   "source": [
    "schema = df.schema\n",
    "col_names = [str(col_data).split(\"'\")[1] for col_data in schema]"
   ]
  },
  {
   "cell_type": "markdown",
   "id": "043648ab-87a2-4938-bae6-ef3254c96367",
   "metadata": {
    "collapsed": false
   },
   "source": [
    "# Finding which columns will be most useful\n",
    "Given that the total number of rows is 50406943, we will try to find which columns have the most non-null rows so that they can be used for the model"
   ]
  },
  {
   "cell_type": "code",
   "execution_count": 90,
   "id": "5b3b041e-b361-45dd-b12b-19c4f6b590bb",
   "metadata": {
    "collapsed": false
   },
   "outputs": [
    {
     "name": "stderr",
     "output_type": "stream",
     "text": [
      "\r",
      "[Stage 113:>                                                       (0 + 8) / 97]\r"
     ]
    },
    {
     "name": "stderr",
     "output_type": "stream",
     "text": [
      "\r",
      "[Stage 113:====>                                                   (8 + 8) / 97]\r"
     ]
    },
    {
     "name": "stderr",
     "output_type": "stream",
     "text": [
      "\r",
      "[Stage 113:=======>                                               (14 + 8) / 97]\r",
      "\r",
      "[Stage 113:=========>                                             (16 + 8) / 97]\r"
     ]
    },
    {
     "name": "stderr",
     "output_type": "stream",
     "text": [
      "\r",
      "[Stage 113:=============>                                         (24 + 8) / 97]\r"
     ]
    },
    {
     "name": "stderr",
     "output_type": "stream",
     "text": [
      "\r",
      "[Stage 113:==================>                                    (32 + 8) / 97]\r"
     ]
    },
    {
     "name": "stderr",
     "output_type": "stream",
     "text": [
      "\r",
      "[Stage 113:====================>                                  (36 + 8) / 97]\r",
      "\r",
      "[Stage 113:======================>                                (40 + 8) / 97]\r"
     ]
    },
    {
     "name": "stderr",
     "output_type": "stream",
     "text": [
      "\r",
      "[Stage 113:=========================>                             (45 + 8) / 97]\r",
      "\r",
      "[Stage 113:===========================>                           (48 + 8) / 97]\r"
     ]
    },
    {
     "name": "stderr",
     "output_type": "stream",
     "text": [
      "\r",
      "[Stage 113:==============================>                        (54 + 8) / 97]\r",
      "\r",
      "[Stage 113:===============================>                       (56 + 8) / 97]\r"
     ]
    },
    {
     "name": "stderr",
     "output_type": "stream",
     "text": [
      "\r",
      "[Stage 113:==================================>                    (61 + 8) / 97]\r",
      "\r",
      "[Stage 113:====================================>                  (64 + 8) / 97]\r"
     ]
    },
    {
     "name": "stderr",
     "output_type": "stream",
     "text": [
      "\r",
      "[Stage 113:=====================================>                 (67 + 8) / 97]\r",
      "\r",
      "[Stage 113:========================================>              (72 + 8) / 97]\r"
     ]
    },
    {
     "name": "stderr",
     "output_type": "stream",
     "text": [
      "\r",
      "[Stage 113:=========================================>             (73 + 8) / 97]\r",
      "\r",
      "[Stage 113:=============================================>         (80 + 8) / 97]\r"
     ]
    },
    {
     "name": "stderr",
     "output_type": "stream",
     "text": [
      "\r",
      "[Stage 113:===============================================>       (84 + 8) / 97]\r",
      "\r",
      "[Stage 113:=================================================>     (88 + 8) / 97]\r"
     ]
    },
    {
     "name": "stderr",
     "output_type": "stream",
     "text": [
      "\r",
      "[Stage 113:===================================================>   (91 + 6) / 97]\r",
      "\r",
      "[Stage 113:======================================================>(96 + 1) / 97]\r"
     ]
    },
    {
     "name": "stderr",
     "output_type": "stream",
     "text": [
      "\r",
      "                                                                                \r"
     ]
    },
    {
     "name": "stderr",
     "output_type": "stream",
     "text": [
      "\r",
      "[Stage 116:>                                                       (0 + 8) / 97]\r"
     ]
    },
    {
     "name": "stderr",
     "output_type": "stream",
     "text": [
      "\r",
      "[Stage 116:==>                                                     (5 + 8) / 97]\r",
      "\r",
      "[Stage 116:====>                                                   (8 + 8) / 97]\r"
     ]
    },
    {
     "name": "stderr",
     "output_type": "stream",
     "text": [
      "\r",
      "[Stage 116:======>                                                (11 + 8) / 97]\r",
      "\r",
      "[Stage 116:=======>                                               (14 + 8) / 97]\r"
     ]
    },
    {
     "name": "stderr",
     "output_type": "stream",
     "text": [
      "\r",
      "[Stage 116:=========>                                             (16 + 8) / 97]\r"
     ]
    },
    {
     "name": "stderr",
     "output_type": "stream",
     "text": [
      "\r",
      "[Stage 116:=========>                                             (17 + 8) / 97]\r",
      "\r",
      "[Stage 116:===========>                                           (20 + 8) / 97]\r"
     ]
    },
    {
     "name": "stderr",
     "output_type": "stream",
     "text": [
      "\r",
      "[Stage 116:=============>                                         (23 + 8) / 97]\r",
      "\r",
      "[Stage 116:=============>                                         (24 + 8) / 97]\r"
     ]
    },
    {
     "name": "stderr",
     "output_type": "stream",
     "text": [
      "\r",
      "[Stage 116:===============>                                       (27 + 8) / 97]\r",
      "\r",
      "[Stage 116:=================>                                     (30 + 8) / 97]\r"
     ]
    },
    {
     "name": "stderr",
     "output_type": "stream",
     "text": [
      "\r",
      "[Stage 116:=================>                                     (31 + 8) / 97]\r",
      "\r",
      "[Stage 116:==================>                                    (32 + 8) / 97]\r"
     ]
    },
    {
     "name": "stderr",
     "output_type": "stream",
     "text": [
      "\r",
      "[Stage 116:===================>                                   (34 + 8) / 97]\r",
      "\r",
      "[Stage 116:===================>                                   (35 + 8) / 97]\r"
     ]
    },
    {
     "name": "stderr",
     "output_type": "stream",
     "text": [
      "\r",
      "[Stage 116:=====================>                                 (38 + 8) / 97]\r",
      "\r",
      "[Stage 116:======================>                                (40 + 8) / 97]\r"
     ]
    },
    {
     "name": "stderr",
     "output_type": "stream",
     "text": [
      "\r",
      "[Stage 116:=======================>                               (42 + 8) / 97]\r",
      "\r",
      "[Stage 116:========================>                              (43 + 8) / 97]\r"
     ]
    },
    {
     "name": "stderr",
     "output_type": "stream",
     "text": [
      "\r",
      "[Stage 116:==========================>                            (46 + 8) / 97]\r",
      "\r",
      "[Stage 116:===========================>                           (48 + 8) / 97]\r"
     ]
    },
    {
     "name": "stderr",
     "output_type": "stream",
     "text": [
      "\r",
      "[Stage 116:===========================>                           (49 + 8) / 97]\r",
      "\r",
      "[Stage 116:============================>                          (50 + 8) / 97]\r"
     ]
    },
    {
     "name": "stderr",
     "output_type": "stream",
     "text": [
      "\r",
      "[Stage 116:=============================>                         (52 + 8) / 97]\r"
     ]
    },
    {
     "name": "stderr",
     "output_type": "stream",
     "text": [
      "\r",
      "[Stage 116:==============================>                        (53 + 8) / 97]\r",
      "\r",
      "[Stage 116:===============================>                       (56 + 8) / 97]\r"
     ]
    },
    {
     "name": "stderr",
     "output_type": "stream",
     "text": [
      "\r",
      "[Stage 116:================================>                      (57 + 8) / 97]\r",
      "\r",
      "[Stage 116:================================>                      (58 + 8) / 97]\r"
     ]
    },
    {
     "name": "stderr",
     "output_type": "stream",
     "text": [
      "\r",
      "[Stage 116:==================================>                    (60 + 8) / 97]\r",
      "\r",
      "[Stage 116:===================================>                   (63 + 8) / 97]\r"
     ]
    },
    {
     "name": "stderr",
     "output_type": "stream",
     "text": [
      "\r",
      "[Stage 116:====================================>                  (64 + 8) / 97]\r"
     ]
    },
    {
     "name": "stderr",
     "output_type": "stream",
     "text": [
      "\r",
      "[Stage 116:====================================>                  (65 + 8) / 97]\r"
     ]
    },
    {
     "name": "stderr",
     "output_type": "stream",
     "text": [
      "\r",
      "[Stage 116:======================================>                (68 + 8) / 97]\r",
      "\r",
      "[Stage 116:========================================>              (71 + 8) / 97]\r"
     ]
    },
    {
     "name": "stderr",
     "output_type": "stream",
     "text": [
      "\r",
      "[Stage 116:========================================>              (72 + 8) / 97]\r"
     ]
    },
    {
     "name": "stderr",
     "output_type": "stream",
     "text": [
      "\r",
      "[Stage 116:=========================================>             (73 + 8) / 97]\r"
     ]
    },
    {
     "name": "stderr",
     "output_type": "stream",
     "text": [
      "\r",
      "[Stage 116:===========================================>           (76 + 8) / 97]\r",
      "\r",
      "[Stage 116:============================================>          (78 + 8) / 97]\r"
     ]
    },
    {
     "name": "stderr",
     "output_type": "stream",
     "text": [
      "\r",
      "[Stage 116:=============================================>         (80 + 8) / 97]\r"
     ]
    },
    {
     "name": "stderr",
     "output_type": "stream",
     "text": [
      "\r",
      "[Stage 116:=============================================>         (81 + 8) / 97]\r"
     ]
    },
    {
     "name": "stderr",
     "output_type": "stream",
     "text": [
      "\r",
      "[Stage 116:===============================================>       (84 + 8) / 97]\r",
      "\r",
      "[Stage 116:=================================================>     (88 + 8) / 97]\r"
     ]
    },
    {
     "name": "stderr",
     "output_type": "stream",
     "text": [
      "\r",
      "[Stage 116:==================================================>    (89 + 8) / 97]\r",
      "\r",
      "[Stage 116:===================================================>   (91 + 6) / 97]\r"
     ]
    },
    {
     "name": "stderr",
     "output_type": "stream",
     "text": [
      "\r",
      "[Stage 116:======================================================>(96 + 1) / 97]\r"
     ]
    },
    {
     "name": "stderr",
     "output_type": "stream",
     "text": [
      "\r",
      "                                                                                \r"
     ]
    },
    {
     "name": "stderr",
     "output_type": "stream",
     "text": [
      "\r",
      "[Stage 119:>                                                       (0 + 8) / 97]\r"
     ]
    },
    {
     "name": "stderr",
     "output_type": "stream",
     "text": [
      "\r",
      "[Stage 119:====>                                                   (7 + 8) / 97]\r",
      "\r",
      "[Stage 119:====>                                                   (8 + 8) / 97]\r"
     ]
    },
    {
     "name": "stderr",
     "output_type": "stream",
     "text": [
      "\r",
      "[Stage 119:======>                                                (12 + 8) / 97]\r",
      "\r",
      "[Stage 119:=========>                                             (16 + 8) / 97]\r"
     ]
    },
    {
     "name": "stderr",
     "output_type": "stream",
     "text": [
      "\r",
      "[Stage 119:===========>                                           (21 + 8) / 97]\r",
      "\r",
      "[Stage 119:=============>                                         (24 + 8) / 97]\r"
     ]
    },
    {
     "name": "stderr",
     "output_type": "stream",
     "text": [
      "\r",
      "[Stage 119:==============>                                        (25 + 8) / 97]\r",
      "\r",
      "[Stage 119:================>                                      (29 + 8) / 97]\r"
     ]
    },
    {
     "name": "stderr",
     "output_type": "stream",
     "text": [
      "\r",
      "[Stage 119:=================>                                     (31 + 8) / 97]\r",
      "\r",
      "[Stage 119:==================>                                    (32 + 8) / 97]\r"
     ]
    },
    {
     "name": "stderr",
     "output_type": "stream",
     "text": [
      "\r",
      "[Stage 119:===================>                                   (35 + 8) / 97]\r",
      "\r",
      "[Stage 119:=====================>                                 (38 + 8) / 97]\r"
     ]
    },
    {
     "name": "stderr",
     "output_type": "stream",
     "text": [
      "\r",
      "[Stage 119:======================>                                (40 + 8) / 97]\r"
     ]
    },
    {
     "name": "stderr",
     "output_type": "stream",
     "text": [
      "\r",
      "[Stage 119:=======================>                               (42 + 8) / 97]\r",
      "\r",
      "[Stage 119:=========================>                             (45 + 8) / 97]\r"
     ]
    },
    {
     "name": "stderr",
     "output_type": "stream",
     "text": [
      "\r",
      "[Stage 119:==========================>                            (47 + 8) / 97]\r",
      "\r",
      "[Stage 119:===========================>                           (48 + 8) / 97]\r"
     ]
    },
    {
     "name": "stderr",
     "output_type": "stream",
     "text": [
      "\r",
      "[Stage 119:===========================>                           (49 + 8) / 97]\r",
      "\r",
      "[Stage 119:=============================>                         (52 + 8) / 97]\r"
     ]
    },
    {
     "name": "stderr",
     "output_type": "stream",
     "text": [
      "\r",
      "[Stage 119:===============================>                       (55 + 8) / 97]\r"
     ]
    },
    {
     "name": "stderr",
     "output_type": "stream",
     "text": [
      "\r",
      "[Stage 119:===============================>                       (56 + 8) / 97]\r"
     ]
    },
    {
     "name": "stderr",
     "output_type": "stream",
     "text": [
      "\r",
      "[Stage 119:================================>                      (57 + 8) / 97]\r",
      "\r",
      "[Stage 119:=================================>                     (59 + 8) / 97]\r"
     ]
    },
    {
     "name": "stderr",
     "output_type": "stream",
     "text": [
      "\r",
      "[Stage 119:==================================>                    (61 + 8) / 97]\r",
      "\r",
      "[Stage 119:===================================>                   (63 + 8) / 97]\r"
     ]
    },
    {
     "name": "stderr",
     "output_type": "stream",
     "text": [
      "\r",
      "[Stage 119:====================================>                  (64 + 8) / 97]\r"
     ]
    },
    {
     "name": "stderr",
     "output_type": "stream",
     "text": [
      "\r",
      "[Stage 119:====================================>                  (65 + 8) / 97]\r",
      "\r",
      "[Stage 119:======================================>                (68 + 8) / 97]\r"
     ]
    },
    {
     "name": "stderr",
     "output_type": "stream",
     "text": [
      "\r",
      "[Stage 119:========================================>              (71 + 8) / 97]\r"
     ]
    },
    {
     "name": "stderr",
     "output_type": "stream",
     "text": [
      "\r",
      "[Stage 119:========================================>              (72 + 8) / 97]\r"
     ]
    },
    {
     "name": "stderr",
     "output_type": "stream",
     "text": [
      "\r",
      "[Stage 119:=========================================>             (73 + 8) / 97]\r",
      "\r",
      "[Stage 119:===========================================>           (76 + 8) / 97]\r"
     ]
    },
    {
     "name": "stderr",
     "output_type": "stream",
     "text": [
      "\r",
      "[Stage 119:============================================>          (79 + 8) / 97]\r"
     ]
    },
    {
     "name": "stderr",
     "output_type": "stream",
     "text": [
      "\r",
      "[Stage 119:=============================================>         (80 + 8) / 97]\r"
     ]
    },
    {
     "name": "stderr",
     "output_type": "stream",
     "text": [
      "\r",
      "[Stage 119:===============================================>       (83 + 8) / 97]\r",
      "\r",
      "[Stage 119:================================================>      (85 + 8) / 97]\r"
     ]
    },
    {
     "name": "stderr",
     "output_type": "stream",
     "text": [
      "\r",
      "[Stage 119:================================================>      (86 + 8) / 97]\r",
      "\r",
      "[Stage 119:=================================================>     (87 + 8) / 97]\r"
     ]
    },
    {
     "name": "stderr",
     "output_type": "stream",
     "text": [
      "\r",
      "[Stage 119:=================================================>     (88 + 8) / 97]\r"
     ]
    },
    {
     "name": "stderr",
     "output_type": "stream",
     "text": [
      "\r",
      "[Stage 119:===================================================>   (90 + 7) / 97]\r",
      "\r",
      "[Stage 119:=====================================================> (94 + 3) / 97]\r"
     ]
    },
    {
     "name": "stderr",
     "output_type": "stream",
     "text": [
      "\r",
      "[Stage 119:=====================================================> (95 + 2) / 97]\r"
     ]
    },
    {
     "name": "stderr",
     "output_type": "stream",
     "text": [
      "\r",
      "                                                                                \r"
     ]
    },
    {
     "name": "stderr",
     "output_type": "stream",
     "text": [
      "\r",
      "[Stage 122:>                                                       (0 + 8) / 97]\r"
     ]
    },
    {
     "name": "stderr",
     "output_type": "stream",
     "text": [
      "\r",
      "[Stage 122:==>                                                     (4 + 8) / 97]\r",
      "\r",
      "[Stage 122:====>                                                   (8 + 8) / 97]\r"
     ]
    },
    {
     "name": "stderr",
     "output_type": "stream",
     "text": [
      "\r",
      "[Stage 122:======>                                                (11 + 8) / 97]\r",
      "\r",
      "[Stage 122:=========>                                             (16 + 8) / 97]\r"
     ]
    },
    {
     "name": "stderr",
     "output_type": "stream",
     "text": [
      "\r",
      "[Stage 122:==========>                                            (18 + 8) / 97]\r",
      "\r",
      "[Stage 122:============>                                          (22 + 8) / 97]\r"
     ]
    },
    {
     "name": "stderr",
     "output_type": "stream",
     "text": [
      "\r",
      "[Stage 122:=============>                                         (24 + 8) / 97]\r"
     ]
    },
    {
     "name": "stderr",
     "output_type": "stream",
     "text": [
      "\r",
      "[Stage 122:==============>                                        (26 + 8) / 97]\r",
      "\r",
      "[Stage 122:=================>                                     (30 + 8) / 97]\r"
     ]
    },
    {
     "name": "stderr",
     "output_type": "stream",
     "text": [
      "\r",
      "[Stage 122:==================>                                    (32 + 8) / 97]\r"
     ]
    },
    {
     "name": "stderr",
     "output_type": "stream",
     "text": [
      "\r",
      "[Stage 122:==================>                                    (33 + 8) / 97]\r",
      "\r",
      "[Stage 122:===================>                                   (34 + 8) / 97]\r"
     ]
    },
    {
     "name": "stderr",
     "output_type": "stream",
     "text": [
      "\r",
      "[Stage 122:=====================>                                 (38 + 8) / 97]\r",
      "\r",
      "[Stage 122:======================>                                (39 + 8) / 97]\r"
     ]
    },
    {
     "name": "stderr",
     "output_type": "stream",
     "text": [
      "\r",
      "[Stage 122:======================>                                (40 + 8) / 97]\r"
     ]
    },
    {
     "name": "stderr",
     "output_type": "stream",
     "text": [
      "\r",
      "[Stage 122:=======================>                               (41 + 8) / 97]\r",
      "\r",
      "[Stage 122:=======================>                               (42 + 8) / 97]\r"
     ]
    },
    {
     "name": "stderr",
     "output_type": "stream",
     "text": [
      "\r",
      "[Stage 122:========================>                              (44 + 8) / 97]\r",
      "\r",
      "[Stage 122:==========================>                            (47 + 8) / 97]\r"
     ]
    },
    {
     "name": "stderr",
     "output_type": "stream",
     "text": [
      "\r",
      "[Stage 122:===========================>                           (48 + 8) / 97]\r"
     ]
    },
    {
     "name": "stderr",
     "output_type": "stream",
     "text": [
      "\r",
      "[Stage 122:===========================>                           (49 + 8) / 97]\r"
     ]
    },
    {
     "name": "stderr",
     "output_type": "stream",
     "text": [
      "\r",
      "[Stage 122:=============================>                         (52 + 8) / 97]\r",
      "\r",
      "[Stage 122:===============================>                       (55 + 8) / 97]\r"
     ]
    },
    {
     "name": "stderr",
     "output_type": "stream",
     "text": [
      "\r",
      "[Stage 122:===============================>                       (56 + 8) / 97]\r"
     ]
    },
    {
     "name": "stderr",
     "output_type": "stream",
     "text": [
      "\r",
      "[Stage 122:================================>                      (57 + 8) / 97]\r"
     ]
    },
    {
     "name": "stderr",
     "output_type": "stream",
     "text": [
      "\r",
      "[Stage 122:=================================>                     (59 + 8) / 97]\r",
      "\r",
      "[Stage 122:===================================>                   (63 + 8) / 97]\r"
     ]
    },
    {
     "name": "stderr",
     "output_type": "stream",
     "text": [
      "\r",
      "[Stage 122:====================================>                  (64 + 8) / 97]\r"
     ]
    },
    {
     "name": "stderr",
     "output_type": "stream",
     "text": [
      "\r",
      "[Stage 122:====================================>                  (65 + 8) / 97]\r",
      "\r",
      "[Stage 122:=====================================>                 (66 + 8) / 97]\r"
     ]
    },
    {
     "name": "stderr",
     "output_type": "stream",
     "text": [
      "\r",
      "[Stage 122:======================================>                (68 + 8) / 97]\r"
     ]
    },
    {
     "name": "stderr",
     "output_type": "stream",
     "text": [
      "\r",
      "[Stage 122:========================================>              (71 + 8) / 97]\r",
      "\r",
      "[Stage 122:========================================>              (72 + 8) / 97]\r"
     ]
    },
    {
     "name": "stderr",
     "output_type": "stream",
     "text": [
      "\r",
      "[Stage 122:=========================================>             (73 + 8) / 97]\r",
      "\r",
      "[Stage 122:==========================================>            (75 + 8) / 97]\r"
     ]
    },
    {
     "name": "stderr",
     "output_type": "stream",
     "text": [
      "\r",
      "[Stage 122:===========================================>           (76 + 8) / 97]\r",
      "\r",
      "[Stage 122:============================================>          (79 + 8) / 97]\r"
     ]
    },
    {
     "name": "stderr",
     "output_type": "stream",
     "text": [
      "\r",
      "[Stage 122:=============================================>         (80 + 8) / 97]\r"
     ]
    },
    {
     "name": "stderr",
     "output_type": "stream",
     "text": [
      "\r",
      "[Stage 122:=============================================>         (81 + 8) / 97]\r",
      "\r",
      "[Stage 122:==============================================>        (82 + 8) / 97]\r"
     ]
    },
    {
     "name": "stderr",
     "output_type": "stream",
     "text": [
      "\r",
      "[Stage 122:===============================================>       (84 + 8) / 97]\r",
      "\r",
      "[Stage 122:=================================================>     (88 + 8) / 97]\r"
     ]
    },
    {
     "name": "stderr",
     "output_type": "stream",
     "text": [
      "\r",
      "[Stage 122:==================================================>    (89 + 8) / 97]\r",
      "\r",
      "[Stage 122:===================================================>   (90 + 7) / 97]\r"
     ]
    },
    {
     "name": "stderr",
     "output_type": "stream",
     "text": [
      "\r",
      "[Stage 122:====================================================>  (92 + 5) / 97]\r",
      "\r",
      "[Stage 122:======================================================>(96 + 1) / 97]\r"
     ]
    },
    {
     "name": "stderr",
     "output_type": "stream",
     "text": [
      "\r",
      "                                                                                \r"
     ]
    },
    {
     "name": "stderr",
     "output_type": "stream",
     "text": [
      "\r",
      "[Stage 125:>                                                       (0 + 8) / 97]\r"
     ]
    },
    {
     "name": "stderr",
     "output_type": "stream",
     "text": [
      "\r",
      "[Stage 125:>                                                       (1 + 8) / 97]\r",
      "\r",
      "[Stage 125:====>                                                   (8 + 8) / 97]\r"
     ]
    },
    {
     "name": "stderr",
     "output_type": "stream",
     "text": [
      "\r",
      "[Stage 125:=========>                                             (16 + 8) / 97]\r"
     ]
    },
    {
     "name": "stderr",
     "output_type": "stream",
     "text": [
      "\r",
      "[Stage 125:=============>                                         (23 + 8) / 97]\r",
      "\r",
      "[Stage 125:=============>                                         (24 + 8) / 97]\r"
     ]
    },
    {
     "name": "stderr",
     "output_type": "stream",
     "text": [
      "\r",
      "[Stage 125:===============>                                       (28 + 8) / 97]\r",
      "\r",
      "[Stage 125:==================>                                    (32 + 8) / 97]\r"
     ]
    },
    {
     "name": "stderr",
     "output_type": "stream",
     "text": [
      "\r",
      "[Stage 125:===================>                                   (35 + 8) / 97]\r",
      "\r",
      "[Stage 125:======================>                                (40 + 8) / 97]\r"
     ]
    },
    {
     "name": "stderr",
     "output_type": "stream",
     "text": [
      "\r",
      "[Stage 125:========================>                              (43 + 8) / 97]\r",
      "\r",
      "[Stage 125:==========================>                            (47 + 8) / 97]\r"
     ]
    },
    {
     "name": "stderr",
     "output_type": "stream",
     "text": [
      "\r",
      "[Stage 125:===========================>                           (48 + 8) / 97]\r"
     ]
    },
    {
     "name": "stderr",
     "output_type": "stream",
     "text": [
      "\r",
      "[Stage 125:=============================>                         (52 + 8) / 97]\r",
      "\r",
      "[Stage 125:===============================>                       (56 + 8) / 97]\r"
     ]
    },
    {
     "name": "stderr",
     "output_type": "stream",
     "text": [
      "\r",
      "[Stage 125:==================================>                    (60 + 8) / 97]\r",
      "\r",
      "[Stage 125:====================================>                  (64 + 8) / 97]\r"
     ]
    },
    {
     "name": "stderr",
     "output_type": "stream",
     "text": [
      "\r",
      "[Stage 125:=======================================>               (69 + 8) / 97]\r",
      "\r",
      "[Stage 125:========================================>              (72 + 8) / 97]\r"
     ]
    },
    {
     "name": "stderr",
     "output_type": "stream",
     "text": [
      "\r",
      "[Stage 125:==========================================>            (75 + 8) / 97]\r",
      "\r",
      "[Stage 125:============================================>          (78 + 8) / 97]\r"
     ]
    },
    {
     "name": "stderr",
     "output_type": "stream",
     "text": [
      "\r",
      "[Stage 125:=============================================>         (80 + 8) / 97]\r"
     ]
    },
    {
     "name": "stderr",
     "output_type": "stream",
     "text": [
      "\r",
      "[Stage 125:=============================================>         (81 + 8) / 97]\r",
      "\r",
      "[Stage 125:================================================>      (86 + 8) / 97]\r"
     ]
    },
    {
     "name": "stderr",
     "output_type": "stream",
     "text": [
      "\r",
      "[Stage 125:=================================================>     (88 + 8) / 97]\r"
     ]
    },
    {
     "name": "stderr",
     "output_type": "stream",
     "text": [
      "\r",
      "[Stage 125:=====================================================> (94 + 3) / 97]\r",
      "\r",
      "[Stage 125:======================================================>(96 + 1) / 97]\r"
     ]
    },
    {
     "name": "stderr",
     "output_type": "stream",
     "text": [
      "\r",
      "                                                                                \r"
     ]
    },
    {
     "name": "stderr",
     "output_type": "stream",
     "text": [
      "\r",
      "[Stage 128:>                                                       (0 + 8) / 97]\r"
     ]
    },
    {
     "name": "stderr",
     "output_type": "stream",
     "text": [
      "\r",
      "[Stage 128:====>                                                   (7 + 8) / 97]\r",
      "\r",
      "[Stage 128:====>                                                   (8 + 8) / 97]\r"
     ]
    },
    {
     "name": "stderr",
     "output_type": "stream",
     "text": [
      "\r",
      "[Stage 128:======>                                                (11 + 8) / 97]\r",
      "\r",
      "[Stage 128:=========>                                             (16 + 8) / 97]\r"
     ]
    },
    {
     "name": "stderr",
     "output_type": "stream",
     "text": [
      "\r",
      "[Stage 128:===========>                                           (21 + 8) / 97]\r",
      "\r",
      "[Stage 128:=============>                                         (23 + 8) / 97]\r"
     ]
    },
    {
     "name": "stderr",
     "output_type": "stream",
     "text": [
      "\r",
      "[Stage 128:=============>                                         (24 + 8) / 97]\r"
     ]
    },
    {
     "name": "stderr",
     "output_type": "stream",
     "text": [
      "\r",
      "[Stage 128:==============>                                        (26 + 8) / 97]\r",
      "\r",
      "[Stage 128:=================>                                     (31 + 8) / 97]\r"
     ]
    },
    {
     "name": "stderr",
     "output_type": "stream",
     "text": [
      "\r",
      "[Stage 128:==================>                                    (32 + 8) / 97]\r"
     ]
    },
    {
     "name": "stderr",
     "output_type": "stream",
     "text": [
      "\r",
      "[Stage 128:==================>                                    (33 + 8) / 97]\r",
      "\r",
      "[Stage 128:====================>                                  (37 + 8) / 97]\r"
     ]
    },
    {
     "name": "stderr",
     "output_type": "stream",
     "text": [
      "\r",
      "[Stage 128:======================>                                (39 + 8) / 97]\r",
      "\r",
      "[Stage 128:======================>                                (40 + 8) / 97]\r"
     ]
    },
    {
     "name": "stderr",
     "output_type": "stream",
     "text": [
      "\r",
      "[Stage 128:=========================>                             (45 + 8) / 97]\r",
      "\r",
      "[Stage 128:==========================>                            (47 + 8) / 97]\r"
     ]
    },
    {
     "name": "stderr",
     "output_type": "stream",
     "text": [
      "\r",
      "[Stage 128:===========================>                           (48 + 8) / 97]\r"
     ]
    },
    {
     "name": "stderr",
     "output_type": "stream",
     "text": [
      "\r",
      "[Stage 128:===========================>                           (49 + 8) / 97]\r",
      "\r",
      "[Stage 128:==============================>                        (54 + 8) / 97]\r"
     ]
    },
    {
     "name": "stderr",
     "output_type": "stream",
     "text": [
      "\r",
      "[Stage 128:===============================>                       (56 + 8) / 97]\r"
     ]
    },
    {
     "name": "stderr",
     "output_type": "stream",
     "text": [
      "\r",
      "[Stage 128:==================================>                    (60 + 8) / 97]\r",
      "\r",
      "[Stage 128:===================================>                   (62 + 8) / 97]\r"
     ]
    },
    {
     "name": "stderr",
     "output_type": "stream",
     "text": [
      "\r",
      "[Stage 128:====================================>                  (64 + 8) / 97]\r"
     ]
    },
    {
     "name": "stderr",
     "output_type": "stream",
     "text": [
      "\r",
      "[Stage 128:=====================================>                 (67 + 8) / 97]\r",
      "\r",
      "[Stage 128:=======================================>               (69 + 8) / 97]\r"
     ]
    },
    {
     "name": "stderr",
     "output_type": "stream",
     "text": [
      "\r",
      "[Stage 128:========================================>              (72 + 8) / 97]\r"
     ]
    },
    {
     "name": "stderr",
     "output_type": "stream",
     "text": [
      "\r",
      "[Stage 128:===========================================>           (76 + 8) / 97]\r",
      "\r",
      "[Stage 128:============================================>          (78 + 8) / 97]\r"
     ]
    },
    {
     "name": "stderr",
     "output_type": "stream",
     "text": [
      "\r",
      "[Stage 128:=============================================>         (80 + 8) / 97]\r"
     ]
    },
    {
     "name": "stderr",
     "output_type": "stream",
     "text": [
      "\r",
      "[Stage 128:===============================================>       (83 + 8) / 97]\r",
      "\r",
      "[Stage 128:================================================>      (85 + 8) / 97]\r"
     ]
    },
    {
     "name": "stderr",
     "output_type": "stream",
     "text": [
      "\r",
      "[Stage 128:================================================>      (86 + 8) / 97]\r",
      "\r",
      "[Stage 128:=================================================>     (88 + 8) / 97]\r"
     ]
    },
    {
     "name": "stderr",
     "output_type": "stream",
     "text": [
      "\r",
      "[Stage 128:===================================================>   (91 + 6) / 97]\r",
      "\r",
      "[Stage 128:====================================================>  (93 + 4) / 97]\r"
     ]
    },
    {
     "name": "stderr",
     "output_type": "stream",
     "text": [
      "\r",
      "[Stage 128:======================================================>(96 + 1) / 97]\r",
      "\r",
      "                                                                                \r"
     ]
    },
    {
     "name": "stderr",
     "output_type": "stream",
     "text": [
      "\r",
      "[Stage 131:>                                                       (0 + 8) / 97]\r"
     ]
    },
    {
     "name": "stderr",
     "output_type": "stream",
     "text": [
      "\r",
      "[Stage 131:>                                                       (1 + 8) / 97]\r",
      "\r",
      "[Stage 131:====>                                                   (8 + 8) / 97]\r"
     ]
    },
    {
     "name": "stderr",
     "output_type": "stream",
     "text": [
      "\r",
      "[Stage 131:========>                                              (15 + 8) / 97]\r",
      "\r",
      "[Stage 131:=========>                                             (16 + 8) / 97]\r"
     ]
    },
    {
     "name": "stderr",
     "output_type": "stream",
     "text": [
      "\r",
      "[Stage 131:=============>                                         (23 + 8) / 97]\r",
      "\r",
      "[Stage 131:=============>                                         (24 + 8) / 97]\r"
     ]
    },
    {
     "name": "stderr",
     "output_type": "stream",
     "text": [
      "\r",
      "[Stage 131:================>                                      (29 + 8) / 97]\r",
      "\r",
      "[Stage 131:==================>                                    (32 + 8) / 97]\r"
     ]
    },
    {
     "name": "stderr",
     "output_type": "stream",
     "text": [
      "\r",
      "[Stage 131:==================>                                    (32 + 8) / 97]\r"
     ]
    },
    {
     "name": "stderr",
     "output_type": "stream",
     "text": [
      "\r",
      "[Stage 131:==================>                                    (33 + 8) / 97]\r",
      "\r",
      "[Stage 131:======================>                                (40 + 8) / 97]\r"
     ]
    },
    {
     "name": "stderr",
     "output_type": "stream",
     "text": [
      "\r",
      "[Stage 131:==========================>                            (47 + 8) / 97]\r",
      "\r",
      "[Stage 131:===========================>                           (48 + 8) / 97]\r"
     ]
    },
    {
     "name": "stderr",
     "output_type": "stream",
     "text": [
      "\r",
      "[Stage 131:===============================>                       (55 + 8) / 97]\r",
      "\r",
      "[Stage 131:===============================>                       (56 + 8) / 97]\r"
     ]
    },
    {
     "name": "stderr",
     "output_type": "stream",
     "text": [
      "\r",
      "[Stage 131:=================================>                     (59 + 8) / 97]\r",
      "\r",
      "[Stage 131:====================================>                  (64 + 8) / 97]\r"
     ]
    },
    {
     "name": "stderr",
     "output_type": "stream",
     "text": [
      "\r",
      "[Stage 131:=======================================>               (69 + 8) / 97]\r",
      "\r",
      "[Stage 131:========================================>              (72 + 8) / 97]\r"
     ]
    },
    {
     "name": "stderr",
     "output_type": "stream",
     "text": [
      "\r",
      "[Stage 131:=========================================>             (73 + 8) / 97]\r",
      "\r",
      "[Stage 131:============================================>          (78 + 8) / 97]\r"
     ]
    },
    {
     "name": "stderr",
     "output_type": "stream",
     "text": [
      "\r",
      "[Stage 131:=============================================>         (80 + 8) / 97]\r"
     ]
    },
    {
     "name": "stderr",
     "output_type": "stream",
     "text": [
      "\r",
      "[Stage 131:=============================================>         (81 + 8) / 97]\r",
      "\r",
      "[Stage 131:================================================>      (86 + 8) / 97]\r"
     ]
    },
    {
     "name": "stderr",
     "output_type": "stream",
     "text": [
      "\r",
      "[Stage 131:=================================================>     (88 + 8) / 97]\r"
     ]
    },
    {
     "name": "stderr",
     "output_type": "stream",
     "text": [
      "\r",
      "[Stage 131:====================================================>  (93 + 4) / 97]\r",
      "\r",
      "[Stage 131:======================================================>(96 + 1) / 97]\r"
     ]
    },
    {
     "name": "stderr",
     "output_type": "stream",
     "text": [
      "\r",
      "                                                                                \r"
     ]
    },
    {
     "name": "stderr",
     "output_type": "stream",
     "text": [
      "\r",
      "[Stage 134:>                                                       (0 + 8) / 97]\r"
     ]
    },
    {
     "name": "stderr",
     "output_type": "stream",
     "text": [
      "\r",
      "[Stage 134:>                                                       (1 + 8) / 97]\r",
      "\r",
      "[Stage 134:====>                                                   (7 + 8) / 97]\r"
     ]
    },
    {
     "name": "stderr",
     "output_type": "stream",
     "text": [
      "\r",
      "[Stage 134:====>                                                   (8 + 8) / 97]\r"
     ]
    },
    {
     "name": "stderr",
     "output_type": "stream",
     "text": [
      "\r",
      "[Stage 134:=======>                                               (14 + 8) / 97]\r",
      "\r",
      "[Stage 134:=========>                                             (16 + 8) / 97]\r"
     ]
    },
    {
     "name": "stderr",
     "output_type": "stream",
     "text": [
      "\r",
      "[Stage 134:===========>                                           (20 + 8) / 97]\r",
      "\r",
      "[Stage 134:=============>                                         (24 + 8) / 97]\r"
     ]
    },
    {
     "name": "stderr",
     "output_type": "stream",
     "text": [
      "\r",
      "[Stage 134:===============>                                       (27 + 8) / 97]\r",
      "\r",
      "[Stage 134:=================>                                     (31 + 8) / 97]\r"
     ]
    },
    {
     "name": "stderr",
     "output_type": "stream",
     "text": [
      "\r",
      "[Stage 134:==================>                                    (32 + 8) / 97]\r"
     ]
    },
    {
     "name": "stderr",
     "output_type": "stream",
     "text": [
      "\r",
      "[Stage 134:=====================>                                 (38 + 8) / 97]\r",
      "\r",
      "[Stage 134:======================>                                (40 + 8) / 97]\r"
     ]
    },
    {
     "name": "stderr",
     "output_type": "stream",
     "text": [
      "\r",
      "[Stage 134:=======================>                               (42 + 8) / 97]\r",
      "\r",
      "[Stage 134:===========================>                           (48 + 8) / 97]\r"
     ]
    },
    {
     "name": "stderr",
     "output_type": "stream",
     "text": [
      "\r",
      "[Stage 134:===========================>                           (49 + 8) / 97]\r",
      "\r",
      "[Stage 134:===============================>                       (55 + 8) / 97]\r"
     ]
    },
    {
     "name": "stderr",
     "output_type": "stream",
     "text": [
      "\r",
      "[Stage 134:===============================>                       (56 + 8) / 97]\r"
     ]
    },
    {
     "name": "stderr",
     "output_type": "stream",
     "text": [
      "\r",
      "[Stage 134:=================================>                     (59 + 8) / 97]\r",
      "\r",
      "[Stage 134:===================================>                   (63 + 8) / 97]\r"
     ]
    },
    {
     "name": "stderr",
     "output_type": "stream",
     "text": [
      "\r",
      "[Stage 134:====================================>                  (64 + 8) / 97]\r"
     ]
    },
    {
     "name": "stderr",
     "output_type": "stream",
     "text": [
      "\r",
      "[Stage 134:=====================================>                 (66 + 8) / 97]\r",
      "\r",
      "[Stage 134:=======================================>               (69 + 8) / 97]\r"
     ]
    },
    {
     "name": "stderr",
     "output_type": "stream",
     "text": [
      "\r",
      "[Stage 134:========================================>              (72 + 8) / 97]\r"
     ]
    },
    {
     "name": "stderr",
     "output_type": "stream",
     "text": [
      "\r",
      "[Stage 134:===========================================>           (77 + 8) / 97]\r",
      "\r",
      "[Stage 134:============================================>          (78 + 8) / 97]\r"
     ]
    },
    {
     "name": "stderr",
     "output_type": "stream",
     "text": [
      "\r",
      "[Stage 134:=============================================>         (80 + 8) / 97]\r"
     ]
    },
    {
     "name": "stderr",
     "output_type": "stream",
     "text": [
      "\r",
      "[Stage 134:==============================================>        (82 + 8) / 97]\r",
      "\r",
      "[Stage 134:================================================>      (85 + 8) / 97]\r"
     ]
    },
    {
     "name": "stderr",
     "output_type": "stream",
     "text": [
      "\r",
      "[Stage 134:=================================================>     (88 + 8) / 97]\r"
     ]
    },
    {
     "name": "stderr",
     "output_type": "stream",
     "text": [
      "\r",
      "[Stage 134:====================================================>  (93 + 4) / 97]\r",
      "\r",
      "[Stage 134:======================================================>(96 + 1) / 97]\r"
     ]
    },
    {
     "name": "stderr",
     "output_type": "stream",
     "text": [
      "\r",
      "                                                                                \r"
     ]
    },
    {
     "name": "stderr",
     "output_type": "stream",
     "text": [
      "\r",
      "[Stage 137:>                                                       (0 + 8) / 97]\r"
     ]
    },
    {
     "name": "stderr",
     "output_type": "stream",
     "text": [
      "\r",
      "[Stage 137:====>                                                   (8 + 8) / 97]\r"
     ]
    },
    {
     "name": "stderr",
     "output_type": "stream",
     "text": [
      "\r",
      "[Stage 137:=======>                                               (14 + 8) / 97]\r",
      "\r",
      "[Stage 137:=========>                                             (16 + 8) / 97]\r"
     ]
    },
    {
     "name": "stderr",
     "output_type": "stream",
     "text": [
      "\r",
      "[Stage 137:============>                                          (22 + 8) / 97]\r",
      "\r",
      "[Stage 137:=============>                                         (24 + 8) / 97]\r"
     ]
    },
    {
     "name": "stderr",
     "output_type": "stream",
     "text": [
      "\r",
      "[Stage 137:================>                                      (29 + 8) / 97]\r",
      "\r",
      "[Stage 137:==================>                                    (32 + 8) / 97]\r"
     ]
    },
    {
     "name": "stderr",
     "output_type": "stream",
     "text": [
      "\r",
      "[Stage 137:==================>                                    (33 + 8) / 97]\r",
      "\r",
      "[Stage 137:======================>                                (40 + 8) / 97]\r"
     ]
    },
    {
     "name": "stderr",
     "output_type": "stream",
     "text": [
      "\r",
      "[Stage 137:=======================>                               (41 + 8) / 97]\r",
      "\r",
      "[Stage 137:=========================>                             (45 + 8) / 97]\r"
     ]
    },
    {
     "name": "stderr",
     "output_type": "stream",
     "text": [
      "\r",
      "[Stage 137:===========================>                           (48 + 8) / 97]\r"
     ]
    },
    {
     "name": "stderr",
     "output_type": "stream",
     "text": [
      "\r",
      "[Stage 137:============================>                          (50 + 8) / 97]\r",
      "\r",
      "[Stage 137:===============================>                       (56 + 8) / 97]\r"
     ]
    },
    {
     "name": "stderr",
     "output_type": "stream",
     "text": [
      "\r",
      "[Stage 137:===================================>                   (62 + 8) / 97]\r",
      "\r",
      "[Stage 137:====================================>                  (64 + 8) / 97]\r"
     ]
    },
    {
     "name": "stderr",
     "output_type": "stream",
     "text": [
      "\r",
      "[Stage 137:======================================>                (68 + 8) / 97]\r",
      "\r",
      "[Stage 137:========================================>              (72 + 8) / 97]\r"
     ]
    },
    {
     "name": "stderr",
     "output_type": "stream",
     "text": [
      "\r",
      "[Stage 137:============================================>          (79 + 8) / 97]\r",
      "\r",
      "[Stage 137:=============================================>         (80 + 8) / 97]\r"
     ]
    },
    {
     "name": "stderr",
     "output_type": "stream",
     "text": [
      "\r",
      "[Stage 137:==============================================>        (82 + 8) / 97]\r",
      "\r",
      "[Stage 137:=================================================>     (88 + 8) / 97]\r"
     ]
    },
    {
     "name": "stderr",
     "output_type": "stream",
     "text": [
      "\r",
      "[Stage 137:===================================================>   (90 + 7) / 97]\r",
      "\r",
      "[Stage 137:======================================================>(96 + 1) / 97]\r"
     ]
    },
    {
     "name": "stderr",
     "output_type": "stream",
     "text": [
      "\r",
      "                                                                                \r"
     ]
    },
    {
     "name": "stderr",
     "output_type": "stream",
     "text": [
      "\r",
      "[Stage 140:>                                                       (0 + 8) / 97]\r"
     ]
    },
    {
     "name": "stderr",
     "output_type": "stream",
     "text": [
      "\r",
      "[Stage 140:====>                                                   (8 + 8) / 97]\r"
     ]
    },
    {
     "name": "stderr",
     "output_type": "stream",
     "text": [
      "\r",
      "[Stage 140:========>                                              (15 + 8) / 97]\r",
      "\r",
      "[Stage 140:=========>                                             (16 + 8) / 97]\r"
     ]
    },
    {
     "name": "stderr",
     "output_type": "stream",
     "text": [
      "\r",
      "[Stage 140:=============>                                         (23 + 8) / 97]\r",
      "\r",
      "[Stage 140:=============>                                         (24 + 8) / 97]\r"
     ]
    },
    {
     "name": "stderr",
     "output_type": "stream",
     "text": [
      "\r",
      "[Stage 140:===============>                                       (27 + 8) / 97]\r",
      "\r",
      "[Stage 140:==================>                                    (32 + 8) / 97]\r"
     ]
    },
    {
     "name": "stderr",
     "output_type": "stream",
     "text": [
      "\r",
      "[Stage 140:======================>                                (40 + 8) / 97]\r"
     ]
    },
    {
     "name": "stderr",
     "output_type": "stream",
     "text": [
      "\r",
      "[Stage 140:========================>                              (44 + 8) / 97]\r"
     ]
    },
    {
     "name": "stderr",
     "output_type": "stream",
     "text": [
      "\r",
      "[Stage 140:===========================>                           (48 + 8) / 97]\r"
     ]
    },
    {
     "name": "stderr",
     "output_type": "stream",
     "text": [
      "\r",
      "[Stage 140:===============================>                       (55 + 8) / 97]\r",
      "\r",
      "[Stage 140:===============================>                       (56 + 8) / 97]\r"
     ]
    },
    {
     "name": "stderr",
     "output_type": "stream",
     "text": [
      "\r",
      "[Stage 140:==================================>                    (61 + 8) / 97]\r",
      "\r",
      "[Stage 140:===================================>                   (63 + 8) / 97]\r"
     ]
    },
    {
     "name": "stderr",
     "output_type": "stream",
     "text": [
      "\r",
      "[Stage 140:====================================>                  (64 + 8) / 97]\r"
     ]
    },
    {
     "name": "stderr",
     "output_type": "stream",
     "text": [
      "\r",
      "[Stage 140:========================================>              (71 + 8) / 97]\r",
      "\r",
      "[Stage 140:========================================>              (72 + 8) / 97]\r"
     ]
    },
    {
     "name": "stderr",
     "output_type": "stream",
     "text": [
      "\r",
      "[Stage 140:===========================================>           (77 + 8) / 97]\r",
      "\r",
      "[Stage 140:============================================>          (79 + 8) / 97]\r"
     ]
    },
    {
     "name": "stderr",
     "output_type": "stream",
     "text": [
      "\r",
      "[Stage 140:=============================================>         (80 + 8) / 97]\r"
     ]
    },
    {
     "name": "stderr",
     "output_type": "stream",
     "text": [
      "\r",
      "[Stage 140:=================================================>     (87 + 8) / 97]\r",
      "\r",
      "[Stage 140:=================================================>     (88 + 8) / 97]\r"
     ]
    },
    {
     "name": "stderr",
     "output_type": "stream",
     "text": [
      "\r",
      "[Stage 140:======================================================>(96 + 1) / 97]\r"
     ]
    },
    {
     "name": "stderr",
     "output_type": "stream",
     "text": [
      "\r",
      "                                                                                \r"
     ]
    },
    {
     "name": "stderr",
     "output_type": "stream",
     "text": [
      "\r",
      "[Stage 143:>                                                       (0 + 8) / 97]\r"
     ]
    },
    {
     "name": "stderr",
     "output_type": "stream",
     "text": [
      "\r",
      "[Stage 143:==>                                                     (4 + 8) / 97]\r",
      "\r",
      "[Stage 143:====>                                                   (8 + 8) / 97]\r"
     ]
    },
    {
     "name": "stderr",
     "output_type": "stream",
     "text": [
      "\r",
      "[Stage 143:========>                                              (15 + 8) / 97]\r",
      "\r",
      "[Stage 143:=========>                                             (16 + 8) / 97]\r"
     ]
    },
    {
     "name": "stderr",
     "output_type": "stream",
     "text": [
      "\r",
      "[Stage 143:============>                                          (22 + 8) / 97]\r",
      "\r",
      "[Stage 143:=============>                                         (24 + 8) / 97]\r"
     ]
    },
    {
     "name": "stderr",
     "output_type": "stream",
     "text": [
      "\r",
      "[Stage 143:===============>                                       (28 + 8) / 97]\r",
      "\r",
      "[Stage 143:==================>                                    (32 + 8) / 97]\r"
     ]
    },
    {
     "name": "stderr",
     "output_type": "stream",
     "text": [
      "\r",
      "[Stage 143:===================>                                   (34 + 8) / 97]\r",
      "\r",
      "[Stage 143:=====================>                                 (38 + 9) / 97]\r"
     ]
    },
    {
     "name": "stderr",
     "output_type": "stream",
     "text": [
      "\r",
      "[Stage 143:======================>                                (40 + 8) / 97]\r"
     ]
    },
    {
     "name": "stderr",
     "output_type": "stream",
     "text": [
      "\r",
      "[Stage 143:========================>                              (44 + 8) / 97]\r",
      "\r",
      "[Stage 143:==========================>                            (47 + 8) / 97]\r"
     ]
    },
    {
     "name": "stderr",
     "output_type": "stream",
     "text": [
      "\r",
      "[Stage 143:===========================>                           (48 + 8) / 97]\r"
     ]
    },
    {
     "name": "stderr",
     "output_type": "stream",
     "text": [
      "\r",
      "[Stage 143:============================>                          (50 + 8) / 97]\r",
      "\r",
      "[Stage 143:===============================>                       (55 + 8) / 97]\r"
     ]
    },
    {
     "name": "stderr",
     "output_type": "stream",
     "text": [
      "\r",
      "[Stage 143:===============================>                       (56 + 8) / 97]\r"
     ]
    },
    {
     "name": "stderr",
     "output_type": "stream",
     "text": [
      "\r",
      "[Stage 143:================================>                      (57 + 8) / 97]\r",
      "\r",
      "[Stage 143:==================================>                    (60 + 8) / 97]\r"
     ]
    },
    {
     "name": "stderr",
     "output_type": "stream",
     "text": [
      "\r",
      "[Stage 143:===================================>                   (63 + 8) / 97]\r",
      "\r",
      "[Stage 143:====================================>                  (64 + 8) / 97]\r"
     ]
    },
    {
     "name": "stderr",
     "output_type": "stream",
     "text": [
      "\r",
      "[Stage 143:=====================================>                 (67 + 8) / 97]\r",
      "\r",
      "[Stage 143:=======================================>               (70 + 8) / 97]\r"
     ]
    },
    {
     "name": "stderr",
     "output_type": "stream",
     "text": [
      "\r",
      "[Stage 143:========================================>              (72 + 8) / 97]\r"
     ]
    },
    {
     "name": "stderr",
     "output_type": "stream",
     "text": [
      "\r",
      "[Stage 143:===========================================>           (77 + 8) / 97]\r",
      "\r",
      "[Stage 143:============================================>          (79 + 8) / 97]\r"
     ]
    },
    {
     "name": "stderr",
     "output_type": "stream",
     "text": [
      "\r",
      "[Stage 143:=============================================>         (80 + 8) / 97]\r"
     ]
    },
    {
     "name": "stderr",
     "output_type": "stream",
     "text": [
      "\r",
      "[Stage 143:===============================================>       (84 + 8) / 97]\r",
      "\r",
      "[Stage 143:================================================>      (85 + 8) / 97]\r"
     ]
    },
    {
     "name": "stderr",
     "output_type": "stream",
     "text": [
      "\r",
      "[Stage 143:=================================================>     (88 + 8) / 97]\r"
     ]
    },
    {
     "name": "stderr",
     "output_type": "stream",
     "text": [
      "\r",
      "[Stage 143:===================================================>   (90 + 7) / 97]\r",
      "\r",
      "[Stage 143:======================================================>(96 + 1) / 97]\r"
     ]
    },
    {
     "name": "stderr",
     "output_type": "stream",
     "text": [
      "\r",
      "                                                                                \r"
     ]
    },
    {
     "name": "stderr",
     "output_type": "stream",
     "text": [
      "\r",
      "[Stage 146:>                                                       (0 + 8) / 97]\r"
     ]
    },
    {
     "name": "stderr",
     "output_type": "stream",
     "text": [
      "\r",
      "[Stage 146:===>                                                    (6 + 8) / 97]\r",
      "\r",
      "[Stage 146:====>                                                   (7 + 8) / 97]\r"
     ]
    },
    {
     "name": "stderr",
     "output_type": "stream",
     "text": [
      "\r",
      "[Stage 146:====>                                                   (8 + 8) / 97]\r"
     ]
    },
    {
     "name": "stderr",
     "output_type": "stream",
     "text": [
      "\r",
      "[Stage 146:=====>                                                  (9 + 8) / 97]\r",
      "\r",
      "[Stage 146:=======>                                               (14 + 8) / 97]\r"
     ]
    },
    {
     "name": "stderr",
     "output_type": "stream",
     "text": [
      "\r",
      "[Stage 146:========>                                              (15 + 8) / 97]\r",
      "\r",
      "[Stage 146:=========>                                             (16 + 8) / 97]\r"
     ]
    },
    {
     "name": "stderr",
     "output_type": "stream",
     "text": [
      "\r",
      "[Stage 146:============>                                          (22 + 8) / 97]\r",
      "\r",
      "[Stage 146:=============>                                         (23 + 8) / 97]\r"
     ]
    },
    {
     "name": "stderr",
     "output_type": "stream",
     "text": [
      "\r",
      "[Stage 146:=============>                                         (24 + 8) / 97]\r"
     ]
    },
    {
     "name": "stderr",
     "output_type": "stream",
     "text": [
      "\r",
      "[Stage 146:==============>                                        (26 + 8) / 97]\r",
      "\r",
      "[Stage 146:=================>                                     (30 + 8) / 97]\r"
     ]
    },
    {
     "name": "stderr",
     "output_type": "stream",
     "text": [
      "\r",
      "[Stage 146:==================>                                    (32 + 8) / 97]\r"
     ]
    },
    {
     "name": "stderr",
     "output_type": "stream",
     "text": [
      "\r",
      "[Stage 146:==================>                                    (33 + 8) / 97]\r"
     ]
    },
    {
     "name": "stderr",
     "output_type": "stream",
     "text": [
      "\r",
      "[Stage 146:====================>                                  (37 + 8) / 97]\r",
      "\r",
      "[Stage 146:======================>                                (39 + 8) / 97]\r"
     ]
    },
    {
     "name": "stderr",
     "output_type": "stream",
     "text": [
      "\r",
      "[Stage 146:======================>                                (40 + 8) / 97]\r"
     ]
    },
    {
     "name": "stderr",
     "output_type": "stream",
     "text": [
      "\r",
      "[Stage 146:=======================>                               (42 + 8) / 97]\r",
      "\r",
      "[Stage 146:=========================>                             (45 + 8) / 97]\r"
     ]
    },
    {
     "name": "stderr",
     "output_type": "stream",
     "text": [
      "\r",
      "[Stage 146:==========================>                            (47 + 8) / 97]\r",
      "\r",
      "[Stage 146:===========================>                           (48 + 8) / 97]\r"
     ]
    },
    {
     "name": "stderr",
     "output_type": "stream",
     "text": [
      "\r",
      "[Stage 146:============================>                          (51 + 8) / 97]\r",
      "\r",
      "[Stage 146:=============================>                         (52 + 8) / 97]\r"
     ]
    },
    {
     "name": "stderr",
     "output_type": "stream",
     "text": [
      "\r",
      "[Stage 146:===============================>                       (56 + 8) / 97]\r"
     ]
    },
    {
     "name": "stderr",
     "output_type": "stream",
     "text": [
      "\r",
      "[Stage 146:================================>                      (58 + 8) / 97]\r",
      "\r",
      "[Stage 146:==================================>                    (60 + 8) / 97]\r"
     ]
    },
    {
     "name": "stderr",
     "output_type": "stream",
     "text": [
      "\r",
      "[Stage 146:==================================>                    (61 + 8) / 97]\r",
      "\r",
      "[Stage 146:====================================>                  (64 + 8) / 97]\r"
     ]
    },
    {
     "name": "stderr",
     "output_type": "stream",
     "text": [
      "\r",
      "[Stage 146:======================================>                (68 + 8) / 97]\r"
     ]
    },
    {
     "name": "stderr",
     "output_type": "stream",
     "text": [
      "\r",
      "[Stage 146:========================================>              (71 + 8) / 97]\r",
      "\r",
      "[Stage 146:========================================>              (72 + 8) / 97]\r"
     ]
    },
    {
     "name": "stderr",
     "output_type": "stream",
     "text": [
      "\r",
      "[Stage 146:=========================================>             (73 + 8) / 97]\r",
      "\r",
      "[Stage 146:===========================================>           (76 + 8) / 97]\r"
     ]
    },
    {
     "name": "stderr",
     "output_type": "stream",
     "text": [
      "\r",
      "[Stage 146:===========================================>           (77 + 8) / 97]\r",
      "\r",
      "[Stage 146:=============================================>         (80 + 8) / 97]\r"
     ]
    },
    {
     "name": "stderr",
     "output_type": "stream",
     "text": [
      "\r",
      "[Stage 146:=============================================>         (81 + 8) / 97]\r",
      "\r",
      "[Stage 146:===============================================>       (84 + 8) / 97]\r"
     ]
    },
    {
     "name": "stderr",
     "output_type": "stream",
     "text": [
      "\r",
      "[Stage 146:================================================>      (85 + 8) / 97]\r",
      "\r",
      "[Stage 146:=================================================>     (87 + 8) / 97]\r"
     ]
    },
    {
     "name": "stderr",
     "output_type": "stream",
     "text": [
      "\r",
      "[Stage 146:=================================================>     (88 + 8) / 97]\r"
     ]
    },
    {
     "name": "stderr",
     "output_type": "stream",
     "text": [
      "\r",
      "[Stage 146:====================================================>  (92 + 5) / 97]\r",
      "\r",
      "[Stage 146:====================================================>  (93 + 4) / 97]\r"
     ]
    },
    {
     "name": "stderr",
     "output_type": "stream",
     "text": [
      "\r",
      "[Stage 146:=====================================================> (95 + 2) / 97]\r",
      "\r",
      "[Stage 146:======================================================>(96 + 1) / 97]\r"
     ]
    },
    {
     "name": "stderr",
     "output_type": "stream",
     "text": [
      "\r",
      "                                                                                \r"
     ]
    },
    {
     "name": "stderr",
     "output_type": "stream",
     "text": [
      "\r",
      "[Stage 149:>                                                       (0 + 8) / 97]\r"
     ]
    },
    {
     "name": "stderr",
     "output_type": "stream",
     "text": [
      "\r",
      "[Stage 149:====>                                                   (7 + 8) / 97]\r",
      "\r",
      "[Stage 149:====>                                                   (8 + 8) / 97]\r"
     ]
    },
    {
     "name": "stderr",
     "output_type": "stream",
     "text": [
      "\r",
      "[Stage 149:=======>                                               (13 + 8) / 97]\r",
      "\r",
      "[Stage 149:=========>                                             (16 + 8) / 97]\r"
     ]
    },
    {
     "name": "stderr",
     "output_type": "stream",
     "text": [
      "\r",
      "[Stage 149:============>                                          (22 + 8) / 97]\r",
      "\r",
      "[Stage 149:=============>                                         (24 + 8) / 97]\r"
     ]
    },
    {
     "name": "stderr",
     "output_type": "stream",
     "text": [
      "\r",
      "[Stage 149:==============>                                        (26 + 8) / 97]\r",
      "\r",
      "[Stage 149:==================>                                    (32 + 8) / 97]\r"
     ]
    },
    {
     "name": "stderr",
     "output_type": "stream",
     "text": [
      "\r",
      "[Stage 149:==================>                                    (33 + 8) / 97]\r",
      "\r",
      "[Stage 149:====================>                                  (37 + 8) / 97]\r"
     ]
    },
    {
     "name": "stderr",
     "output_type": "stream",
     "text": [
      "\r",
      "[Stage 149:======================>                                (39 + 8) / 97]\r",
      "\r",
      "[Stage 149:======================>                                (40 + 8) / 97]\r"
     ]
    },
    {
     "name": "stderr",
     "output_type": "stream",
     "text": [
      "\r",
      "[Stage 149:========================>                              (43 + 8) / 97]\r",
      "\r",
      "[Stage 149:==========================>                            (47 + 8) / 97]\r"
     ]
    },
    {
     "name": "stderr",
     "output_type": "stream",
     "text": [
      "\r",
      "[Stage 149:===========================>                           (48 + 8) / 97]\r"
     ]
    },
    {
     "name": "stderr",
     "output_type": "stream",
     "text": [
      "\r",
      "[Stage 149:===========================>                           (49 + 8) / 97]\r",
      "\r",
      "[Stage 149:==============================>                        (54 + 8) / 97]\r"
     ]
    },
    {
     "name": "stderr",
     "output_type": "stream",
     "text": [
      "\r",
      "[Stage 149:===============================>                       (56 + 8) / 97]\r"
     ]
    },
    {
     "name": "stderr",
     "output_type": "stream",
     "text": [
      "\r",
      "[Stage 149:=================================>                     (59 + 8) / 97]\r",
      "\r",
      "[Stage 149:====================================>                  (64 + 8) / 97]\r"
     ]
    },
    {
     "name": "stderr",
     "output_type": "stream",
     "text": [
      "\r",
      "[Stage 149:=====================================>                 (66 + 8) / 97]\r",
      "\r",
      "[Stage 149:======================================>                (68 + 8) / 97]\r"
     ]
    },
    {
     "name": "stderr",
     "output_type": "stream",
     "text": [
      "\r",
      "[Stage 149:========================================>              (72 + 8) / 97]\r"
     ]
    },
    {
     "name": "stderr",
     "output_type": "stream",
     "text": [
      "\r",
      "[Stage 149:==========================================>            (75 + 8) / 97]\r",
      "\r",
      "[Stage 149:============================================>          (79 + 8) / 97]\r"
     ]
    },
    {
     "name": "stderr",
     "output_type": "stream",
     "text": [
      "\r",
      "[Stage 149:=============================================>         (80 + 8) / 97]\r"
     ]
    },
    {
     "name": "stderr",
     "output_type": "stream",
     "text": [
      "\r",
      "[Stage 149:=============================================>         (81 + 8) / 97]\r",
      "\r",
      "[Stage 149:================================================>      (85 + 8) / 97]\r"
     ]
    },
    {
     "name": "stderr",
     "output_type": "stream",
     "text": [
      "\r",
      "[Stage 149:=================================================>     (88 + 8) / 97]\r"
     ]
    },
    {
     "name": "stderr",
     "output_type": "stream",
     "text": [
      "\r",
      "[Stage 149:==================================================>    (89 + 8) / 97]\r",
      "\r",
      "[Stage 149:====================================================>  (93 + 4) / 97]\r"
     ]
    },
    {
     "name": "stderr",
     "output_type": "stream",
     "text": [
      "\r",
      "[Stage 149:=====================================================> (95 + 2) / 97]\r",
      "\r",
      "[Stage 149:======================================================>(96 + 1) / 97]\r"
     ]
    },
    {
     "name": "stderr",
     "output_type": "stream",
     "text": [
      "\r",
      "                                                                                \r"
     ]
    },
    {
     "name": "stderr",
     "output_type": "stream",
     "text": [
      "\r",
      "[Stage 152:>                                                       (0 + 8) / 97]\r"
     ]
    },
    {
     "name": "stderr",
     "output_type": "stream",
     "text": [
      "\r",
      "[Stage 152:=>                                                      (2 + 8) / 97]\r",
      "\r",
      "[Stage 152:====>                                                   (8 + 8) / 97]\r"
     ]
    },
    {
     "name": "stderr",
     "output_type": "stream",
     "text": [
      "\r",
      "[Stage 152:=======>                                               (13 + 8) / 97]\r",
      "\r",
      "[Stage 152:=========>                                             (16 + 8) / 97]\r"
     ]
    },
    {
     "name": "stderr",
     "output_type": "stream",
     "text": [
      "\r",
      "[Stage 152:==========>                                            (18 + 8) / 97]\r",
      "\r",
      "[Stage 152:============>                                          (22 + 8) / 97]\r"
     ]
    },
    {
     "name": "stderr",
     "output_type": "stream",
     "text": [
      "\r",
      "[Stage 152:=============>                                         (24 + 8) / 97]\r"
     ]
    },
    {
     "name": "stderr",
     "output_type": "stream",
     "text": [
      "\r",
      "[Stage 152:===============>                                       (27 + 8) / 97]\r",
      "\r",
      "[Stage 152:=================>                                     (30 + 8) / 97]\r"
     ]
    },
    {
     "name": "stderr",
     "output_type": "stream",
     "text": [
      "\r",
      "[Stage 152:=================>                                     (31 + 8) / 97]\r",
      "\r",
      "[Stage 152:==================>                                    (32 + 8) / 97]\r"
     ]
    },
    {
     "name": "stderr",
     "output_type": "stream",
     "text": [
      "\r",
      "[Stage 152:===================>                                   (34 + 8) / 97]\r",
      "\r",
      "[Stage 152:=====================>                                 (38 + 8) / 97]\r"
     ]
    },
    {
     "name": "stderr",
     "output_type": "stream",
     "text": [
      "\r",
      "[Stage 152:======================>                                (39 + 8) / 97]\r",
      "\r",
      "[Stage 152:======================>                                (40 + 8) / 97]\r"
     ]
    },
    {
     "name": "stderr",
     "output_type": "stream",
     "text": [
      "\r",
      "[Stage 152:=======================>                               (42 + 8) / 97]\r",
      "\r",
      "[Stage 152:==========================>                            (46 + 8) / 97]\r"
     ]
    },
    {
     "name": "stderr",
     "output_type": "stream",
     "text": [
      "\r",
      "[Stage 152:===========================>                           (48 + 8) / 97]\r"
     ]
    },
    {
     "name": "stderr",
     "output_type": "stream",
     "text": [
      "\r",
      "[Stage 152:============================>                          (51 + 8) / 97]\r",
      "\r",
      "[Stage 152:===============================>                       (55 + 8) / 97]\r"
     ]
    },
    {
     "name": "stderr",
     "output_type": "stream",
     "text": [
      "\r",
      "[Stage 152:===============================>                       (56 + 8) / 97]\r"
     ]
    },
    {
     "name": "stderr",
     "output_type": "stream",
     "text": [
      "\r",
      "[Stage 152:================================>                      (58 + 8) / 97]\r",
      "\r",
      "[Stage 152:===================================>                   (62 + 8) / 97]\r"
     ]
    },
    {
     "name": "stderr",
     "output_type": "stream",
     "text": [
      "\r",
      "[Stage 152:====================================>                  (64 + 8) / 97]\r"
     ]
    },
    {
     "name": "stderr",
     "output_type": "stream",
     "text": [
      "\r",
      "[Stage 152:=====================================>                 (67 + 8) / 97]\r",
      "\r",
      "[Stage 152:========================================>              (71 + 8) / 97]\r"
     ]
    },
    {
     "name": "stderr",
     "output_type": "stream",
     "text": [
      "\r",
      "[Stage 152:========================================>              (72 + 8) / 97]\r"
     ]
    },
    {
     "name": "stderr",
     "output_type": "stream",
     "text": [
      "\r",
      "[Stage 152:==========================================>            (75 + 8) / 97]\r",
      "\r",
      "[Stage 152:============================================>          (79 + 8) / 97]\r"
     ]
    },
    {
     "name": "stderr",
     "output_type": "stream",
     "text": [
      "\r",
      "[Stage 152:=============================================>         (80 + 8) / 97]\r"
     ]
    },
    {
     "name": "stderr",
     "output_type": "stream",
     "text": [
      "\r",
      "[Stage 152:=============================================>         (81 + 8) / 97]\r",
      "\r",
      "[Stage 152:===============================================>       (84 + 8) / 97]\r"
     ]
    },
    {
     "name": "stderr",
     "output_type": "stream",
     "text": [
      "\r",
      "[Stage 152:=================================================>     (87 + 8) / 97]\r",
      "\r",
      "[Stage 152:=================================================>     (88 + 8) / 97]\r"
     ]
    },
    {
     "name": "stderr",
     "output_type": "stream",
     "text": [
      "\r",
      "[Stage 152:==================================================>    (89 + 8) / 97]\r",
      "\r",
      "[Stage 152:=====================================================> (94 + 3) / 97]\r"
     ]
    },
    {
     "name": "stderr",
     "output_type": "stream",
     "text": [
      "\r",
      "[Stage 152:======================================================>(96 + 1) / 97]\r"
     ]
    },
    {
     "name": "stderr",
     "output_type": "stream",
     "text": [
      "\r",
      "                                                                                \r"
     ]
    },
    {
     "name": "stderr",
     "output_type": "stream",
     "text": [
      "\r",
      "[Stage 155:>                                                       (0 + 8) / 97]\r"
     ]
    },
    {
     "name": "stderr",
     "output_type": "stream",
     "text": [
      "\r",
      "[Stage 155:====>                                                   (7 + 8) / 97]\r",
      "\r",
      "[Stage 155:====>                                                   (8 + 8) / 97]\r"
     ]
    },
    {
     "name": "stderr",
     "output_type": "stream",
     "text": [
      "\r",
      "[Stage 155:========>                                              (15 + 8) / 97]\r",
      "\r",
      "[Stage 155:=========>                                             (16 + 8) / 97]\r"
     ]
    },
    {
     "name": "stderr",
     "output_type": "stream",
     "text": [
      "\r",
      "[Stage 155:=============>                                         (23 + 8) / 97]\r"
     ]
    },
    {
     "name": "stderr",
     "output_type": "stream",
     "text": [
      "\r",
      "[Stage 155:=============>                                         (24 + 8) / 97]\r"
     ]
    },
    {
     "name": "stderr",
     "output_type": "stream",
     "text": [
      "\r",
      "[Stage 155:=================>                                     (31 + 8) / 97]\r",
      "\r",
      "[Stage 155:==================>                                    (32 + 8) / 97]\r"
     ]
    },
    {
     "name": "stderr",
     "output_type": "stream",
     "text": [
      "\r",
      "[Stage 155:======================>                                (39 + 8) / 97]\r",
      "\r",
      "[Stage 155:======================>                                (40 + 8) / 97]\r"
     ]
    },
    {
     "name": "stderr",
     "output_type": "stream",
     "text": [
      "\r",
      "[Stage 155:========================>                              (44 + 8) / 97]\r",
      "\r",
      "[Stage 155:==========================>                            (47 + 8) / 97]\r"
     ]
    },
    {
     "name": "stderr",
     "output_type": "stream",
     "text": [
      "\r",
      "[Stage 155:===========================>                           (48 + 8) / 97]\r"
     ]
    },
    {
     "name": "stderr",
     "output_type": "stream",
     "text": [
      "\r",
      "[Stage 155:==============================>                        (53 + 8) / 97]\r",
      "\r",
      "[Stage 155:===============================>                       (55 + 8) / 97]\r"
     ]
    },
    {
     "name": "stderr",
     "output_type": "stream",
     "text": [
      "\r",
      "[Stage 155:===============================>                       (56 + 8) / 97]\r"
     ]
    },
    {
     "name": "stderr",
     "output_type": "stream",
     "text": [
      "\r",
      "[Stage 155:==================================>                    (60 + 8) / 97]\r",
      "\r",
      "[Stage 155:===================================>                   (63 + 8) / 97]\r"
     ]
    },
    {
     "name": "stderr",
     "output_type": "stream",
     "text": [
      "\r",
      "[Stage 155:====================================>                  (64 + 8) / 97]\r"
     ]
    },
    {
     "name": "stderr",
     "output_type": "stream",
     "text": [
      "\r",
      "[Stage 155:====================================>                  (65 + 8) / 97]\r",
      "\r",
      "[Stage 155:=======================================>               (69 + 8) / 97]\r"
     ]
    },
    {
     "name": "stderr",
     "output_type": "stream",
     "text": [
      "\r",
      "[Stage 155:========================================>              (71 + 8) / 97]\r",
      "\r",
      "[Stage 155:========================================>              (72 + 8) / 97]\r"
     ]
    },
    {
     "name": "stderr",
     "output_type": "stream",
     "text": [
      "\r",
      "[Stage 155:=========================================>             (74 + 8) / 97]\r",
      "\r",
      "[Stage 155:===========================================>           (77 + 8) / 97]\r"
     ]
    },
    {
     "name": "stderr",
     "output_type": "stream",
     "text": [
      "\r",
      "[Stage 155:============================================>          (79 + 8) / 97]\r",
      "\r",
      "[Stage 155:=============================================>         (80 + 8) / 97]\r"
     ]
    },
    {
     "name": "stderr",
     "output_type": "stream",
     "text": [
      "\r",
      "[Stage 155:===============================================>       (84 + 8) / 97]\r",
      "\r",
      "[Stage 155:================================================>      (86 + 8) / 97]\r"
     ]
    },
    {
     "name": "stderr",
     "output_type": "stream",
     "text": [
      "\r",
      "[Stage 155:=================================================>     (87 + 8) / 97]\r"
     ]
    },
    {
     "name": "stderr",
     "output_type": "stream",
     "text": [
      "\r",
      "[Stage 155:=================================================>     (88 + 8) / 97]\r"
     ]
    },
    {
     "name": "stderr",
     "output_type": "stream",
     "text": [
      "\r",
      "[Stage 155:====================================================>  (92 + 5) / 97]\r",
      "\r",
      "[Stage 155:=====================================================> (95 + 2) / 97]\r"
     ]
    },
    {
     "name": "stderr",
     "output_type": "stream",
     "text": [
      "\r",
      "[Stage 155:======================================================>(96 + 1) / 97]\r",
      "\r",
      "                                                                                \r"
     ]
    },
    {
     "name": "stderr",
     "output_type": "stream",
     "text": [
      "\r",
      "[Stage 158:>                                                       (0 + 8) / 97]\r"
     ]
    },
    {
     "name": "stderr",
     "output_type": "stream",
     "text": [
      "\r",
      "[Stage 158:>                                                       (1 + 8) / 97]\r",
      "\r",
      "[Stage 158:====>                                                   (8 + 8) / 97]\r"
     ]
    },
    {
     "name": "stderr",
     "output_type": "stream",
     "text": [
      "\r",
      "[Stage 158:=======>                                               (14 + 8) / 97]\r",
      "\r",
      "[Stage 158:=========>                                             (16 + 8) / 97]\r"
     ]
    },
    {
     "name": "stderr",
     "output_type": "stream",
     "text": [
      "\r",
      "[Stage 158:=========>                                             (17 + 8) / 97]\r",
      "\r",
      "[Stage 158:=============>                                         (24 + 8) / 97]\r"
     ]
    },
    {
     "name": "stderr",
     "output_type": "stream",
     "text": [
      "\r",
      "[Stage 158:==============>                                        (26 + 8) / 97]\r",
      "\r",
      "[Stage 158:==================>                                    (32 + 8) / 97]\r"
     ]
    },
    {
     "name": "stderr",
     "output_type": "stream",
     "text": [
      "\r",
      "[Stage 158:=====================>                                 (38 + 8) / 97]\r",
      "\r",
      "[Stage 158:======================>                                (40 + 8) / 97]\r"
     ]
    },
    {
     "name": "stderr",
     "output_type": "stream",
     "text": [
      "\r",
      "[Stage 158:=======================>                               (41 + 8) / 97]\r",
      "\r",
      "[Stage 158:==========================>                            (46 + 8) / 97]\r"
     ]
    },
    {
     "name": "stderr",
     "output_type": "stream",
     "text": [
      "\r",
      "[Stage 158:===========================>                           (48 + 8) / 97]\r"
     ]
    },
    {
     "name": "stderr",
     "output_type": "stream",
     "text": [
      "\r",
      "[Stage 158:===============================>                       (55 + 8) / 97]\r",
      "\r",
      "[Stage 158:===============================>                       (56 + 8) / 97]\r"
     ]
    },
    {
     "name": "stderr",
     "output_type": "stream",
     "text": [
      "\r",
      "[Stage 158:==================================>                    (60 + 8) / 97]\r",
      "\r",
      "[Stage 158:====================================>                  (64 + 8) / 97]\r"
     ]
    },
    {
     "name": "stderr",
     "output_type": "stream",
     "text": [
      "\r",
      "[Stage 158:======================================>                (68 + 8) / 97]\r",
      "\r",
      "[Stage 158:========================================>              (72 + 8) / 97]\r"
     ]
    },
    {
     "name": "stderr",
     "output_type": "stream",
     "text": [
      "\r",
      "[Stage 158:===========================================>           (77 + 8) / 97]\r",
      "\r",
      "[Stage 158:=============================================>         (80 + 8) / 97]\r"
     ]
    },
    {
     "name": "stderr",
     "output_type": "stream",
     "text": [
      "\r",
      "[Stage 158:===============================================>       (83 + 8) / 97]\r",
      "\r",
      "[Stage 158:================================================>      (85 + 8) / 97]\r"
     ]
    },
    {
     "name": "stderr",
     "output_type": "stream",
     "text": [
      "\r",
      "[Stage 158:=================================================>     (88 + 8) / 97]\r"
     ]
    },
    {
     "name": "stderr",
     "output_type": "stream",
     "text": [
      "\r",
      "[Stage 158:====================================================>  (92 + 5) / 97]\r",
      "\r",
      "[Stage 158:======================================================>(96 + 1) / 97]\r"
     ]
    },
    {
     "name": "stderr",
     "output_type": "stream",
     "text": [
      "\r",
      "                                                                                \r"
     ]
    },
    {
     "name": "stderr",
     "output_type": "stream",
     "text": [
      "\r",
      "[Stage 161:>                                                       (0 + 8) / 97]\r"
     ]
    },
    {
     "name": "stderr",
     "output_type": "stream",
     "text": [
      "\r",
      "[Stage 161:====>                                                   (7 + 8) / 97]\r",
      "\r",
      "[Stage 161:====>                                                   (8 + 8) / 97]\r"
     ]
    },
    {
     "name": "stderr",
     "output_type": "stream",
     "text": [
      "\r",
      "[Stage 161:=========>                                             (16 + 8) / 97]\r"
     ]
    },
    {
     "name": "stderr",
     "output_type": "stream",
     "text": [
      "\r",
      "[Stage 161:===========>                                           (21 + 8) / 97]\r",
      "\r",
      "[Stage 161:=============>                                         (24 + 8) / 97]\r"
     ]
    },
    {
     "name": "stderr",
     "output_type": "stream",
     "text": [
      "\r",
      "[Stage 161:==============>                                        (25 + 8) / 97]\r",
      "\r",
      "[Stage 161:=================>                                     (30 + 8) / 97]\r"
     ]
    },
    {
     "name": "stderr",
     "output_type": "stream",
     "text": [
      "\r",
      "[Stage 161:==================>                                    (32 + 8) / 97]\r"
     ]
    },
    {
     "name": "stderr",
     "output_type": "stream",
     "text": [
      "\r",
      "[Stage 161:===================>                                   (34 + 8) / 97]\r",
      "\r",
      "[Stage 161:=====================>                                 (38 + 8) / 97]\r"
     ]
    },
    {
     "name": "stderr",
     "output_type": "stream",
     "text": [
      "\r",
      "[Stage 161:======================>                                (40 + 8) / 97]\r"
     ]
    },
    {
     "name": "stderr",
     "output_type": "stream",
     "text": [
      "\r",
      "[Stage 161:=======================>                               (42 + 8) / 97]\r",
      "\r",
      "[Stage 161:==========================>                            (47 + 8) / 97]\r"
     ]
    },
    {
     "name": "stderr",
     "output_type": "stream",
     "text": [
      "\r",
      "[Stage 161:===========================>                           (48 + 8) / 97]\r"
     ]
    },
    {
     "name": "stderr",
     "output_type": "stream",
     "text": [
      "\r",
      "[Stage 161:============================>                          (51 + 8) / 97]\r",
      "\r",
      "[Stage 161:===============================>                       (56 + 8) / 97]\r"
     ]
    },
    {
     "name": "stderr",
     "output_type": "stream",
     "text": [
      "\r",
      "[Stage 161:=================================>                     (59 + 8) / 97]\r",
      "\r",
      "[Stage 161:===================================>                   (63 + 8) / 97]\r"
     ]
    },
    {
     "name": "stderr",
     "output_type": "stream",
     "text": [
      "\r",
      "[Stage 161:====================================>                  (64 + 8) / 97]\r"
     ]
    },
    {
     "name": "stderr",
     "output_type": "stream",
     "text": [
      "\r",
      "[Stage 161:======================================>                (68 + 8) / 97]\r",
      "\r",
      "[Stage 161:========================================>              (71 + 8) / 97]\r"
     ]
    },
    {
     "name": "stderr",
     "output_type": "stream",
     "text": [
      "\r",
      "[Stage 161:========================================>              (72 + 8) / 97]\r"
     ]
    },
    {
     "name": "stderr",
     "output_type": "stream",
     "text": [
      "\r",
      "[Stage 161:===========================================>           (77 + 8) / 97]\r",
      "\r",
      "[Stage 161:============================================>          (78 + 8) / 97]\r"
     ]
    },
    {
     "name": "stderr",
     "output_type": "stream",
     "text": [
      "\r",
      "[Stage 161:=============================================>         (80 + 8) / 97]\r"
     ]
    },
    {
     "name": "stderr",
     "output_type": "stream",
     "text": [
      "\r",
      "[Stage 161:================================================>      (85 + 8) / 97]\r",
      "\r",
      "[Stage 161:================================================>      (86 + 8) / 97]\r"
     ]
    },
    {
     "name": "stderr",
     "output_type": "stream",
     "text": [
      "\r",
      "[Stage 161:=================================================>     (88 + 8) / 97]\r"
     ]
    },
    {
     "name": "stderr",
     "output_type": "stream",
     "text": [
      "\r",
      "[Stage 161:=====================================================> (94 + 3) / 97]\r",
      "\r",
      "[Stage 161:======================================================>(96 + 1) / 97]\r"
     ]
    },
    {
     "name": "stderr",
     "output_type": "stream",
     "text": [
      "\r",
      "                                                                                \r"
     ]
    },
    {
     "name": "stderr",
     "output_type": "stream",
     "text": [
      "\r",
      "[Stage 164:>                                                       (0 + 8) / 97]\r"
     ]
    },
    {
     "name": "stderr",
     "output_type": "stream",
     "text": [
      "\r",
      "[Stage 164:====>                                                   (8 + 8) / 97]\r"
     ]
    },
    {
     "name": "stderr",
     "output_type": "stream",
     "text": [
      "\r",
      "[Stage 164:=======>                                               (13 + 8) / 97]\r",
      "\r",
      "[Stage 164:=========>                                             (16 + 8) / 97]\r"
     ]
    },
    {
     "name": "stderr",
     "output_type": "stream",
     "text": [
      "\r",
      "[Stage 164:===========>                                           (20 + 8) / 97]\r",
      "\r",
      "[Stage 164:=============>                                         (24 + 8) / 97]\r"
     ]
    },
    {
     "name": "stderr",
     "output_type": "stream",
     "text": [
      "\r",
      "[Stage 164:================>                                      (29 + 8) / 97]\r",
      "\r",
      "[Stage 164:==================>                                    (32 + 8) / 97]\r"
     ]
    },
    {
     "name": "stderr",
     "output_type": "stream",
     "text": [
      "\r",
      "[Stage 164:====================>                                  (37 + 8) / 97]\r",
      "\r",
      "[Stage 164:======================>                                (39 + 8) / 97]\r"
     ]
    },
    {
     "name": "stderr",
     "output_type": "stream",
     "text": [
      "\r",
      "[Stage 164:======================>                                (40 + 8) / 97]\r"
     ]
    },
    {
     "name": "stderr",
     "output_type": "stream",
     "text": [
      "\r",
      "[Stage 164:=======================>                               (41 + 8) / 97]\r",
      "\r",
      "[Stage 164:=========================>                             (45 + 8) / 97]\r"
     ]
    },
    {
     "name": "stderr",
     "output_type": "stream",
     "text": [
      "\r",
      "[Stage 164:==========================>                            (47 + 8) / 97]\r",
      "\r",
      "[Stage 164:===========================>                           (48 + 8) / 97]\r"
     ]
    },
    {
     "name": "stderr",
     "output_type": "stream",
     "text": [
      "\r",
      "[Stage 164:==============================>                        (54 + 8) / 97]\r",
      "\r",
      "[Stage 164:===============================>                       (55 + 8) / 97]\r"
     ]
    },
    {
     "name": "stderr",
     "output_type": "stream",
     "text": [
      "\r",
      "[Stage 164:===============================>                       (56 + 8) / 97]\r"
     ]
    },
    {
     "name": "stderr",
     "output_type": "stream",
     "text": [
      "\r",
      "[Stage 164:===================================>                   (62 + 8) / 97]\r",
      "\r",
      "[Stage 164:====================================>                  (64 + 8) / 97]\r"
     ]
    },
    {
     "name": "stderr",
     "output_type": "stream",
     "text": [
      "\r",
      "[Stage 164:====================================>                  (65 + 8) / 97]\r",
      "\r",
      "[Stage 164:=======================================>               (70 + 8) / 97]\r"
     ]
    },
    {
     "name": "stderr",
     "output_type": "stream",
     "text": [
      "\r",
      "[Stage 164:========================================>              (71 + 8) / 97]\r",
      "\r",
      "[Stage 164:========================================>              (72 + 8) / 97]\r"
     ]
    },
    {
     "name": "stderr",
     "output_type": "stream",
     "text": [
      "\r",
      "[Stage 164:=========================================>             (73 + 8) / 97]\r",
      "\r",
      "[Stage 164:============================================>          (78 + 8) / 97]\r"
     ]
    },
    {
     "name": "stderr",
     "output_type": "stream",
     "text": [
      "\r",
      "[Stage 164:=============================================>         (80 + 8) / 97]\r"
     ]
    },
    {
     "name": "stderr",
     "output_type": "stream",
     "text": [
      "\r",
      "[Stage 164:===============================================>       (83 + 8) / 97]\r",
      "\r",
      "[Stage 164:================================================>      (86 + 8) / 97]\r"
     ]
    },
    {
     "name": "stderr",
     "output_type": "stream",
     "text": [
      "\r",
      "[Stage 164:=================================================>     (88 + 8) / 97]\r"
     ]
    },
    {
     "name": "stderr",
     "output_type": "stream",
     "text": [
      "\r",
      "[Stage 164:===================================================>   (90 + 7) / 97]\r",
      "\r",
      "[Stage 164:=====================================================> (94 + 3) / 97]\r"
     ]
    },
    {
     "name": "stderr",
     "output_type": "stream",
     "text": [
      "\r",
      "[Stage 164:======================================================>(96 + 1) / 97]\r"
     ]
    },
    {
     "name": "stderr",
     "output_type": "stream",
     "text": [
      "\r",
      "                                                                                \r"
     ]
    },
    {
     "name": "stderr",
     "output_type": "stream",
     "text": [
      "\r",
      "[Stage 167:>                                                       (0 + 8) / 97]\r"
     ]
    },
    {
     "name": "stderr",
     "output_type": "stream",
     "text": [
      "\r",
      "[Stage 167:=>                                                      (3 + 8) / 97]\r",
      "\r",
      "[Stage 167:====>                                                   (7 + 8) / 97]\r"
     ]
    },
    {
     "name": "stderr",
     "output_type": "stream",
     "text": [
      "\r",
      "[Stage 167:====>                                                   (8 + 8) / 97]\r"
     ]
    },
    {
     "name": "stderr",
     "output_type": "stream",
     "text": [
      "\r",
      "[Stage 167:======>                                                (11 + 8) / 97]\r",
      "\r",
      "[Stage 167:========>                                              (15 + 8) / 97]\r"
     ]
    },
    {
     "name": "stderr",
     "output_type": "stream",
     "text": [
      "\r",
      "[Stage 167:=========>                                             (16 + 8) / 97]\r"
     ]
    },
    {
     "name": "stderr",
     "output_type": "stream",
     "text": [
      "\r",
      "[Stage 167:===========>                                           (20 + 8) / 97]\r",
      "\r",
      "[Stage 167:=============>                                         (23 + 8) / 97]\r"
     ]
    },
    {
     "name": "stderr",
     "output_type": "stream",
     "text": [
      "\r",
      "[Stage 167:=============>                                         (24 + 8) / 97]\r"
     ]
    },
    {
     "name": "stderr",
     "output_type": "stream",
     "text": [
      "\r",
      "[Stage 167:==============>                                        (25 + 8) / 97]\r",
      "\r",
      "[Stage 167:===============>                                       (27 + 9) / 97]\r"
     ]
    },
    {
     "name": "stderr",
     "output_type": "stream",
     "text": [
      "\r",
      "[Stage 167:=================>                                     (31 + 8) / 97]\r",
      "\r",
      "[Stage 167:==================>                                    (32 + 8) / 97]\r"
     ]
    },
    {
     "name": "stderr",
     "output_type": "stream",
     "text": [
      "\r",
      "[Stage 167:==================>                                    (33 + 8) / 97]\r",
      "\r",
      "[Stage 167:====================>                                  (37 + 8) / 97]\r"
     ]
    },
    {
     "name": "stderr",
     "output_type": "stream",
     "text": [
      "\r",
      "[Stage 167:======================>                                (40 + 8) / 97]\r"
     ]
    },
    {
     "name": "stderr",
     "output_type": "stream",
     "text": [
      "\r",
      "[Stage 167:=======================>                               (41 + 8) / 97]\r",
      "\r",
      "[Stage 167:=========================>                             (45 + 8) / 97]\r"
     ]
    },
    {
     "name": "stderr",
     "output_type": "stream",
     "text": [
      "\r",
      "[Stage 167:==========================>                            (47 + 8) / 97]\r",
      "\r",
      "[Stage 167:===========================>                           (48 + 8) / 97]\r"
     ]
    },
    {
     "name": "stderr",
     "output_type": "stream",
     "text": [
      "\r",
      "[Stage 167:===========================>                           (49 + 8) / 97]\r",
      "\r",
      "[Stage 167:=============================>                         (52 + 8) / 97]\r"
     ]
    },
    {
     "name": "stderr",
     "output_type": "stream",
     "text": [
      "\r",
      "[Stage 167:===============================>                       (55 + 8) / 97]\r"
     ]
    },
    {
     "name": "stderr",
     "output_type": "stream",
     "text": [
      "\r",
      "[Stage 167:===============================>                       (56 + 8) / 97]\r"
     ]
    },
    {
     "name": "stderr",
     "output_type": "stream",
     "text": [
      "\r",
      "[Stage 167:================================>                      (58 + 8) / 97]\r",
      "\r",
      "[Stage 167:===================================>                   (63 + 8) / 97]\r"
     ]
    },
    {
     "name": "stderr",
     "output_type": "stream",
     "text": [
      "\r",
      "[Stage 167:====================================>                  (64 + 8) / 97]\r"
     ]
    },
    {
     "name": "stderr",
     "output_type": "stream",
     "text": [
      "\r",
      "[Stage 167:====================================>                  (65 + 8) / 97]\r",
      "\r",
      "[Stage 167:=======================================>               (70 + 8) / 97]\r"
     ]
    },
    {
     "name": "stderr",
     "output_type": "stream",
     "text": [
      "\r",
      "[Stage 167:========================================>              (71 + 8) / 97]\r",
      "\r",
      "[Stage 167:========================================>              (72 + 8) / 97]\r"
     ]
    },
    {
     "name": "stderr",
     "output_type": "stream",
     "text": [
      "\r",
      "[Stage 167:=========================================>             (73 + 8) / 97]\r",
      "\r",
      "[Stage 167:==========================================>            (75 + 8) / 97]\r"
     ]
    },
    {
     "name": "stderr",
     "output_type": "stream",
     "text": [
      "\r",
      "[Stage 167:===========================================>           (77 + 8) / 97]\r",
      "\r",
      "[Stage 167:============================================>          (78 + 8) / 97]\r"
     ]
    },
    {
     "name": "stderr",
     "output_type": "stream",
     "text": [
      "\r",
      "[Stage 167:=============================================>         (80 + 8) / 97]\r"
     ]
    },
    {
     "name": "stderr",
     "output_type": "stream",
     "text": [
      "\r",
      "[Stage 167:==============================================>        (82 + 8) / 97]\r",
      "\r",
      "[Stage 167:================================================>      (85 + 8) / 97]\r"
     ]
    },
    {
     "name": "stderr",
     "output_type": "stream",
     "text": [
      "\r",
      "[Stage 167:================================================>      (86 + 8) / 97]\r",
      "\r",
      "[Stage 167:=================================================>     (87 + 8) / 97]\r"
     ]
    },
    {
     "name": "stderr",
     "output_type": "stream",
     "text": [
      "\r",
      "[Stage 167:=================================================>     (88 + 8) / 97]\r"
     ]
    },
    {
     "name": "stderr",
     "output_type": "stream",
     "text": [
      "\r",
      "[Stage 167:===================================================>   (90 + 7) / 97]\r",
      "\r",
      "[Stage 167:====================================================>  (93 + 4) / 97]\r"
     ]
    },
    {
     "name": "stderr",
     "output_type": "stream",
     "text": [
      "\r",
      "[Stage 167:=====================================================> (95 + 2) / 97]\r",
      "\r",
      "[Stage 167:======================================================>(96 + 1) / 97]\r"
     ]
    },
    {
     "name": "stderr",
     "output_type": "stream",
     "text": [
      "\r",
      "                                                                                \r"
     ]
    },
    {
     "name": "stderr",
     "output_type": "stream",
     "text": [
      "\r",
      "[Stage 170:>                                                       (0 + 8) / 97]\r"
     ]
    },
    {
     "name": "stderr",
     "output_type": "stream",
     "text": [
      "\r",
      "[Stage 170:====>                                                   (8 + 8) / 97]\r"
     ]
    },
    {
     "name": "stderr",
     "output_type": "stream",
     "text": [
      "\r",
      "[Stage 170:=======>                                               (13 + 8) / 97]\r",
      "\r",
      "[Stage 170:=========>                                             (16 + 8) / 97]\r"
     ]
    },
    {
     "name": "stderr",
     "output_type": "stream",
     "text": [
      "\r",
      "[Stage 170:==========>                                            (18 + 8) / 97]\r",
      "\r",
      "[Stage 170:=============>                                         (23 + 8) / 97]\r"
     ]
    },
    {
     "name": "stderr",
     "output_type": "stream",
     "text": [
      "\r",
      "[Stage 170:=============>                                         (24 + 8) / 97]\r"
     ]
    },
    {
     "name": "stderr",
     "output_type": "stream",
     "text": [
      "\r",
      "[Stage 170:==============>                                        (26 + 8) / 97]\r"
     ]
    },
    {
     "name": "stderr",
     "output_type": "stream",
     "text": [
      "\r",
      "[Stage 170:=================>                                     (30 + 8) / 97]\r",
      "\r",
      "[Stage 170:=================>                                     (31 + 8) / 97]\r"
     ]
    },
    {
     "name": "stderr",
     "output_type": "stream",
     "text": [
      "\r",
      "[Stage 170:==================>                                    (32 + 8) / 97]\r"
     ]
    },
    {
     "name": "stderr",
     "output_type": "stream",
     "text": [
      "\r",
      "[Stage 170:==================>                                    (33 + 8) / 97]\r",
      "\r",
      "[Stage 170:=====================>                                 (38 + 8) / 97]\r"
     ]
    },
    {
     "name": "stderr",
     "output_type": "stream",
     "text": [
      "\r",
      "[Stage 170:======================>                                (39 + 8) / 97]\r",
      "\r",
      "[Stage 170:======================>                                (40 + 8) / 97]\r"
     ]
    },
    {
     "name": "stderr",
     "output_type": "stream",
     "text": [
      "\r",
      "[Stage 170:=======================>                               (41 + 8) / 97]\r",
      "\r",
      "[Stage 170:========================>                              (44 + 8) / 97]\r"
     ]
    },
    {
     "name": "stderr",
     "output_type": "stream",
     "text": [
      "\r",
      "[Stage 170:==========================>                            (46 + 8) / 97]\r",
      "\r",
      "[Stage 170:==========================>                            (47 + 8) / 97]\r"
     ]
    },
    {
     "name": "stderr",
     "output_type": "stream",
     "text": [
      "\r",
      "[Stage 170:===========================>                           (48 + 8) / 97]\r"
     ]
    },
    {
     "name": "stderr",
     "output_type": "stream",
     "text": [
      "\r",
      "[Stage 170:============================>                          (50 + 8) / 97]\r",
      "\r",
      "[Stage 170:==============================>                        (53 + 8) / 97]\r"
     ]
    },
    {
     "name": "stderr",
     "output_type": "stream",
     "text": [
      "\r",
      "[Stage 170:===============================>                       (55 + 8) / 97]\r"
     ]
    },
    {
     "name": "stderr",
     "output_type": "stream",
     "text": [
      "\r",
      "[Stage 170:===============================>                       (56 + 8) / 97]\r"
     ]
    },
    {
     "name": "stderr",
     "output_type": "stream",
     "text": [
      "\r",
      "[Stage 170:================================>                      (57 + 8) / 97]\r",
      "\r",
      "[Stage 170:=================================>                     (59 + 8) / 97]\r"
     ]
    },
    {
     "name": "stderr",
     "output_type": "stream",
     "text": [
      "\r",
      "[Stage 170:==================================>                    (61 + 8) / 97]\r",
      "\r",
      "[Stage 170:===================================>                   (63 + 8) / 97]\r"
     ]
    },
    {
     "name": "stderr",
     "output_type": "stream",
     "text": [
      "\r",
      "[Stage 170:====================================>                  (64 + 8) / 97]\r"
     ]
    },
    {
     "name": "stderr",
     "output_type": "stream",
     "text": [
      "\r",
      "[Stage 170:====================================>                  (65 + 8) / 97]\r",
      "\r",
      "[Stage 170:=====================================>                 (66 + 8) / 97]\r"
     ]
    },
    {
     "name": "stderr",
     "output_type": "stream",
     "text": [
      "\r",
      "[Stage 170:======================================>                (68 + 8) / 97]\r",
      "\r",
      "[Stage 170:=======================================>               (70 + 8) / 97]\r"
     ]
    },
    {
     "name": "stderr",
     "output_type": "stream",
     "text": [
      "\r",
      "[Stage 170:========================================>              (71 + 8) / 97]\r",
      "\r",
      "[Stage 170:========================================>              (72 + 8) / 97]\r"
     ]
    },
    {
     "name": "stderr",
     "output_type": "stream",
     "text": [
      "\r",
      "[Stage 170:=========================================>             (74 + 8) / 97]\r",
      "\r",
      "[Stage 170:==========================================>            (75 + 8) / 97]\r"
     ]
    },
    {
     "name": "stderr",
     "output_type": "stream",
     "text": [
      "\r",
      "[Stage 170:============================================>          (78 + 8) / 97]\r"
     ]
    },
    {
     "name": "stderr",
     "output_type": "stream",
     "text": [
      "\r",
      "[Stage 170:============================================>          (79 + 8) / 97]\r",
      "\r",
      "[Stage 170:=============================================>         (80 + 8) / 97]\r"
     ]
    },
    {
     "name": "stderr",
     "output_type": "stream",
     "text": [
      "\r",
      "[Stage 170:=============================================>         (81 + 8) / 97]\r"
     ]
    },
    {
     "name": "stderr",
     "output_type": "stream",
     "text": [
      "\r",
      "[Stage 170:===============================================>       (83 + 8) / 97]\r",
      "\r",
      "[Stage 170:================================================>      (85 + 8) / 97]\r"
     ]
    },
    {
     "name": "stderr",
     "output_type": "stream",
     "text": [
      "\r",
      "[Stage 170:================================================>      (86 + 8) / 97]\r",
      "\r",
      "[Stage 170:=================================================>     (87 + 8) / 97]\r"
     ]
    },
    {
     "name": "stderr",
     "output_type": "stream",
     "text": [
      "\r",
      "[Stage 170:=================================================>     (88 + 8) / 97]\r"
     ]
    },
    {
     "name": "stderr",
     "output_type": "stream",
     "text": [
      "\r",
      "[Stage 170:==================================================>    (89 + 8) / 97]\r",
      "\r",
      "[Stage 170:===================================================>   (91 + 6) / 97]\r"
     ]
    },
    {
     "name": "stderr",
     "output_type": "stream",
     "text": [
      "\r",
      "[Stage 170:=====================================================> (94 + 3) / 97]\r",
      "\r",
      "[Stage 170:=====================================================> (95 + 2) / 97]\r"
     ]
    },
    {
     "name": "stderr",
     "output_type": "stream",
     "text": [
      "\r",
      "                                                                                \r"
     ]
    },
    {
     "name": "stderr",
     "output_type": "stream",
     "text": [
      "\r",
      "[Stage 173:>                                                       (0 + 8) / 97]\r"
     ]
    },
    {
     "name": "stderr",
     "output_type": "stream",
     "text": [
      "\r",
      "[Stage 173:====>                                                   (8 + 8) / 97]\r"
     ]
    },
    {
     "name": "stderr",
     "output_type": "stream",
     "text": [
      "\r",
      "[Stage 173:=====>                                                 (10 + 8) / 97]\r",
      "\r",
      "[Stage 173:========>                                              (15 + 8) / 97]\r"
     ]
    },
    {
     "name": "stderr",
     "output_type": "stream",
     "text": [
      "\r",
      "[Stage 173:=========>                                             (16 + 8) / 97]\r"
     ]
    },
    {
     "name": "stderr",
     "output_type": "stream",
     "text": [
      "\r",
      "[Stage 173:===========>                                           (20 + 8) / 97]\r",
      "\r",
      "[Stage 173:=============>                                         (23 + 8) / 97]\r"
     ]
    },
    {
     "name": "stderr",
     "output_type": "stream",
     "text": [
      "\r",
      "[Stage 173:=============>                                         (24 + 8) / 97]\r"
     ]
    },
    {
     "name": "stderr",
     "output_type": "stream",
     "text": [
      "\r",
      "[Stage 173:=================>                                     (30 + 8) / 97]\r",
      "\r",
      "[Stage 173:==================>                                    (32 + 8) / 97]\r"
     ]
    },
    {
     "name": "stderr",
     "output_type": "stream",
     "text": [
      "\r",
      "[Stage 173:====================>                                  (36 + 8) / 97]\r",
      "\r",
      "[Stage 173:======================>                                (39 + 8) / 97]\r"
     ]
    },
    {
     "name": "stderr",
     "output_type": "stream",
     "text": [
      "\r",
      "[Stage 173:======================>                                (40 + 8) / 97]\r"
     ]
    },
    {
     "name": "stderr",
     "output_type": "stream",
     "text": [
      "\r",
      "[Stage 173:=======================>                               (41 + 8) / 97]\r",
      "\r",
      "[Stage 173:==========================>                            (46 + 8) / 97]\r"
     ]
    },
    {
     "name": "stderr",
     "output_type": "stream",
     "text": [
      "\r",
      "[Stage 173:===========================>                           (48 + 8) / 97]\r"
     ]
    },
    {
     "name": "stderr",
     "output_type": "stream",
     "text": [
      "\r",
      "[Stage 173:=============================>                         (52 + 8) / 97]\r",
      "\r",
      "[Stage 173:==============================>                        (54 + 8) / 97]\r"
     ]
    },
    {
     "name": "stderr",
     "output_type": "stream",
     "text": [
      "\r",
      "[Stage 173:===============================>                       (56 + 8) / 97]\r"
     ]
    },
    {
     "name": "stderr",
     "output_type": "stream",
     "text": [
      "\r",
      "[Stage 173:================================>                      (57 + 8) / 97]\r",
      "\r",
      "[Stage 173:==================================>                    (61 + 8) / 97]\r"
     ]
    },
    {
     "name": "stderr",
     "output_type": "stream",
     "text": [
      "\r",
      "[Stage 173:===================================>                   (62 + 8) / 97]\r",
      "\r",
      "[Stage 173:====================================>                  (64 + 8) / 97]\r"
     ]
    },
    {
     "name": "stderr",
     "output_type": "stream",
     "text": [
      "\r",
      "[Stage 173:=====================================>                 (67 + 8) / 97]\r",
      "\r",
      "[Stage 173:=======================================>               (69 + 8) / 97]\r"
     ]
    },
    {
     "name": "stderr",
     "output_type": "stream",
     "text": [
      "\r",
      "[Stage 173:========================================>              (72 + 8) / 97]\r"
     ]
    },
    {
     "name": "stderr",
     "output_type": "stream",
     "text": [
      "\r",
      "[Stage 173:==========================================>            (75 + 8) / 97]\r",
      "\r",
      "[Stage 173:============================================>          (78 + 8) / 97]\r"
     ]
    },
    {
     "name": "stderr",
     "output_type": "stream",
     "text": [
      "\r",
      "[Stage 173:============================================>          (79 + 8) / 97]\r",
      "\r",
      "[Stage 173:=============================================>         (80 + 8) / 97]\r"
     ]
    },
    {
     "name": "stderr",
     "output_type": "stream",
     "text": [
      "\r",
      "[Stage 173:=============================================>         (81 + 8) / 97]\r",
      "\r",
      "[Stage 173:==============================================>        (82 + 8) / 97]\r"
     ]
    },
    {
     "name": "stderr",
     "output_type": "stream",
     "text": [
      "\r",
      "[Stage 173:================================================>      (85 + 8) / 97]\r",
      "\r",
      "[Stage 173:================================================>      (86 + 8) / 97]\r"
     ]
    },
    {
     "name": "stderr",
     "output_type": "stream",
     "text": [
      "\r",
      "[Stage 173:=================================================>     (87 + 8) / 97]\r",
      "\r",
      "[Stage 173:=================================================>     (88 + 8) / 97]\r"
     ]
    },
    {
     "name": "stderr",
     "output_type": "stream",
     "text": [
      "\r",
      "[Stage 173:==================================================>    (89 + 8) / 97]\r",
      "\r",
      "[Stage 173:===================================================>   (90 + 7) / 97]\r"
     ]
    },
    {
     "name": "stderr",
     "output_type": "stream",
     "text": [
      "\r",
      "[Stage 173:====================================================>  (92 + 5) / 97]\r",
      "\r",
      "[Stage 173:=====================================================> (95 + 2) / 97]\r"
     ]
    },
    {
     "name": "stderr",
     "output_type": "stream",
     "text": [
      "\r",
      "                                                                                \r"
     ]
    },
    {
     "name": "stderr",
     "output_type": "stream",
     "text": [
      "\r",
      "[Stage 176:>                                                       (0 + 8) / 97]\r"
     ]
    },
    {
     "name": "stderr",
     "output_type": "stream",
     "text": [
      "\r",
      "[Stage 176:==>                                                     (5 + 8) / 97]\r",
      "\r",
      "[Stage 176:====>                                                   (8 + 8) / 97]\r"
     ]
    },
    {
     "name": "stderr",
     "output_type": "stream",
     "text": [
      "\r",
      "[Stage 176:======>                                                (11 + 8) / 97]\r",
      "\r",
      "[Stage 176:======>                                                (12 + 8) / 97]\r"
     ]
    },
    {
     "name": "stderr",
     "output_type": "stream",
     "text": [
      "\r",
      "[Stage 176:========>                                              (15 + 8) / 97]\r",
      "\r",
      "[Stage 176:=========>                                             (16 + 8) / 97]\r"
     ]
    },
    {
     "name": "stderr",
     "output_type": "stream",
     "text": [
      "\r",
      "[Stage 176:=========>                                             (17 + 8) / 97]\r",
      "\r",
      "[Stage 176:==========>                                            (18 + 8) / 97]\r"
     ]
    },
    {
     "name": "stderr",
     "output_type": "stream",
     "text": [
      "\r",
      "[Stage 176:===========>                                           (21 + 8) / 97]\r",
      "\r",
      "[Stage 176:=============>                                         (23 + 8) / 97]\r"
     ]
    },
    {
     "name": "stderr",
     "output_type": "stream",
     "text": [
      "\r",
      "[Stage 176:=============>                                         (24 + 8) / 97]\r"
     ]
    },
    {
     "name": "stderr",
     "output_type": "stream",
     "text": [
      "\r",
      "[Stage 176:==============>                                        (25 + 8) / 97]\r",
      "\r",
      "[Stage 176:==============>                                        (26 + 8) / 97]\r"
     ]
    },
    {
     "name": "stderr",
     "output_type": "stream",
     "text": [
      "\r",
      "[Stage 176:===============>                                       (28 + 8) / 97]\r",
      "\r",
      "[Stage 176:==================>                                    (32 + 8) / 97]\r"
     ]
    },
    {
     "name": "stderr",
     "output_type": "stream",
     "text": [
      "\r",
      "[Stage 176:===================>                                   (35 + 8) / 97]\r",
      "\r",
      "[Stage 176:====================>                                  (37 + 8) / 97]\r"
     ]
    },
    {
     "name": "stderr",
     "output_type": "stream",
     "text": [
      "\r",
      "[Stage 176:=====================>                                 (38 + 8) / 97]\r",
      "\r",
      "[Stage 176:======================>                                (40 + 8) / 97]\r"
     ]
    },
    {
     "name": "stderr",
     "output_type": "stream",
     "text": [
      "\r",
      "[Stage 176:=======================>                               (41 + 8) / 97]\r"
     ]
    },
    {
     "name": "stderr",
     "output_type": "stream",
     "text": [
      "\r",
      "[Stage 176:========================>                              (43 + 8) / 97]\r",
      "\r",
      "[Stage 176:=========================>                             (45 + 8) / 97]\r"
     ]
    },
    {
     "name": "stderr",
     "output_type": "stream",
     "text": [
      "\r",
      "[Stage 176:==========================>                            (47 + 8) / 97]\r"
     ]
    },
    {
     "name": "stderr",
     "output_type": "stream",
     "text": [
      "\r",
      "[Stage 176:===========================>                           (48 + 8) / 97]\r"
     ]
    },
    {
     "name": "stderr",
     "output_type": "stream",
     "text": [
      "\r",
      "[Stage 176:===========================>                           (49 + 8) / 97]\r",
      "\r",
      "[Stage 176:============================>                          (50 + 8) / 97]\r"
     ]
    },
    {
     "name": "stderr",
     "output_type": "stream",
     "text": [
      "\r",
      "[Stage 176:==============================>                        (54 + 8) / 97]\r"
     ]
    },
    {
     "name": "stderr",
     "output_type": "stream",
     "text": [
      "\r",
      "[Stage 176:===============================>                       (55 + 8) / 97]\r",
      "\r",
      "[Stage 176:===============================>                       (56 + 8) / 97]\r"
     ]
    },
    {
     "name": "stderr",
     "output_type": "stream",
     "text": [
      "\r",
      "[Stage 176:================================>                      (58 + 8) / 97]\r",
      "\r",
      "[Stage 176:==================================>                    (60 + 8) / 97]\r"
     ]
    },
    {
     "name": "stderr",
     "output_type": "stream",
     "text": [
      "\r",
      "[Stage 176:==================================>                    (61 + 8) / 97]\r"
     ]
    },
    {
     "name": "stderr",
     "output_type": "stream",
     "text": [
      "\r",
      "[Stage 176:===================================>                   (62 + 8) / 97]\r",
      "\r",
      "[Stage 176:===================================>                   (63 + 8) / 97]\r"
     ]
    },
    {
     "name": "stderr",
     "output_type": "stream",
     "text": [
      "\r",
      "[Stage 176:====================================>                  (64 + 8) / 97]\r"
     ]
    },
    {
     "name": "stderr",
     "output_type": "stream",
     "text": [
      "\r",
      "[Stage 176:=====================================>                 (66 + 8) / 97]\r",
      "\r",
      "[Stage 176:=====================================>                 (67 + 9) / 97]\r"
     ]
    },
    {
     "name": "stderr",
     "output_type": "stream",
     "text": [
      "\r",
      "[Stage 176:======================================>                (68 + 8) / 97]\r"
     ]
    },
    {
     "name": "stderr",
     "output_type": "stream",
     "text": [
      "\r",
      "[Stage 176:=======================================>               (69 + 8) / 97]\r",
      "\r",
      "[Stage 176:=======================================>               (70 + 8) / 97]\r"
     ]
    },
    {
     "name": "stderr",
     "output_type": "stream",
     "text": [
      "\r",
      "[Stage 176:========================================>              (72 + 8) / 97]\r"
     ]
    },
    {
     "name": "stderr",
     "output_type": "stream",
     "text": [
      "\r",
      "[Stage 176:=========================================>             (73 + 8) / 97]\r",
      "\r",
      "[Stage 176:==========================================>            (75 + 8) / 97]\r"
     ]
    },
    {
     "name": "stderr",
     "output_type": "stream",
     "text": [
      "\r",
      "[Stage 176:===========================================>           (76 + 8) / 97]\r",
      "\r",
      "[Stage 176:===========================================>           (77 + 8) / 97]\r"
     ]
    },
    {
     "name": "stderr",
     "output_type": "stream",
     "text": [
      "\r",
      "[Stage 176:============================================>          (78 + 8) / 97]\r"
     ]
    },
    {
     "name": "stderr",
     "output_type": "stream",
     "text": [
      "\r",
      "[Stage 176:============================================>          (79 + 8) / 97]\r",
      "\r",
      "[Stage 176:=============================================>         (80 + 8) / 97]\r"
     ]
    },
    {
     "name": "stderr",
     "output_type": "stream",
     "text": [
      "\r",
      "[Stage 176:=============================================>         (81 + 8) / 97]\r",
      "\r",
      "[Stage 176:==============================================>        (82 + 8) / 97]\r"
     ]
    },
    {
     "name": "stderr",
     "output_type": "stream",
     "text": [
      "\r",
      "[Stage 176:===============================================>       (83 + 8) / 97]\r",
      "\r",
      "[Stage 176:===============================================>       (84 + 8) / 97]\r"
     ]
    },
    {
     "name": "stderr",
     "output_type": "stream",
     "text": [
      "\r",
      "[Stage 176:================================================>      (85 + 8) / 97]\r",
      "\r",
      "[Stage 176:================================================>      (86 + 8) / 97]\r"
     ]
    },
    {
     "name": "stderr",
     "output_type": "stream",
     "text": [
      "\r",
      "[Stage 176:=================================================>     (88 + 8) / 97]\r"
     ]
    },
    {
     "name": "stderr",
     "output_type": "stream",
     "text": [
      "\r",
      "[Stage 176:==================================================>    (89 + 8) / 97]\r"
     ]
    },
    {
     "name": "stderr",
     "output_type": "stream",
     "text": [
      "\r",
      "[Stage 176:===================================================>   (90 + 7) / 97]\r",
      "\r",
      "[Stage 176:===================================================>   (91 + 6) / 97]\r"
     ]
    },
    {
     "name": "stderr",
     "output_type": "stream",
     "text": [
      "\r",
      "[Stage 176:====================================================>  (92 + 5) / 97]\r",
      "\r",
      "[Stage 176:====================================================>  (93 + 4) / 97]\r"
     ]
    },
    {
     "name": "stderr",
     "output_type": "stream",
     "text": [
      "\r",
      "[Stage 176:=====================================================> (94 + 3) / 97]\r"
     ]
    },
    {
     "name": "stderr",
     "output_type": "stream",
     "text": [
      "\r",
      "                                                                                \r"
     ]
    },
    {
     "name": "stderr",
     "output_type": "stream",
     "text": [
      "\r",
      "[Stage 179:>                                                       (0 + 8) / 97]\r"
     ]
    },
    {
     "name": "stderr",
     "output_type": "stream",
     "text": [
      "\r",
      "[Stage 179:>                                                       (1 + 8) / 97]\r",
      "\r",
      "[Stage 179:===>                                                    (6 + 8) / 97]\r"
     ]
    },
    {
     "name": "stderr",
     "output_type": "stream",
     "text": [
      "\r",
      "[Stage 179:====>                                                   (8 + 8) / 97]\r"
     ]
    },
    {
     "name": "stderr",
     "output_type": "stream",
     "text": [
      "\r",
      "[Stage 179:=====>                                                 (10 + 8) / 97]\r"
     ]
    },
    {
     "name": "stderr",
     "output_type": "stream",
     "text": [
      "\r",
      "[Stage 179:=======>                                               (14 + 8) / 97]\r",
      "\r",
      "[Stage 179:=========>                                             (16 + 8) / 97]\r"
     ]
    },
    {
     "name": "stderr",
     "output_type": "stream",
     "text": [
      "\r",
      "[Stage 179:=========>                                             (17 + 8) / 97]\r"
     ]
    },
    {
     "name": "stderr",
     "output_type": "stream",
     "text": [
      "\r",
      "[Stage 179:==========>                                            (18 + 8) / 97]\r",
      "\r",
      "[Stage 179:==========>                                            (19 + 8) / 97]\r"
     ]
    },
    {
     "name": "stderr",
     "output_type": "stream",
     "text": [
      "\r",
      "[Stage 179:=============>                                         (23 + 8) / 97]\r"
     ]
    },
    {
     "name": "stderr",
     "output_type": "stream",
     "text": [
      "\r",
      "[Stage 179:=============>                                         (24 + 8) / 97]\r"
     ]
    },
    {
     "name": "stderr",
     "output_type": "stream",
     "text": [
      "\r",
      "[Stage 179:==============>                                        (25 + 8) / 97]\r"
     ]
    },
    {
     "name": "stderr",
     "output_type": "stream",
     "text": [
      "\r",
      "[Stage 179:==============>                                        (26 + 8) / 97]\r",
      "\r",
      "[Stage 179:===============>                                       (28 + 8) / 97]\r"
     ]
    },
    {
     "name": "stderr",
     "output_type": "stream",
     "text": [
      "\r",
      "[Stage 179:================>                                      (29 + 8) / 97]\r",
      "\r",
      "[Stage 179:=================>                                     (30 + 8) / 97]\r"
     ]
    },
    {
     "name": "stderr",
     "output_type": "stream",
     "text": [
      "\r",
      "[Stage 179:=================>                                     (31 + 8) / 97]\r",
      "\r",
      "[Stage 179:==================>                                    (32 + 8) / 97]\r"
     ]
    },
    {
     "name": "stderr",
     "output_type": "stream",
     "text": [
      "\r",
      "[Stage 179:==================>                                    (33 + 8) / 97]\r"
     ]
    },
    {
     "name": "stderr",
     "output_type": "stream",
     "text": [
      "\r",
      "[Stage 179:====================>                                  (36 + 8) / 97]\r"
     ]
    },
    {
     "name": "stderr",
     "output_type": "stream",
     "text": [
      "\r",
      "[Stage 179:=====================>                                 (38 + 8) / 97]\r",
      "\r",
      "[Stage 179:======================>                                (39 + 8) / 97]\r"
     ]
    },
    {
     "name": "stderr",
     "output_type": "stream",
     "text": [
      "\r",
      "[Stage 179:======================>                                (40 + 8) / 97]\r"
     ]
    },
    {
     "name": "stderr",
     "output_type": "stream",
     "text": [
      "\r",
      "[Stage 179:=======================>                               (41 + 8) / 97]\r",
      "\r",
      "[Stage 179:=======================>                               (42 + 8) / 97]\r"
     ]
    },
    {
     "name": "stderr",
     "output_type": "stream",
     "text": [
      "\r",
      "[Stage 179:========================>                              (44 + 8) / 97]\r"
     ]
    },
    {
     "name": "stderr",
     "output_type": "stream",
     "text": [
      "\r",
      "[Stage 179:==========================>                            (46 + 8) / 97]\r",
      "\r",
      "[Stage 179:==========================>                            (47 + 8) / 97]\r"
     ]
    },
    {
     "name": "stderr",
     "output_type": "stream",
     "text": [
      "\r",
      "[Stage 179:===========================>                           (48 + 8) / 97]\r"
     ]
    },
    {
     "name": "stderr",
     "output_type": "stream",
     "text": [
      "\r",
      "[Stage 179:===========================>                           (49 + 8) / 97]\r"
     ]
    },
    {
     "name": "stderr",
     "output_type": "stream",
     "text": [
      "\r",
      "[Stage 179:============================>                          (50 + 8) / 97]\r",
      "\r",
      "[Stage 179:============================>                          (51 + 8) / 97]\r"
     ]
    },
    {
     "name": "stderr",
     "output_type": "stream",
     "text": [
      "\r",
      "[Stage 179:==============================>                        (53 + 8) / 97]\r",
      "\r",
      "[Stage 179:===============================>                       (55 + 8) / 97]\r"
     ]
    },
    {
     "name": "stderr",
     "output_type": "stream",
     "text": [
      "\r",
      "[Stage 179:===============================>                       (56 + 8) / 97]\r"
     ]
    },
    {
     "name": "stderr",
     "output_type": "stream",
     "text": [
      "\r",
      "[Stage 179:================================>                      (57 + 8) / 97]\r"
     ]
    },
    {
     "name": "stderr",
     "output_type": "stream",
     "text": [
      "\r",
      "[Stage 179:================================>                      (58 + 8) / 97]\r",
      "\r",
      "[Stage 179:==================================>                    (60 + 8) / 97]\r"
     ]
    },
    {
     "name": "stderr",
     "output_type": "stream",
     "text": [
      "\r",
      "[Stage 179:==================================>                    (61 + 8) / 97]\r",
      "\r",
      "[Stage 179:===================================>                   (63 + 8) / 97]\r"
     ]
    },
    {
     "name": "stderr",
     "output_type": "stream",
     "text": [
      "\r",
      "[Stage 179:====================================>                  (64 + 8) / 97]\r"
     ]
    },
    {
     "name": "stderr",
     "output_type": "stream",
     "text": [
      "\r",
      "[Stage 179:====================================>                  (65 + 8) / 97]\r"
     ]
    },
    {
     "name": "stderr",
     "output_type": "stream",
     "text": [
      "\r",
      "[Stage 179:=====================================>                 (66 + 8) / 97]\r",
      "\r",
      "[Stage 179:======================================>                (68 + 8) / 97]\r"
     ]
    },
    {
     "name": "stderr",
     "output_type": "stream",
     "text": [
      "\r",
      "[Stage 179:=======================================>               (69 + 8) / 97]\r",
      "\r",
      "[Stage 179:========================================>              (71 + 8) / 97]\r"
     ]
    },
    {
     "name": "stderr",
     "output_type": "stream",
     "text": [
      "\r",
      "[Stage 179:========================================>              (72 + 8) / 97]\r"
     ]
    },
    {
     "name": "stderr",
     "output_type": "stream",
     "text": [
      "\r",
      "[Stage 179:=========================================>             (73 + 8) / 97]\r"
     ]
    },
    {
     "name": "stderr",
     "output_type": "stream",
     "text": [
      "\r",
      "[Stage 179:=========================================>             (74 + 8) / 97]\r",
      "\r",
      "[Stage 179:===========================================>           (76 + 8) / 97]\r"
     ]
    },
    {
     "name": "stderr",
     "output_type": "stream",
     "text": [
      "\r",
      "[Stage 179:===========================================>           (77 + 8) / 97]\r"
     ]
    },
    {
     "name": "stderr",
     "output_type": "stream",
     "text": [
      "\r",
      "[Stage 179:============================================>          (79 + 8) / 97]\r"
     ]
    },
    {
     "name": "stderr",
     "output_type": "stream",
     "text": [
      "\r",
      "[Stage 179:=============================================>         (80 + 8) / 97]\r"
     ]
    },
    {
     "name": "stderr",
     "output_type": "stream",
     "text": [
      "\r",
      "[Stage 179:==============================================>        (82 + 8) / 97]\r",
      "\r",
      "[Stage 179:===============================================>       (84 + 8) / 97]\r"
     ]
    },
    {
     "name": "stderr",
     "output_type": "stream",
     "text": [
      "\r",
      "[Stage 179:================================================>      (85 + 8) / 97]\r",
      "\r",
      "[Stage 179:=================================================>     (87 + 8) / 97]\r"
     ]
    },
    {
     "name": "stderr",
     "output_type": "stream",
     "text": [
      "\r",
      "[Stage 179:=================================================>     (88 + 8) / 97]\r"
     ]
    },
    {
     "name": "stderr",
     "output_type": "stream",
     "text": [
      "\r",
      "[Stage 179:===================================================>   (90 + 7) / 97]\r",
      "\r",
      "[Stage 179:====================================================>  (92 + 5) / 97]\r"
     ]
    },
    {
     "name": "stderr",
     "output_type": "stream",
     "text": [
      "\r",
      "[Stage 179:=====================================================> (94 + 3) / 97]\r"
     ]
    },
    {
     "name": "stderr",
     "output_type": "stream",
     "text": [
      "\r",
      "                                                                                \r"
     ]
    },
    {
     "name": "stderr",
     "output_type": "stream",
     "text": [
      "\r",
      "[Stage 182:>                                                       (0 + 8) / 97]\r"
     ]
    },
    {
     "name": "stderr",
     "output_type": "stream",
     "text": [
      "\r",
      "[Stage 182:==>                                                     (5 + 8) / 97]\r",
      "\r",
      "[Stage 182:====>                                                   (8 + 8) / 97]\r"
     ]
    },
    {
     "name": "stderr",
     "output_type": "stream",
     "text": [
      "\r",
      "[Stage 182:=========>                                             (16 + 8) / 97]\r"
     ]
    },
    {
     "name": "stderr",
     "output_type": "stream",
     "text": [
      "\r",
      "[Stage 182:===========>                                           (21 + 8) / 97]\r",
      "\r",
      "[Stage 182:=============>                                         (24 + 8) / 97]\r"
     ]
    },
    {
     "name": "stderr",
     "output_type": "stream",
     "text": [
      "\r",
      "[Stage 182:==============>                                        (25 + 8) / 97]\r",
      "\r",
      "[Stage 182:================>                                      (29 + 8) / 97]\r"
     ]
    },
    {
     "name": "stderr",
     "output_type": "stream",
     "text": [
      "\r",
      "[Stage 182:==================>                                    (32 + 8) / 97]\r"
     ]
    },
    {
     "name": "stderr",
     "output_type": "stream",
     "text": [
      "\r",
      "[Stage 182:===================>                                   (34 + 8) / 97]\r",
      "\r",
      "[Stage 182:=====================>                                 (38 + 8) / 97]\r"
     ]
    },
    {
     "name": "stderr",
     "output_type": "stream",
     "text": [
      "\r",
      "[Stage 182:======================>                                (40 + 8) / 97]\r"
     ]
    },
    {
     "name": "stderr",
     "output_type": "stream",
     "text": [
      "\r",
      "[Stage 182:=======================>                               (42 + 8) / 97]\r",
      "\r",
      "[Stage 182:===========================>                           (48 + 8) / 97]\r"
     ]
    },
    {
     "name": "stderr",
     "output_type": "stream",
     "text": [
      "\r",
      "[Stage 182:=============================>                         (52 + 8) / 97]\r",
      "\r",
      "[Stage 182:===============================>                       (56 + 8) / 97]\r"
     ]
    },
    {
     "name": "stderr",
     "output_type": "stream",
     "text": [
      "\r",
      "[Stage 182:=================================>                     (59 + 8) / 97]\r",
      "\r",
      "[Stage 182:====================================>                  (64 + 8) / 97]\r"
     ]
    },
    {
     "name": "stderr",
     "output_type": "stream",
     "text": [
      "\r",
      "[Stage 182:=====================================>                 (66 + 8) / 97]\r",
      "\r",
      "[Stage 182:=======================================>               (70 + 8) / 97]\r"
     ]
    },
    {
     "name": "stderr",
     "output_type": "stream",
     "text": [
      "\r",
      "[Stage 182:========================================>              (72 + 8) / 97]\r"
     ]
    },
    {
     "name": "stderr",
     "output_type": "stream",
     "text": [
      "\r",
      "[Stage 182:=========================================>             (73 + 8) / 97]\r",
      "\r",
      "[Stage 182:===========================================>           (77 + 8) / 97]\r"
     ]
    },
    {
     "name": "stderr",
     "output_type": "stream",
     "text": [
      "\r",
      "[Stage 182:=============================================>         (80 + 8) / 97]\r"
     ]
    },
    {
     "name": "stderr",
     "output_type": "stream",
     "text": [
      "\r",
      "[Stage 182:==============================================>        (82 + 8) / 97]\r",
      "\r",
      "[Stage 182:================================================>      (85 + 8) / 97]\r"
     ]
    },
    {
     "name": "stderr",
     "output_type": "stream",
     "text": [
      "\r",
      "[Stage 182:=================================================>     (88 + 8) / 97]\r"
     ]
    },
    {
     "name": "stderr",
     "output_type": "stream",
     "text": [
      "\r",
      "[Stage 182:==================================================>    (89 + 8) / 97]\r"
     ]
    },
    {
     "name": "stderr",
     "output_type": "stream",
     "text": [
      "\r",
      "[Stage 182:====================================================>  (93 + 4) / 97]\r",
      "\r",
      "[Stage 182:======================================================>(96 + 1) / 97]\r"
     ]
    },
    {
     "name": "stderr",
     "output_type": "stream",
     "text": [
      "\r",
      "                                                                                \r"
     ]
    },
    {
     "name": "stderr",
     "output_type": "stream",
     "text": [
      "\r",
      "[Stage 185:>                                                       (0 + 8) / 97]\r"
     ]
    },
    {
     "name": "stderr",
     "output_type": "stream",
     "text": [
      "\r",
      "[Stage 185:====>                                                   (7 + 8) / 97]\r",
      "\r",
      "[Stage 185:====>                                                   (8 + 8) / 97]\r"
     ]
    },
    {
     "name": "stderr",
     "output_type": "stream",
     "text": [
      "\r",
      "[Stage 185:=======>                                               (14 + 8) / 97]\r",
      "\r",
      "[Stage 185:=========>                                             (16 + 8) / 97]\r"
     ]
    },
    {
     "name": "stderr",
     "output_type": "stream",
     "text": [
      "\r",
      "[Stage 185:=============>                                         (23 + 8) / 97]\r",
      "\r",
      "[Stage 185:=============>                                         (24 + 8) / 97]\r"
     ]
    },
    {
     "name": "stderr",
     "output_type": "stream",
     "text": [
      "\r",
      "[Stage 185:=================>                                     (30 + 8) / 97]\r",
      "\r",
      "[Stage 185:==================>                                    (32 + 8) / 97]\r"
     ]
    },
    {
     "name": "stderr",
     "output_type": "stream",
     "text": [
      "\r",
      "[Stage 185:====================>                                  (37 + 8) / 97]\r",
      "\r",
      "[Stage 185:======================>                                (39 + 8) / 97]\r"
     ]
    },
    {
     "name": "stderr",
     "output_type": "stream",
     "text": [
      "\r",
      "[Stage 185:======================>                                (40 + 8) / 97]\r"
     ]
    },
    {
     "name": "stderr",
     "output_type": "stream",
     "text": [
      "\r",
      "[Stage 185:========================>                              (43 + 8) / 97]\r",
      "\r",
      "[Stage 185:==========================>                            (46 + 8) / 97]\r"
     ]
    },
    {
     "name": "stderr",
     "output_type": "stream",
     "text": [
      "\r",
      "[Stage 185:===========================>                           (48 + 8) / 97]\r"
     ]
    },
    {
     "name": "stderr",
     "output_type": "stream",
     "text": [
      "\r",
      "[Stage 185:===========================>                           (49 + 8) / 97]\r",
      "\r",
      "[Stage 185:==============================>                        (53 + 8) / 97]\r"
     ]
    },
    {
     "name": "stderr",
     "output_type": "stream",
     "text": [
      "\r",
      "[Stage 185:===============================>                       (56 + 8) / 97]\r"
     ]
    },
    {
     "name": "stderr",
     "output_type": "stream",
     "text": [
      "\r",
      "[Stage 185:==================================>                    (60 + 8) / 97]\r",
      "\r",
      "[Stage 185:====================================>                  (64 + 8) / 97]\r"
     ]
    },
    {
     "name": "stderr",
     "output_type": "stream",
     "text": [
      "\r",
      "[Stage 185:=====================================>                 (67 + 8) / 97]\r",
      "\r",
      "[Stage 185:========================================>              (71 + 8) / 97]\r"
     ]
    },
    {
     "name": "stderr",
     "output_type": "stream",
     "text": [
      "\r",
      "[Stage 185:========================================>              (72 + 8) / 97]\r"
     ]
    },
    {
     "name": "stderr",
     "output_type": "stream",
     "text": [
      "\r",
      "[Stage 185:==========================================>            (75 + 8) / 97]\r",
      "\r",
      "[Stage 185:============================================>          (78 + 8) / 97]\r"
     ]
    },
    {
     "name": "stderr",
     "output_type": "stream",
     "text": [
      "\r",
      "[Stage 185:=============================================>         (80 + 8) / 97]\r"
     ]
    },
    {
     "name": "stderr",
     "output_type": "stream",
     "text": [
      "\r",
      "[Stage 185:==============================================>        (82 + 8) / 97]\r",
      "\r",
      "[Stage 185:================================================>      (85 + 8) / 97]\r"
     ]
    },
    {
     "name": "stderr",
     "output_type": "stream",
     "text": [
      "\r",
      "[Stage 185:=================================================>     (88 + 8) / 97]\r"
     ]
    },
    {
     "name": "stderr",
     "output_type": "stream",
     "text": [
      "\r",
      "[Stage 185:==================================================>    (89 + 8) / 97]\r",
      "\r",
      "[Stage 185:====================================================>  (93 + 4) / 97]\r"
     ]
    },
    {
     "name": "stderr",
     "output_type": "stream",
     "text": [
      "\r",
      "[Stage 185:======================================================>(96 + 1) / 97]\r"
     ]
    },
    {
     "name": "stderr",
     "output_type": "stream",
     "text": [
      "\r",
      "                                                                                \r"
     ]
    },
    {
     "name": "stderr",
     "output_type": "stream",
     "text": [
      "\r",
      "[Stage 188:>                                                       (0 + 8) / 97]\r"
     ]
    },
    {
     "name": "stderr",
     "output_type": "stream",
     "text": [
      "\r",
      "[Stage 188:====>                                                   (8 + 8) / 97]\r"
     ]
    },
    {
     "name": "stderr",
     "output_type": "stream",
     "text": [
      "\r",
      "[Stage 188:=======>                                               (13 + 8) / 97]\r",
      "\r",
      "[Stage 188:=========>                                             (16 + 8) / 97]\r"
     ]
    },
    {
     "name": "stderr",
     "output_type": "stream",
     "text": [
      "\r",
      "[Stage 188:=========>                                             (17 + 8) / 97]\r",
      "\r",
      "[Stage 188:=============>                                         (23 + 8) / 97]\r"
     ]
    },
    {
     "name": "stderr",
     "output_type": "stream",
     "text": [
      "\r",
      "[Stage 188:=============>                                         (24 + 8) / 97]\r"
     ]
    },
    {
     "name": "stderr",
     "output_type": "stream",
     "text": [
      "\r",
      "[Stage 188:===============>                                       (28 + 8) / 97]\r",
      "\r",
      "[Stage 188:=================>                                     (31 + 8) / 97]\r"
     ]
    },
    {
     "name": "stderr",
     "output_type": "stream",
     "text": [
      "\r",
      "[Stage 188:==================>                                    (32 + 8) / 97]\r"
     ]
    },
    {
     "name": "stderr",
     "output_type": "stream",
     "text": [
      "\r",
      "[Stage 188:===================>                                   (35 + 8) / 97]\r",
      "\r",
      "[Stage 188:======================>                                (39 + 8) / 97]\r"
     ]
    },
    {
     "name": "stderr",
     "output_type": "stream",
     "text": [
      "\r",
      "[Stage 188:======================>                                (40 + 8) / 97]\r"
     ]
    },
    {
     "name": "stderr",
     "output_type": "stream",
     "text": [
      "\r",
      "[Stage 188:=======================>                               (42 + 8) / 97]\r",
      "\r",
      "[Stage 188:========================>                              (44 + 8) / 97]\r"
     ]
    },
    {
     "name": "stderr",
     "output_type": "stream",
     "text": [
      "\r",
      "[Stage 188:==========================>                            (47 + 8) / 97]\r",
      "\r",
      "[Stage 188:===========================>                           (48 + 8) / 97]\r"
     ]
    },
    {
     "name": "stderr",
     "output_type": "stream",
     "text": [
      "\r",
      "[Stage 188:============================>                          (50 + 8) / 97]\r",
      "\r",
      "[Stage 188:=============================>                         (52 + 8) / 97]\r"
     ]
    },
    {
     "name": "stderr",
     "output_type": "stream",
     "text": [
      "\r",
      "[Stage 188:===============================>                       (56 + 8) / 97]\r"
     ]
    },
    {
     "name": "stderr",
     "output_type": "stream",
     "text": [
      "\r",
      "[Stage 188:================================>                      (58 + 8) / 97]\r",
      "\r",
      "[Stage 188:==================================>                    (61 + 8) / 97]\r"
     ]
    },
    {
     "name": "stderr",
     "output_type": "stream",
     "text": [
      "\r",
      "[Stage 188:===================================>                   (63 + 8) / 97]\r",
      "\r",
      "[Stage 188:====================================>                  (64 + 8) / 97]\r"
     ]
    },
    {
     "name": "stderr",
     "output_type": "stream",
     "text": [
      "\r",
      "[Stage 188:=====================================>                 (66 + 8) / 97]\r",
      "\r",
      "[Stage 188:=====================================>                 (67 + 8) / 97]\r"
     ]
    },
    {
     "name": "stderr",
     "output_type": "stream",
     "text": [
      "\r",
      "[Stage 188:========================================>              (71 + 8) / 97]\r",
      "\r",
      "[Stage 188:========================================>              (72 + 8) / 97]\r"
     ]
    },
    {
     "name": "stderr",
     "output_type": "stream",
     "text": [
      "\r",
      "[Stage 188:=========================================>             (73 + 8) / 97]\r"
     ]
    },
    {
     "name": "stderr",
     "output_type": "stream",
     "text": [
      "\r",
      "[Stage 188:===========================================>           (76 + 8) / 97]\r",
      "\r",
      "[Stage 188:============================================>          (79 + 8) / 97]\r"
     ]
    },
    {
     "name": "stderr",
     "output_type": "stream",
     "text": [
      "\r",
      "[Stage 188:=============================================>         (80 + 8) / 97]\r"
     ]
    },
    {
     "name": "stderr",
     "output_type": "stream",
     "text": [
      "\r",
      "[Stage 188:=============================================>         (81 + 8) / 97]\r",
      "\r",
      "[Stage 188:================================================>      (85 + 8) / 97]\r"
     ]
    },
    {
     "name": "stderr",
     "output_type": "stream",
     "text": [
      "\r",
      "[Stage 188:=================================================>     (88 + 8) / 97]\r"
     ]
    },
    {
     "name": "stderr",
     "output_type": "stream",
     "text": [
      "\r",
      "[Stage 188:===================================================>   (90 + 7) / 97]\r",
      "\r",
      "[Stage 188:=====================================================> (95 + 2) / 97]\r"
     ]
    },
    {
     "name": "stderr",
     "output_type": "stream",
     "text": [
      "\r",
      "[Stage 188:======================================================>(96 + 1) / 97]\r",
      "\r",
      "                                                                                \r"
     ]
    },
    {
     "name": "stderr",
     "output_type": "stream",
     "text": [
      "\r",
      "[Stage 191:>                                                       (0 + 8) / 97]\r"
     ]
    },
    {
     "name": "stderr",
     "output_type": "stream",
     "text": [
      "\r",
      "[Stage 191:====>                                                   (8 + 8) / 97]\r"
     ]
    },
    {
     "name": "stderr",
     "output_type": "stream",
     "text": [
      "\r",
      "[Stage 191:======>                                                (11 + 8) / 97]\r",
      "\r",
      "[Stage 191:========>                                              (15 + 8) / 97]\r"
     ]
    },
    {
     "name": "stderr",
     "output_type": "stream",
     "text": [
      "\r",
      "[Stage 191:=========>                                             (16 + 8) / 97]\r"
     ]
    },
    {
     "name": "stderr",
     "output_type": "stream",
     "text": [
      "\r",
      "[Stage 191:==========>                                            (19 + 8) / 97]\r",
      "\r",
      "[Stage 191:=============>                                         (23 + 8) / 97]\r"
     ]
    },
    {
     "name": "stderr",
     "output_type": "stream",
     "text": [
      "\r",
      "[Stage 191:=============>                                         (24 + 8) / 97]\r"
     ]
    },
    {
     "name": "stderr",
     "output_type": "stream",
     "text": [
      "\r",
      "[Stage 191:=================>                                     (30 + 8) / 97]\r",
      "\r",
      "[Stage 191:==================>                                    (32 + 8) / 97]\r"
     ]
    },
    {
     "name": "stderr",
     "output_type": "stream",
     "text": [
      "\r",
      "[Stage 191:===================>                                   (35 + 8) / 97]\r",
      "\r",
      "[Stage 191:=====================>                                 (38 + 8) / 97]\r"
     ]
    },
    {
     "name": "stderr",
     "output_type": "stream",
     "text": [
      "\r",
      "[Stage 191:======================>                                (40 + 8) / 97]\r"
     ]
    },
    {
     "name": "stderr",
     "output_type": "stream",
     "text": [
      "\r",
      "[Stage 191:=======================>                               (41 + 8) / 97]\r",
      "\r",
      "[Stage 191:==========================>                            (46 + 8) / 97]\r"
     ]
    },
    {
     "name": "stderr",
     "output_type": "stream",
     "text": [
      "\r",
      "[Stage 191:===========================>                           (48 + 8) / 97]\r"
     ]
    },
    {
     "name": "stderr",
     "output_type": "stream",
     "text": [
      "\r",
      "[Stage 191:=============================>                         (52 + 8) / 97]\r",
      "\r",
      "[Stage 191:===============================>                       (55 + 8) / 97]\r"
     ]
    },
    {
     "name": "stderr",
     "output_type": "stream",
     "text": [
      "\r",
      "[Stage 191:===============================>                       (56 + 8) / 97]\r"
     ]
    },
    {
     "name": "stderr",
     "output_type": "stream",
     "text": [
      "\r",
      "[Stage 191:================================>                      (57 + 8) / 97]\r",
      "\r",
      "[Stage 191:===================================>                   (62 + 8) / 97]\r"
     ]
    },
    {
     "name": "stderr",
     "output_type": "stream",
     "text": [
      "\r",
      "[Stage 191:====================================>                  (64 + 8) / 97]\r"
     ]
    },
    {
     "name": "stderr",
     "output_type": "stream",
     "text": [
      "\r",
      "[Stage 191:====================================>                  (65 + 8) / 97]\r",
      "\r",
      "[Stage 191:======================================>                (68 + 8) / 97]\r"
     ]
    },
    {
     "name": "stderr",
     "output_type": "stream",
     "text": [
      "\r",
      "[Stage 191:========================================>              (72 + 8) / 97]\r"
     ]
    },
    {
     "name": "stderr",
     "output_type": "stream",
     "text": [
      "\r",
      "[Stage 191:=========================================>             (74 + 8) / 97]\r",
      "\r",
      "[Stage 191:============================================>          (79 + 8) / 97]\r"
     ]
    },
    {
     "name": "stderr",
     "output_type": "stream",
     "text": [
      "\r",
      "[Stage 191:=============================================>         (80 + 8) / 97]\r"
     ]
    },
    {
     "name": "stderr",
     "output_type": "stream",
     "text": [
      "\r",
      "[Stage 191:=================================================>     (87 + 8) / 97]\r",
      "\r",
      "[Stage 191:=================================================>     (88 + 8) / 97]\r"
     ]
    },
    {
     "name": "stderr",
     "output_type": "stream",
     "text": [
      "\r",
      "[Stage 191:=====================================================> (95 + 2) / 97]\r",
      "\r",
      "[Stage 191:======================================================>(96 + 1) / 97]\r"
     ]
    },
    {
     "name": "stderr",
     "output_type": "stream",
     "text": [
      "\r",
      "                                                                                \r"
     ]
    },
    {
     "name": "stderr",
     "output_type": "stream",
     "text": [
      "\r",
      "[Stage 194:>                                                       (0 + 8) / 97]\r"
     ]
    },
    {
     "name": "stderr",
     "output_type": "stream",
     "text": [
      "\r",
      "[Stage 194:====>                                                   (7 + 8) / 97]\r",
      "\r",
      "[Stage 194:====>                                                   (8 + 8) / 97]\r"
     ]
    },
    {
     "name": "stderr",
     "output_type": "stream",
     "text": [
      "\r",
      "[Stage 194:=======>                                               (13 + 8) / 97]\r",
      "\r",
      "[Stage 194:=========>                                             (16 + 8) / 97]\r"
     ]
    },
    {
     "name": "stderr",
     "output_type": "stream",
     "text": [
      "\r",
      "[Stage 194:=============>                                         (23 + 8) / 97]\r",
      "\r",
      "[Stage 194:=============>                                         (24 + 8) / 97]\r"
     ]
    },
    {
     "name": "stderr",
     "output_type": "stream",
     "text": [
      "\r",
      "[Stage 194:===============>                                       (28 + 8) / 97]\r",
      "\r",
      "[Stage 194:==================>                                    (32 + 8) / 97]\r"
     ]
    },
    {
     "name": "stderr",
     "output_type": "stream",
     "text": [
      "\r",
      "[Stage 194:===================>                                   (34 + 8) / 97]\r",
      "\r",
      "[Stage 194:======================>                                (39 + 8) / 97]\r"
     ]
    },
    {
     "name": "stderr",
     "output_type": "stream",
     "text": [
      "\r",
      "[Stage 194:======================>                                (40 + 8) / 97]\r"
     ]
    },
    {
     "name": "stderr",
     "output_type": "stream",
     "text": [
      "\r",
      "[Stage 194:==========================>                            (46 + 8) / 97]\r",
      "\r",
      "[Stage 194:===========================>                           (48 + 8) / 97]\r"
     ]
    },
    {
     "name": "stderr",
     "output_type": "stream",
     "text": [
      "\r",
      "[Stage 194:============================>                          (51 + 8) / 97]\r",
      "\r",
      "[Stage 194:===============================>                       (55 + 8) / 97]\r"
     ]
    },
    {
     "name": "stderr",
     "output_type": "stream",
     "text": [
      "\r",
      "[Stage 194:===============================>                       (56 + 8) / 97]\r"
     ]
    },
    {
     "name": "stderr",
     "output_type": "stream",
     "text": [
      "\r",
      "[Stage 194:================================>                      (57 + 8) / 97]\r",
      "\r",
      "[Stage 194:===================================>                   (63 + 8) / 97]\r"
     ]
    },
    {
     "name": "stderr",
     "output_type": "stream",
     "text": [
      "\r",
      "[Stage 194:====================================>                  (64 + 8) / 97]\r"
     ]
    },
    {
     "name": "stderr",
     "output_type": "stream",
     "text": [
      "\r",
      "[Stage 194:====================================>                  (65 + 8) / 97]\r",
      "\r",
      "[Stage 194:=====================================>                 (67 + 8) / 97]\r"
     ]
    },
    {
     "name": "stderr",
     "output_type": "stream",
     "text": [
      "\r",
      "[Stage 194:========================================>              (71 + 8) / 97]\r",
      "\r",
      "[Stage 194:========================================>              (72 + 8) / 97]\r"
     ]
    },
    {
     "name": "stderr",
     "output_type": "stream",
     "text": [
      "\r",
      "[Stage 194:==========================================>            (75 + 8) / 97]\r",
      "\r",
      "[Stage 194:============================================>          (79 + 8) / 97]\r"
     ]
    },
    {
     "name": "stderr",
     "output_type": "stream",
     "text": [
      "\r",
      "[Stage 194:=============================================>         (80 + 8) / 97]\r"
     ]
    },
    {
     "name": "stderr",
     "output_type": "stream",
     "text": [
      "\r",
      "[Stage 194:================================================>      (86 + 8) / 97]\r",
      "\r",
      "[Stage 194:=================================================>     (87 + 8) / 97]\r"
     ]
    },
    {
     "name": "stderr",
     "output_type": "stream",
     "text": [
      "\r",
      "[Stage 194:=================================================>     (88 + 8) / 97]\r"
     ]
    },
    {
     "name": "stderr",
     "output_type": "stream",
     "text": [
      "\r",
      "[Stage 194:=====================================================> (95 + 2) / 97]\r",
      "\r",
      "[Stage 194:======================================================>(96 + 1) / 97]\r"
     ]
    },
    {
     "name": "stderr",
     "output_type": "stream",
     "text": [
      "\r",
      "                                                                                \r"
     ]
    },
    {
     "name": "stderr",
     "output_type": "stream",
     "text": [
      "\r",
      "[Stage 197:>                                                       (0 + 8) / 97]\r"
     ]
    },
    {
     "name": "stderr",
     "output_type": "stream",
     "text": [
      "\r",
      "[Stage 197:==>                                                     (5 + 8) / 97]\r",
      "\r",
      "[Stage 197:====>                                                   (8 + 8) / 97]\r"
     ]
    },
    {
     "name": "stderr",
     "output_type": "stream",
     "text": [
      "\r",
      "[Stage 197:=====>                                                 (10 + 8) / 97]\r",
      "\r",
      "[Stage 197:=========>                                             (16 + 8) / 97]\r"
     ]
    },
    {
     "name": "stderr",
     "output_type": "stream",
     "text": [
      "\r",
      "[Stage 197:==========>                                            (18 + 8) / 97]\r",
      "\r",
      "[Stage 197:=============>                                         (24 + 8) / 97]\r"
     ]
    },
    {
     "name": "stderr",
     "output_type": "stream",
     "text": [
      "\r",
      "[Stage 197:=================>                                     (31 + 8) / 97]\r",
      "\r",
      "[Stage 197:==================>                                    (32 + 8) / 97]\r"
     ]
    },
    {
     "name": "stderr",
     "output_type": "stream",
     "text": [
      "\r",
      "[Stage 197:=====================>                                 (38 + 8) / 97]\r",
      "\r",
      "[Stage 197:======================>                                (40 + 8) / 97]\r"
     ]
    },
    {
     "name": "stderr",
     "output_type": "stream",
     "text": [
      "\r",
      "[Stage 197:========================>                              (43 + 8) / 97]\r",
      "\r",
      "[Stage 197:===========================>                           (48 + 8) / 97]\r"
     ]
    },
    {
     "name": "stderr",
     "output_type": "stream",
     "text": [
      "\r",
      "[Stage 197:===============================>                       (55 + 8) / 97]\r",
      "\r",
      "[Stage 197:===============================>                       (56 + 8) / 97]\r"
     ]
    },
    {
     "name": "stderr",
     "output_type": "stream",
     "text": [
      "\r",
      "[Stage 197:==================================>                    (60 + 8) / 97]\r",
      "\r",
      "[Stage 197:===================================>                   (63 + 8) / 97]\r"
     ]
    },
    {
     "name": "stderr",
     "output_type": "stream",
     "text": [
      "\r",
      "[Stage 197:====================================>                  (64 + 8) / 97]\r"
     ]
    },
    {
     "name": "stderr",
     "output_type": "stream",
     "text": [
      "\r",
      "[Stage 197:====================================>                  (65 + 8) / 97]\r",
      "\r",
      "[Stage 197:========================================>              (71 + 8) / 97]\r"
     ]
    },
    {
     "name": "stderr",
     "output_type": "stream",
     "text": [
      "\r",
      "[Stage 197:========================================>              (72 + 8) / 97]\r"
     ]
    },
    {
     "name": "stderr",
     "output_type": "stream",
     "text": [
      "\r",
      "[Stage 197:===========================================>           (76 + 8) / 97]\r",
      "\r",
      "[Stage 197:============================================>          (79 + 8) / 97]\r"
     ]
    },
    {
     "name": "stderr",
     "output_type": "stream",
     "text": [
      "\r",
      "[Stage 197:=============================================>         (80 + 8) / 97]\r"
     ]
    },
    {
     "name": "stderr",
     "output_type": "stream",
     "text": [
      "\r",
      "[Stage 197:=============================================>         (81 + 8) / 97]\r",
      "\r",
      "[Stage 197:================================================>      (86 + 8) / 97]\r"
     ]
    },
    {
     "name": "stderr",
     "output_type": "stream",
     "text": [
      "\r",
      "[Stage 197:=================================================>     (88 + 8) / 97]\r"
     ]
    },
    {
     "name": "stderr",
     "output_type": "stream",
     "text": [
      "\r",
      "[Stage 197:====================================================>  (92 + 5) / 97]\r",
      "\r",
      "[Stage 197:======================================================>(96 + 1) / 97]\r"
     ]
    },
    {
     "name": "stderr",
     "output_type": "stream",
     "text": [
      "\r",
      "                                                                                \r"
     ]
    },
    {
     "name": "stderr",
     "output_type": "stream",
     "text": [
      "\r",
      "[Stage 200:>                                                       (0 + 8) / 97]\r"
     ]
    },
    {
     "name": "stderr",
     "output_type": "stream",
     "text": [
      "\r",
      "[Stage 200:==>                                                     (5 + 8) / 97]\r",
      "\r",
      "[Stage 200:====>                                                   (8 + 8) / 97]\r"
     ]
    },
    {
     "name": "stderr",
     "output_type": "stream",
     "text": [
      "\r",
      "[Stage 200:======>                                                (11 + 8) / 97]\r",
      "\r",
      "[Stage 200:=========>                                             (16 + 8) / 97]\r"
     ]
    },
    {
     "name": "stderr",
     "output_type": "stream",
     "text": [
      "\r",
      "[Stage 200:==========>                                            (19 + 8) / 97]\r",
      "\r",
      "[Stage 200:=============>                                         (24 + 8) / 97]\r"
     ]
    },
    {
     "name": "stderr",
     "output_type": "stream",
     "text": [
      "\r",
      "[Stage 200:==============>                                        (26 + 8) / 97]\r",
      "\r",
      "[Stage 200:==================>                                    (32 + 8) / 97]\r"
     ]
    },
    {
     "name": "stderr",
     "output_type": "stream",
     "text": [
      "\r",
      "[Stage 200:=====================>                                 (38 + 8) / 97]\r",
      "\r",
      "[Stage 200:======================>                                (40 + 8) / 97]\r"
     ]
    },
    {
     "name": "stderr",
     "output_type": "stream",
     "text": [
      "\r",
      "[Stage 200:=========================>                             (45 + 8) / 97]\r",
      "\r",
      "[Stage 200:===========================>                           (48 + 8) / 97]\r"
     ]
    },
    {
     "name": "stderr",
     "output_type": "stream",
     "text": [
      "\r",
      "[Stage 200:============================>                          (50 + 8) / 97]\r",
      "\r",
      "[Stage 200:===============================>                       (55 + 8) / 97]\r"
     ]
    },
    {
     "name": "stderr",
     "output_type": "stream",
     "text": [
      "\r",
      "[Stage 200:===============================>                       (56 + 8) / 97]\r"
     ]
    },
    {
     "name": "stderr",
     "output_type": "stream",
     "text": [
      "\r",
      "[Stage 200:================================>                      (57 + 8) / 97]\r",
      "\r",
      "[Stage 200:==================================>                    (60 + 8) / 97]\r"
     ]
    },
    {
     "name": "stderr",
     "output_type": "stream",
     "text": [
      "\r",
      "[Stage 200:===================================>                   (63 + 8) / 97]\r",
      "\r",
      "[Stage 200:====================================>                  (64 + 8) / 97]\r"
     ]
    },
    {
     "name": "stderr",
     "output_type": "stream",
     "text": [
      "\r",
      "[Stage 200:====================================>                  (65 + 8) / 97]\r"
     ]
    },
    {
     "name": "stderr",
     "output_type": "stream",
     "text": [
      "\r",
      "[Stage 200:========================================>              (71 + 8) / 97]\r",
      "\r",
      "[Stage 200:========================================>              (72 + 8) / 97]\r"
     ]
    },
    {
     "name": "stderr",
     "output_type": "stream",
     "text": [
      "\r",
      "[Stage 200:=========================================>             (73 + 8) / 97]\r",
      "\r",
      "[Stage 200:===========================================>           (77 + 8) / 97]\r"
     ]
    },
    {
     "name": "stderr",
     "output_type": "stream",
     "text": [
      "\r",
      "[Stage 200:=============================================>         (80 + 8) / 97]\r"
     ]
    },
    {
     "name": "stderr",
     "output_type": "stream",
     "text": [
      "\r",
      "[Stage 200:=============================================>         (81 + 8) / 97]\r",
      "\r",
      "[Stage 200:==============================================>        (82 + 8) / 97]\r"
     ]
    },
    {
     "name": "stderr",
     "output_type": "stream",
     "text": [
      "\r",
      "[Stage 200:=================================================>     (87 + 8) / 97]\r",
      "\r",
      "[Stage 200:=================================================>     (88 + 8) / 97]\r"
     ]
    },
    {
     "name": "stderr",
     "output_type": "stream",
     "text": [
      "\r",
      "[Stage 200:===================================================>   (91 + 6) / 97]\r",
      "\r",
      "[Stage 200:======================================================>(96 + 1) / 97]\r"
     ]
    },
    {
     "name": "stderr",
     "output_type": "stream",
     "text": [
      "\r",
      "                                                                                \r"
     ]
    },
    {
     "name": "stderr",
     "output_type": "stream",
     "text": [
      "\r",
      "[Stage 203:>                                                       (0 + 8) / 97]\r"
     ]
    },
    {
     "name": "stderr",
     "output_type": "stream",
     "text": [
      "\r",
      "[Stage 203:====>                                                   (8 + 8) / 97]\r"
     ]
    },
    {
     "name": "stderr",
     "output_type": "stream",
     "text": [
      "\r",
      "[Stage 203:========>                                              (15 + 8) / 97]\r",
      "\r",
      "[Stage 203:=========>                                             (16 + 8) / 97]\r"
     ]
    },
    {
     "name": "stderr",
     "output_type": "stream",
     "text": [
      "\r",
      "[Stage 203:============>                                          (22 + 8) / 97]\r",
      "\r",
      "[Stage 203:=============>                                         (24 + 8) / 97]\r"
     ]
    },
    {
     "name": "stderr",
     "output_type": "stream",
     "text": [
      "\r",
      "[Stage 203:================>                                      (29 + 8) / 97]\r",
      "\r",
      "[Stage 203:==================>                                    (32 + 8) / 97]\r"
     ]
    },
    {
     "name": "stderr",
     "output_type": "stream",
     "text": [
      "\r",
      "[Stage 203:===================>                                   (34 + 8) / 97]\r",
      "\r",
      "[Stage 203:=====================>                                 (38 + 8) / 97]\r"
     ]
    },
    {
     "name": "stderr",
     "output_type": "stream",
     "text": [
      "\r",
      "[Stage 203:======================>                                (40 + 8) / 97]\r"
     ]
    },
    {
     "name": "stderr",
     "output_type": "stream",
     "text": [
      "\r",
      "[Stage 203:=======================>                               (42 + 8) / 97]\r",
      "\r",
      "[Stage 203:==========================>                            (46 + 8) / 97]\r"
     ]
    },
    {
     "name": "stderr",
     "output_type": "stream",
     "text": [
      "\r",
      "[Stage 203:===========================>                           (48 + 8) / 97]\r"
     ]
    },
    {
     "name": "stderr",
     "output_type": "stream",
     "text": [
      "\r",
      "[Stage 203:=============================>                         (52 + 8) / 97]\r",
      "\r",
      "[Stage 203:==============================>                        (54 + 8) / 97]\r"
     ]
    },
    {
     "name": "stderr",
     "output_type": "stream",
     "text": [
      "\r",
      "[Stage 203:===============================>                       (56 + 8) / 97]\r"
     ]
    },
    {
     "name": "stderr",
     "output_type": "stream",
     "text": [
      "\r",
      "[Stage 203:================================>                      (57 + 8) / 97]\r",
      "\r",
      "[Stage 203:==================================>                    (61 + 8) / 97]\r"
     ]
    },
    {
     "name": "stderr",
     "output_type": "stream",
     "text": [
      "\r",
      "[Stage 203:===================================>                   (62 + 8) / 97]\r",
      "\r",
      "[Stage 203:====================================>                  (64 + 8) / 97]\r"
     ]
    },
    {
     "name": "stderr",
     "output_type": "stream",
     "text": [
      "\r",
      "[Stage 203:====================================>                  (64 + 9) / 97]\r",
      "\r",
      "[Stage 203:======================================>                (68 + 8) / 97]\r"
     ]
    },
    {
     "name": "stderr",
     "output_type": "stream",
     "text": [
      "\r",
      "[Stage 203:=======================================>               (70 + 8) / 97]\r",
      "\r",
      "[Stage 203:========================================>              (71 + 8) / 97]\r"
     ]
    },
    {
     "name": "stderr",
     "output_type": "stream",
     "text": [
      "\r",
      "[Stage 203:========================================>              (72 + 8) / 97]\r"
     ]
    },
    {
     "name": "stderr",
     "output_type": "stream",
     "text": [
      "\r",
      "[Stage 203:=========================================>             (74 + 8) / 97]\r",
      "\r",
      "[Stage 203:===========================================>           (77 + 8) / 97]\r"
     ]
    },
    {
     "name": "stderr",
     "output_type": "stream",
     "text": [
      "\r",
      "[Stage 203:============================================>          (78 + 8) / 97]\r",
      "\r",
      "[Stage 203:=============================================>         (80 + 8) / 97]\r"
     ]
    },
    {
     "name": "stderr",
     "output_type": "stream",
     "text": [
      "\r",
      "[Stage 203:===============================================>       (83 + 8) / 97]\r",
      "\r",
      "[Stage 203:================================================>      (85 + 8) / 97]\r"
     ]
    },
    {
     "name": "stderr",
     "output_type": "stream",
     "text": [
      "\r",
      "[Stage 203:=================================================>     (87 + 8) / 97]\r",
      "\r",
      "[Stage 203:=================================================>     (88 + 8) / 97]\r"
     ]
    },
    {
     "name": "stderr",
     "output_type": "stream",
     "text": [
      "\r",
      "[Stage 203:====================================================>  (93 + 4) / 97]\r",
      "\r",
      "[Stage 203:======================================================>(96 + 1) / 97]\r"
     ]
    },
    {
     "name": "stderr",
     "output_type": "stream",
     "text": [
      "\r",
      "                                                                                \r"
     ]
    },
    {
     "name": "stderr",
     "output_type": "stream",
     "text": [
      "\r",
      "[Stage 206:>                                                       (0 + 8) / 97]\r"
     ]
    },
    {
     "name": "stderr",
     "output_type": "stream",
     "text": [
      "\r",
      "[Stage 206:====>                                                   (7 + 8) / 97]\r",
      "\r",
      "[Stage 206:====>                                                   (8 + 8) / 97]\r"
     ]
    },
    {
     "name": "stderr",
     "output_type": "stream",
     "text": [
      "\r",
      "[Stage 206:======>                                                (11 + 8) / 97]\r",
      "\r",
      "[Stage 206:=========>                                             (16 + 8) / 97]\r"
     ]
    },
    {
     "name": "stderr",
     "output_type": "stream",
     "text": [
      "\r",
      "[Stage 206:==========>                                            (19 + 9) / 97]\r",
      "\r",
      "[Stage 206:=============>                                         (24 + 8) / 97]\r"
     ]
    },
    {
     "name": "stderr",
     "output_type": "stream",
     "text": [
      "\r",
      "[Stage 206:=================>                                     (31 + 8) / 97]\r",
      "\r",
      "[Stage 206:==================>                                    (32 + 8) / 97]\r"
     ]
    },
    {
     "name": "stderr",
     "output_type": "stream",
     "text": [
      "\r",
      "[Stage 206:=====================>                                 (38 + 8) / 97]\r",
      "\r",
      "[Stage 206:======================>                                (40 + 8) / 97]\r"
     ]
    },
    {
     "name": "stderr",
     "output_type": "stream",
     "text": [
      "\r",
      "[Stage 206:========================>                              (44 + 8) / 97]\r",
      "\r",
      "[Stage 206:===========================>                           (48 + 8) / 97]\r"
     ]
    },
    {
     "name": "stderr",
     "output_type": "stream",
     "text": [
      "\r",
      "[Stage 206:===============================>                       (55 + 8) / 97]\r",
      "\r",
      "[Stage 206:===============================>                       (56 + 8) / 97]\r"
     ]
    },
    {
     "name": "stderr",
     "output_type": "stream",
     "text": [
      "\r",
      "[Stage 206:==================================>                    (61 + 8) / 97]\r",
      "\r",
      "[Stage 206:===================================>                   (62 + 8) / 97]\r"
     ]
    },
    {
     "name": "stderr",
     "output_type": "stream",
     "text": [
      "\r",
      "[Stage 206:====================================>                  (64 + 8) / 97]\r"
     ]
    },
    {
     "name": "stderr",
     "output_type": "stream",
     "text": [
      "\r",
      "[Stage 206:====================================>                  (65 + 8) / 97]\r",
      "\r",
      "[Stage 206:=======================================>               (70 + 8) / 97]\r"
     ]
    },
    {
     "name": "stderr",
     "output_type": "stream",
     "text": [
      "\r",
      "[Stage 206:========================================>              (72 + 8) / 97]\r"
     ]
    },
    {
     "name": "stderr",
     "output_type": "stream",
     "text": [
      "\r",
      "[Stage 206:=========================================>             (73 + 8) / 97]\r",
      "\r",
      "[Stage 206:===========================================>           (77 + 8) / 97]\r"
     ]
    },
    {
     "name": "stderr",
     "output_type": "stream",
     "text": [
      "\r",
      "[Stage 206:=============================================>         (80 + 8) / 97]\r"
     ]
    },
    {
     "name": "stderr",
     "output_type": "stream",
     "text": [
      "\r",
      "[Stage 206:===============================================>       (83 + 8) / 97]\r",
      "\r",
      "[Stage 206:================================================>      (85 + 8) / 97]\r"
     ]
    },
    {
     "name": "stderr",
     "output_type": "stream",
     "text": [
      "\r",
      "[Stage 206:=================================================>     (88 + 8) / 97]\r"
     ]
    },
    {
     "name": "stderr",
     "output_type": "stream",
     "text": [
      "\r",
      "[Stage 206:==================================================>    (89 + 8) / 97]\r",
      "\r",
      "[Stage 206:=====================================================> (94 + 3) / 97]\r"
     ]
    },
    {
     "name": "stderr",
     "output_type": "stream",
     "text": [
      "\r",
      "[Stage 206:======================================================>(96 + 1) / 97]\r",
      "\r",
      "                                                                                \r"
     ]
    },
    {
     "name": "stderr",
     "output_type": "stream",
     "text": [
      "\r",
      "[Stage 209:>                                                       (0 + 8) / 97]\r"
     ]
    },
    {
     "name": "stderr",
     "output_type": "stream",
     "text": [
      "\r",
      "[Stage 209:====>                                                   (8 + 8) / 97]\r"
     ]
    },
    {
     "name": "stderr",
     "output_type": "stream",
     "text": [
      "\r",
      "[Stage 209:========>                                              (15 + 8) / 97]\r",
      "\r",
      "[Stage 209:=========>                                             (16 + 8) / 97]\r"
     ]
    },
    {
     "name": "stderr",
     "output_type": "stream",
     "text": [
      "\r",
      "[Stage 209:============>                                          (22 + 8) / 97]\r",
      "\r",
      "[Stage 209:=============>                                         (24 + 8) / 97]\r"
     ]
    },
    {
     "name": "stderr",
     "output_type": "stream",
     "text": [
      "\r",
      "[Stage 209:===============>                                       (28 + 8) / 97]\r",
      "\r",
      "[Stage 209:==================>                                    (32 + 8) / 97]\r"
     ]
    },
    {
     "name": "stderr",
     "output_type": "stream",
     "text": [
      "\r",
      "[Stage 209:===================>                                   (35 + 8) / 97]\r",
      "\r",
      "[Stage 209:======================>                                (39 + 8) / 97]\r"
     ]
    },
    {
     "name": "stderr",
     "output_type": "stream",
     "text": [
      "\r",
      "[Stage 209:======================>                                (40 + 8) / 97]\r"
     ]
    },
    {
     "name": "stderr",
     "output_type": "stream",
     "text": [
      "\r",
      "[Stage 209:=======================>                               (41 + 8) / 97]\r",
      "\r",
      "[Stage 209:========================>                              (44 + 8) / 97]\r"
     ]
    },
    {
     "name": "stderr",
     "output_type": "stream",
     "text": [
      "\r",
      "[Stage 209:==========================>                            (47 + 8) / 97]\r",
      "\r",
      "[Stage 209:===========================>                           (48 + 8) / 97]\r"
     ]
    },
    {
     "name": "stderr",
     "output_type": "stream",
     "text": [
      "\r",
      "[Stage 209:===========================>                           (49 + 8) / 97]\r",
      "\r",
      "[Stage 209:==============================>                        (53 + 8) / 97]\r"
     ]
    },
    {
     "name": "stderr",
     "output_type": "stream",
     "text": [
      "\r",
      "[Stage 209:===============================>                       (55 + 8) / 97]\r",
      "\r",
      "[Stage 209:===============================>                       (56 + 8) / 97]\r"
     ]
    },
    {
     "name": "stderr",
     "output_type": "stream",
     "text": [
      "\r",
      "[Stage 209:================================>                      (58 + 8) / 97]\r",
      "\r",
      "[Stage 209:=================================>                     (59 + 8) / 97]\r"
     ]
    },
    {
     "name": "stderr",
     "output_type": "stream",
     "text": [
      "\r",
      "[Stage 209:===================================>                   (63 + 8) / 97]\r",
      "\r",
      "[Stage 209:====================================>                  (64 + 8) / 97]\r"
     ]
    },
    {
     "name": "stderr",
     "output_type": "stream",
     "text": [
      "\r",
      "[Stage 209:=====================================>                 (67 + 8) / 97]\r",
      "\r",
      "[Stage 209:=======================================>               (70 + 8) / 97]\r"
     ]
    },
    {
     "name": "stderr",
     "output_type": "stream",
     "text": [
      "\r",
      "[Stage 209:========================================>              (72 + 8) / 97]\r"
     ]
    },
    {
     "name": "stderr",
     "output_type": "stream",
     "text": [
      "\r",
      "[Stage 209:==========================================>            (75 + 8) / 97]\r",
      "\r",
      "[Stage 209:============================================>          (79 + 8) / 97]\r"
     ]
    },
    {
     "name": "stderr",
     "output_type": "stream",
     "text": [
      "\r",
      "[Stage 209:=============================================>         (80 + 8) / 97]\r"
     ]
    },
    {
     "name": "stderr",
     "output_type": "stream",
     "text": [
      "\r",
      "[Stage 209:==============================================>        (82 + 8) / 97]\r",
      "\r",
      "[Stage 209:=================================================>     (87 + 8) / 97]\r"
     ]
    },
    {
     "name": "stderr",
     "output_type": "stream",
     "text": [
      "\r",
      "[Stage 209:=================================================>     (88 + 8) / 97]\r"
     ]
    },
    {
     "name": "stderr",
     "output_type": "stream",
     "text": [
      "\r",
      "[Stage 209:=====================================================> (95 + 2) / 97]\r",
      "\r",
      "[Stage 209:======================================================>(96 + 1) / 97]\r"
     ]
    },
    {
     "name": "stderr",
     "output_type": "stream",
     "text": [
      "\r",
      "                                                                                \r"
     ]
    },
    {
     "name": "stderr",
     "output_type": "stream",
     "text": [
      "\r",
      "[Stage 212:>                                                       (0 + 8) / 97]\r"
     ]
    },
    {
     "name": "stderr",
     "output_type": "stream",
     "text": [
      "\r",
      "[Stage 212:====>                                                   (8 + 8) / 97]\r"
     ]
    },
    {
     "name": "stderr",
     "output_type": "stream",
     "text": [
      "\r",
      "[Stage 212:=======>                                               (13 + 8) / 97]\r",
      "\r",
      "[Stage 212:=========>                                             (16 + 8) / 97]\r"
     ]
    },
    {
     "name": "stderr",
     "output_type": "stream",
     "text": [
      "\r",
      "[Stage 212:===========>                                           (21 + 8) / 97]\r",
      "\r",
      "[Stage 212:=============>                                         (24 + 8) / 97]\r"
     ]
    },
    {
     "name": "stderr",
     "output_type": "stream",
     "text": [
      "\r",
      "[Stage 212:===============>                                       (27 + 8) / 97]\r",
      "\r",
      "[Stage 212:=================>                                     (31 + 8) / 97]\r"
     ]
    },
    {
     "name": "stderr",
     "output_type": "stream",
     "text": [
      "\r",
      "[Stage 212:==================>                                    (32 + 8) / 97]\r"
     ]
    },
    {
     "name": "stderr",
     "output_type": "stream",
     "text": [
      "\r",
      "[Stage 212:====================>                                  (37 + 8) / 97]\r",
      "\r",
      "[Stage 212:======================>                                (40 + 8) / 97]\r"
     ]
    },
    {
     "name": "stderr",
     "output_type": "stream",
     "text": [
      "\r",
      "[Stage 212:========================>                              (44 + 8) / 97]\r",
      "\r",
      "[Stage 212:==========================>                            (47 + 8) / 97]\r"
     ]
    },
    {
     "name": "stderr",
     "output_type": "stream",
     "text": [
      "\r",
      "[Stage 212:===========================>                           (48 + 8) / 97]\r"
     ]
    },
    {
     "name": "stderr",
     "output_type": "stream",
     "text": [
      "\r",
      "[Stage 212:===========================>                           (49 + 8) / 97]\r",
      "\r",
      "[Stage 212:==============================>                        (54 + 8) / 97]\r"
     ]
    },
    {
     "name": "stderr",
     "output_type": "stream",
     "text": [
      "\r",
      "[Stage 212:===============================>                       (56 + 8) / 97]\r"
     ]
    },
    {
     "name": "stderr",
     "output_type": "stream",
     "text": [
      "\r",
      "[Stage 212:==================================>                    (60 + 8) / 97]\r",
      "\r",
      "[Stage 212:===================================>                   (63 + 8) / 97]\r"
     ]
    },
    {
     "name": "stderr",
     "output_type": "stream",
     "text": [
      "\r",
      "[Stage 212:====================================>                  (64 + 8) / 97]\r"
     ]
    },
    {
     "name": "stderr",
     "output_type": "stream",
     "text": [
      "\r",
      "[Stage 212:====================================>                  (65 + 8) / 97]\r",
      "\r",
      "[Stage 212:======================================>                (68 + 8) / 97]\r"
     ]
    },
    {
     "name": "stderr",
     "output_type": "stream",
     "text": [
      "\r",
      "[Stage 212:========================================>              (72 + 8) / 97]\r"
     ]
    },
    {
     "name": "stderr",
     "output_type": "stream",
     "text": [
      "\r",
      "[Stage 212:===========================================>           (76 + 8) / 97]\r",
      "\r",
      "[Stage 212:============================================>          (78 + 8) / 97]\r"
     ]
    },
    {
     "name": "stderr",
     "output_type": "stream",
     "text": [
      "\r",
      "[Stage 212:=============================================>         (80 + 8) / 97]\r"
     ]
    },
    {
     "name": "stderr",
     "output_type": "stream",
     "text": [
      "\r",
      "[Stage 212:================================================>      (86 + 8) / 97]\r",
      "\r",
      "[Stage 212:=================================================>     (88 + 8) / 97]\r"
     ]
    },
    {
     "name": "stderr",
     "output_type": "stream",
     "text": [
      "\r",
      "[Stage 212:====================================================>  (93 + 4) / 97]\r",
      "\r",
      "[Stage 212:======================================================>(96 + 1) / 97]\r"
     ]
    },
    {
     "name": "stderr",
     "output_type": "stream",
     "text": [
      "\r",
      "                                                                                \r"
     ]
    },
    {
     "name": "stderr",
     "output_type": "stream",
     "text": [
      "\r",
      "[Stage 215:>                                                       (0 + 8) / 97]\r"
     ]
    },
    {
     "name": "stderr",
     "output_type": "stream",
     "text": [
      "\r",
      "[Stage 215:===>                                                    (6 + 8) / 97]\r",
      "\r",
      "[Stage 215:====>                                                   (8 + 8) / 97]\r"
     ]
    },
    {
     "name": "stderr",
     "output_type": "stream",
     "text": [
      "\r",
      "[Stage 215:======>                                                (12 + 8) / 97]\r",
      "\r",
      "[Stage 215:========>                                              (15 + 8) / 97]\r"
     ]
    },
    {
     "name": "stderr",
     "output_type": "stream",
     "text": [
      "\r",
      "[Stage 215:=========>                                             (16 + 8) / 97]\r"
     ]
    },
    {
     "name": "stderr",
     "output_type": "stream",
     "text": [
      "\r",
      "[Stage 215:===========>                                           (21 + 8) / 97]\r",
      "\r",
      "[Stage 215:=============>                                         (23 + 8) / 97]\r"
     ]
    },
    {
     "name": "stderr",
     "output_type": "stream",
     "text": [
      "\r",
      "[Stage 215:=============>                                         (24 + 8) / 97]\r"
     ]
    },
    {
     "name": "stderr",
     "output_type": "stream",
     "text": [
      "\r",
      "[Stage 215:===============>                                       (27 + 8) / 97]\r",
      "\r",
      "[Stage 215:=================>                                     (30 + 8) / 97]\r"
     ]
    },
    {
     "name": "stderr",
     "output_type": "stream",
     "text": [
      "\r",
      "[Stage 215:==================>                                    (32 + 8) / 97]\r"
     ]
    },
    {
     "name": "stderr",
     "output_type": "stream",
     "text": [
      "\r",
      "[Stage 215:=====================>                                 (38 + 8) / 97]\r",
      "\r",
      "[Stage 215:======================>                                (40 + 8) / 97]\r"
     ]
    },
    {
     "name": "stderr",
     "output_type": "stream",
     "text": [
      "\r",
      "[Stage 215:========================>                              (43 + 8) / 97]\r",
      "\r",
      "[Stage 215:==========================>                            (47 + 8) / 97]\r"
     ]
    },
    {
     "name": "stderr",
     "output_type": "stream",
     "text": [
      "\r",
      "[Stage 215:===========================>                           (48 + 8) / 97]\r"
     ]
    },
    {
     "name": "stderr",
     "output_type": "stream",
     "text": [
      "\r",
      "[Stage 215:============================>                          (50 + 8) / 97]\r",
      "\r",
      "[Stage 215:=============================>                         (52 + 8) / 97]\r"
     ]
    },
    {
     "name": "stderr",
     "output_type": "stream",
     "text": [
      "\r",
      "[Stage 215:===============================>                       (55 + 8) / 97]\r",
      "\r",
      "[Stage 215:===============================>                       (56 + 8) / 97]\r"
     ]
    },
    {
     "name": "stderr",
     "output_type": "stream",
     "text": [
      "\r",
      "[Stage 215:=================================>                     (59 + 8) / 97]\r",
      "\r",
      "[Stage 215:===================================>                   (62 + 8) / 97]\r"
     ]
    },
    {
     "name": "stderr",
     "output_type": "stream",
     "text": [
      "\r",
      "[Stage 215:====================================>                  (64 + 8) / 97]\r"
     ]
    },
    {
     "name": "stderr",
     "output_type": "stream",
     "text": [
      "\r",
      "[Stage 215:====================================>                  (65 + 8) / 97]\r",
      "\r",
      "[Stage 215:======================================>                (68 + 8) / 97]\r"
     ]
    },
    {
     "name": "stderr",
     "output_type": "stream",
     "text": [
      "\r",
      "[Stage 215:========================================>              (71 + 8) / 97]\r",
      "\r",
      "[Stage 215:========================================>              (72 + 8) / 97]\r"
     ]
    },
    {
     "name": "stderr",
     "output_type": "stream",
     "text": [
      "\r",
      "[Stage 215:==========================================>            (75 + 8) / 97]\r",
      "\r",
      "[Stage 215:============================================>          (78 + 8) / 97]\r"
     ]
    },
    {
     "name": "stderr",
     "output_type": "stream",
     "text": [
      "\r",
      "[Stage 215:=============================================>         (80 + 8) / 97]\r"
     ]
    },
    {
     "name": "stderr",
     "output_type": "stream",
     "text": [
      "\r",
      "[Stage 215:=============================================>         (81 + 8) / 97]\r",
      "\r",
      "[Stage 215:===============================================>       (84 + 8) / 97]\r"
     ]
    },
    {
     "name": "stderr",
     "output_type": "stream",
     "text": [
      "\r",
      "[Stage 215:=================================================>     (87 + 8) / 97]\r",
      "\r",
      "[Stage 215:=================================================>     (88 + 8) / 97]\r"
     ]
    },
    {
     "name": "stderr",
     "output_type": "stream",
     "text": [
      "\r",
      "[Stage 215:==================================================>    (89 + 8) / 97]\r",
      "\r",
      "[Stage 215:====================================================>  (93 + 4) / 97]\r"
     ]
    },
    {
     "name": "stderr",
     "output_type": "stream",
     "text": [
      "\r",
      "[Stage 215:======================================================>(96 + 1) / 97]\r"
     ]
    },
    {
     "name": "stderr",
     "output_type": "stream",
     "text": [
      "\r",
      "                                                                                \r"
     ]
    },
    {
     "name": "stderr",
     "output_type": "stream",
     "text": [
      "\r",
      "[Stage 218:>                                                       (0 + 8) / 97]\r"
     ]
    },
    {
     "name": "stderr",
     "output_type": "stream",
     "text": [
      "\r",
      "[Stage 218:===>                                                    (6 + 8) / 97]\r",
      "\r",
      "[Stage 218:====>                                                   (8 + 8) / 97]\r"
     ]
    },
    {
     "name": "stderr",
     "output_type": "stream",
     "text": [
      "\r",
      "[Stage 218:======>                                                (12 + 8) / 97]\r",
      "\r",
      "[Stage 218:=========>                                             (16 + 8) / 97]\r"
     ]
    },
    {
     "name": "stderr",
     "output_type": "stream",
     "text": [
      "\r",
      "[Stage 218:===========>                                           (20 + 8) / 97]\r",
      "\r",
      "[Stage 218:=============>                                         (24 + 8) / 97]\r"
     ]
    },
    {
     "name": "stderr",
     "output_type": "stream",
     "text": [
      "\r",
      "[Stage 218:==============>                                        (25 + 8) / 97]\r",
      "\r",
      "[Stage 218:=================>                                     (30 + 8) / 97]\r"
     ]
    },
    {
     "name": "stderr",
     "output_type": "stream",
     "text": [
      "\r",
      "[Stage 218:==================>                                    (32 + 8) / 97]\r"
     ]
    },
    {
     "name": "stderr",
     "output_type": "stream",
     "text": [
      "\r",
      "[Stage 218:===================>                                   (35 + 8) / 97]\r",
      "\r",
      "[Stage 218:======================>                                (40 + 8) / 97]\r"
     ]
    },
    {
     "name": "stderr",
     "output_type": "stream",
     "text": [
      "\r",
      "[Stage 218:=======================>                               (41 + 8) / 97]\r",
      "\r",
      "[Stage 218:===========================>                           (48 + 8) / 97]\r"
     ]
    },
    {
     "name": "stderr",
     "output_type": "stream",
     "text": [
      "\r",
      "[Stage 218:==============================>                        (53 + 8) / 97]\r",
      "\r",
      "[Stage 218:===============================>                       (56 + 8) / 97]\r"
     ]
    },
    {
     "name": "stderr",
     "output_type": "stream",
     "text": [
      "\r",
      "[Stage 218:=================================>                     (59 + 8) / 97]\r",
      "\r",
      "[Stage 218:===================================>                   (63 + 8) / 97]\r"
     ]
    },
    {
     "name": "stderr",
     "output_type": "stream",
     "text": [
      "\r",
      "[Stage 218:====================================>                  (64 + 8) / 97]\r"
     ]
    },
    {
     "name": "stderr",
     "output_type": "stream",
     "text": [
      "\r",
      "[Stage 218:=======================================>               (69 + 8) / 97]\r",
      "\r",
      "[Stage 218:========================================>              (72 + 8) / 97]\r"
     ]
    },
    {
     "name": "stderr",
     "output_type": "stream",
     "text": [
      "\r",
      "[Stage 218:=========================================>             (74 + 8) / 97]\r",
      "\r",
      "[Stage 218:============================================>          (79 + 8) / 97]\r"
     ]
    },
    {
     "name": "stderr",
     "output_type": "stream",
     "text": [
      "\r",
      "[Stage 218:=============================================>         (80 + 8) / 97]\r"
     ]
    },
    {
     "name": "stderr",
     "output_type": "stream",
     "text": [
      "\r",
      "[Stage 218:===============================================>       (84 + 8) / 97]\r",
      "\r",
      "[Stage 218:=================================================>     (88 + 8) / 97]\r"
     ]
    },
    {
     "name": "stderr",
     "output_type": "stream",
     "text": [
      "\r",
      "[Stage 218:====================================================>  (92 + 5) / 97]\r",
      "\r",
      "[Stage 218:======================================================>(96 + 1) / 97]\r"
     ]
    },
    {
     "name": "stderr",
     "output_type": "stream",
     "text": [
      "\r",
      "                                                                                \r"
     ]
    },
    {
     "name": "stderr",
     "output_type": "stream",
     "text": [
      "\r",
      "[Stage 221:>                                                       (0 + 8) / 97]\r"
     ]
    },
    {
     "name": "stderr",
     "output_type": "stream",
     "text": [
      "\r",
      "[Stage 221:===>                                                    (6 + 8) / 97]\r",
      "\r",
      "[Stage 221:====>                                                   (8 + 8) / 97]\r"
     ]
    },
    {
     "name": "stderr",
     "output_type": "stream",
     "text": [
      "\r",
      "[Stage 221:======>                                                (11 + 8) / 97]\r",
      "\r",
      "[Stage 221:=========>                                             (16 + 8) / 97]\r"
     ]
    },
    {
     "name": "stderr",
     "output_type": "stream",
     "text": [
      "\r",
      "[Stage 221:==========>                                            (19 + 8) / 97]\r",
      "\r",
      "[Stage 221:=============>                                         (24 + 8) / 97]\r"
     ]
    },
    {
     "name": "stderr",
     "output_type": "stream",
     "text": [
      "\r",
      "[Stage 221:==================>                                    (32 + 8) / 97]\r"
     ]
    },
    {
     "name": "stderr",
     "output_type": "stream",
     "text": [
      "\r",
      "[Stage 221:====================>                                  (36 + 8) / 97]\r",
      "\r",
      "[Stage 221:======================>                                (40 + 8) / 97]\r"
     ]
    },
    {
     "name": "stderr",
     "output_type": "stream",
     "text": [
      "\r",
      "[Stage 221:=======================>                               (42 + 8) / 97]\r",
      "\r",
      "[Stage 221:==========================>                            (47 + 8) / 97]\r"
     ]
    },
    {
     "name": "stderr",
     "output_type": "stream",
     "text": [
      "\r",
      "[Stage 221:===========================>                           (48 + 8) / 97]\r"
     ]
    },
    {
     "name": "stderr",
     "output_type": "stream",
     "text": [
      "\r",
      "[Stage 221:============================>                          (51 + 8) / 97]\r",
      "\r",
      "[Stage 221:===============================>                       (55 + 8) / 97]\r"
     ]
    },
    {
     "name": "stderr",
     "output_type": "stream",
     "text": [
      "\r",
      "[Stage 221:===============================>                       (56 + 8) / 97]\r"
     ]
    },
    {
     "name": "stderr",
     "output_type": "stream",
     "text": [
      "\r",
      "[Stage 221:================================>                      (58 + 8) / 97]\r",
      "\r",
      "[Stage 221:===================================>                   (63 + 8) / 97]\r"
     ]
    },
    {
     "name": "stderr",
     "output_type": "stream",
     "text": [
      "\r",
      "[Stage 221:====================================>                  (64 + 8) / 97]\r"
     ]
    },
    {
     "name": "stderr",
     "output_type": "stream",
     "text": [
      "\r",
      "[Stage 221:======================================>                (68 + 8) / 97]\r",
      "\r",
      "[Stage 221:========================================>              (71 + 8) / 97]\r"
     ]
    },
    {
     "name": "stderr",
     "output_type": "stream",
     "text": [
      "\r",
      "[Stage 221:========================================>              (72 + 8) / 97]\r"
     ]
    },
    {
     "name": "stderr",
     "output_type": "stream",
     "text": [
      "\r",
      "[Stage 221:==========================================>            (75 + 8) / 97]\r"
     ]
    },
    {
     "name": "stderr",
     "output_type": "stream",
     "text": [
      "\r",
      "[Stage 221:============================================>          (78 + 8) / 97]\r",
      "\r",
      "[Stage 221:============================================>          (79 + 8) / 97]\r"
     ]
    },
    {
     "name": "stderr",
     "output_type": "stream",
     "text": [
      "\r",
      "[Stage 221:=============================================>         (80 + 8) / 97]\r"
     ]
    },
    {
     "name": "stderr",
     "output_type": "stream",
     "text": [
      "\r",
      "[Stage 221:=============================================>         (81 + 8) / 97]\r",
      "\r",
      "[Stage 221:===============================================>       (84 + 8) / 97]\r"
     ]
    },
    {
     "name": "stderr",
     "output_type": "stream",
     "text": [
      "\r",
      "[Stage 221:=================================================>     (87 + 8) / 97]\r"
     ]
    },
    {
     "name": "stderr",
     "output_type": "stream",
     "text": [
      "\r",
      "[Stage 221:=================================================>     (88 + 8) / 97]\r"
     ]
    },
    {
     "name": "stderr",
     "output_type": "stream",
     "text": [
      "\r",
      "[Stage 221:===================================================>   (90 + 7) / 97]\r",
      "\r",
      "[Stage 221:=====================================================> (95 + 2) / 97]\r"
     ]
    },
    {
     "name": "stderr",
     "output_type": "stream",
     "text": [
      "\r",
      "[Stage 221:======================================================>(96 + 1) / 97]\r",
      "\r",
      "                                                                                \r"
     ]
    },
    {
     "name": "stderr",
     "output_type": "stream",
     "text": [
      "\r",
      "[Stage 224:>                                                       (0 + 8) / 97]\r"
     ]
    },
    {
     "name": "stderr",
     "output_type": "stream",
     "text": [
      "\r",
      "[Stage 224:====>                                                   (8 + 8) / 97]\r"
     ]
    },
    {
     "name": "stderr",
     "output_type": "stream",
     "text": [
      "\r",
      "[Stage 224:=======>                                               (14 + 8) / 97]\r",
      "\r",
      "[Stage 224:=========>                                             (16 + 8) / 97]\r"
     ]
    },
    {
     "name": "stderr",
     "output_type": "stream",
     "text": [
      "\r",
      "[Stage 224:============>                                          (22 + 8) / 97]\r",
      "\r",
      "[Stage 224:=============>                                         (24 + 8) / 97]\r"
     ]
    },
    {
     "name": "stderr",
     "output_type": "stream",
     "text": [
      "\r",
      "[Stage 224:==============>                                        (26 + 8) / 97]\r",
      "\r",
      "[Stage 224:=================>                                     (31 + 8) / 97]\r"
     ]
    },
    {
     "name": "stderr",
     "output_type": "stream",
     "text": [
      "\r",
      "[Stage 224:==================>                                    (32 + 8) / 97]\r"
     ]
    },
    {
     "name": "stderr",
     "output_type": "stream",
     "text": [
      "\r",
      "[Stage 224:====================>                                  (36 + 8) / 97]\r",
      "\r",
      "[Stage 224:======================>                                (40 + 8) / 97]\r"
     ]
    },
    {
     "name": "stderr",
     "output_type": "stream",
     "text": [
      "\r",
      "[Stage 224:=======================>                               (41 + 8) / 97]\r",
      "\r",
      "[Stage 224:==========================>                            (47 + 8) / 97]\r"
     ]
    },
    {
     "name": "stderr",
     "output_type": "stream",
     "text": [
      "\r",
      "[Stage 224:===========================>                           (48 + 8) / 97]\r"
     ]
    },
    {
     "name": "stderr",
     "output_type": "stream",
     "text": [
      "\r",
      "[Stage 224:==============================>                        (54 + 8) / 97]\r",
      "\r",
      "[Stage 224:===============================>                       (56 + 8) / 97]\r"
     ]
    },
    {
     "name": "stderr",
     "output_type": "stream",
     "text": [
      "\r",
      "[Stage 224:================================>                      (58 + 8) / 97]\r",
      "\r",
      "[Stage 224:===================================>                   (63 + 8) / 97]\r"
     ]
    },
    {
     "name": "stderr",
     "output_type": "stream",
     "text": [
      "\r",
      "[Stage 224:====================================>                  (64 + 8) / 97]\r"
     ]
    },
    {
     "name": "stderr",
     "output_type": "stream",
     "text": [
      "\r",
      "[Stage 224:====================================>                  (65 + 8) / 97]\r",
      "\r",
      "[Stage 224:=======================================>               (69 + 8) / 97]\r"
     ]
    },
    {
     "name": "stderr",
     "output_type": "stream",
     "text": [
      "\r",
      "[Stage 224:========================================>              (71 + 8) / 97]\r",
      "\r",
      "[Stage 224:========================================>              (72 + 8) / 97]\r"
     ]
    },
    {
     "name": "stderr",
     "output_type": "stream",
     "text": [
      "\r",
      "[Stage 224:=========================================>             (73 + 8) / 97]\r"
     ]
    },
    {
     "name": "stderr",
     "output_type": "stream",
     "text": [
      "\r",
      "[Stage 224:===========================================>           (76 + 8) / 97]\r",
      "\r",
      "[Stage 224:=============================================>         (80 + 8) / 97]\r"
     ]
    },
    {
     "name": "stderr",
     "output_type": "stream",
     "text": [
      "\r",
      "[Stage 224:=============================================>         (81 + 8) / 97]\r"
     ]
    },
    {
     "name": "stderr",
     "output_type": "stream",
     "text": [
      "\r",
      "[Stage 224:===============================================>       (84 + 8) / 97]\r",
      "\r",
      "[Stage 224:=================================================>     (88 + 8) / 97]\r"
     ]
    },
    {
     "name": "stderr",
     "output_type": "stream",
     "text": [
      "\r",
      "[Stage 224:==================================================>    (89 + 8) / 97]\r",
      "\r",
      "[Stage 224:===================================================>   (90 + 7) / 97]\r"
     ]
    },
    {
     "name": "stderr",
     "output_type": "stream",
     "text": [
      "\r",
      "[Stage 224:======================================================>(96 + 1) / 97]\r"
     ]
    },
    {
     "name": "stderr",
     "output_type": "stream",
     "text": [
      "\r",
      "                                                                                \r"
     ]
    },
    {
     "name": "stderr",
     "output_type": "stream",
     "text": [
      "\r",
      "[Stage 227:>                                                       (0 + 8) / 97]\r"
     ]
    },
    {
     "name": "stderr",
     "output_type": "stream",
     "text": [
      "\r",
      "[Stage 227:=>                                                      (3 + 8) / 97]\r",
      "\r",
      "[Stage 227:====>                                                   (8 + 8) / 97]\r"
     ]
    },
    {
     "name": "stderr",
     "output_type": "stream",
     "text": [
      "\r",
      "[Stage 227:=====>                                                  (9 + 8) / 97]\r",
      "\r",
      "[Stage 227:=======>                                               (13 + 8) / 97]\r"
     ]
    },
    {
     "name": "stderr",
     "output_type": "stream",
     "text": [
      "\r",
      "[Stage 227:=========>                                             (16 + 8) / 97]\r"
     ]
    },
    {
     "name": "stderr",
     "output_type": "stream",
     "text": [
      "\r",
      "[Stage 227:============>                                          (22 + 8) / 97]\r"
     ]
    },
    {
     "name": "stderr",
     "output_type": "stream",
     "text": [
      "\r",
      "[Stage 227:=============>                                         (24 + 8) / 97]\r"
     ]
    },
    {
     "name": "stderr",
     "output_type": "stream",
     "text": [
      "\r",
      "[Stage 227:================>                                      (29 + 8) / 97]\r",
      "\r",
      "[Stage 227:==================>                                    (32 + 8) / 97]\r"
     ]
    },
    {
     "name": "stderr",
     "output_type": "stream",
     "text": [
      "\r",
      "[Stage 227:====================>                                  (36 + 8) / 97]\r",
      "\r",
      "[Stage 227:======================>                                (39 + 8) / 97]\r"
     ]
    },
    {
     "name": "stderr",
     "output_type": "stream",
     "text": [
      "\r",
      "[Stage 227:======================>                                (40 + 8) / 97]\r"
     ]
    },
    {
     "name": "stderr",
     "output_type": "stream",
     "text": [
      "\r",
      "[Stage 227:=======================>                               (41 + 8) / 97]\r",
      "\r",
      "[Stage 227:========================>                              (44 + 8) / 97]\r"
     ]
    },
    {
     "name": "stderr",
     "output_type": "stream",
     "text": [
      "\r",
      "[Stage 227:===========================>                           (48 + 8) / 97]\r"
     ]
    },
    {
     "name": "stderr",
     "output_type": "stream",
     "text": [
      "\r",
      "[Stage 227:===========================>                           (49 + 8) / 97]\r",
      "\r",
      "[Stage 227:=============================>                         (52 + 8) / 97]\r"
     ]
    },
    {
     "name": "stderr",
     "output_type": "stream",
     "text": [
      "\r",
      "[Stage 227:===============================>                       (56 + 8) / 97]\r"
     ]
    },
    {
     "name": "stderr",
     "output_type": "stream",
     "text": [
      "\r",
      "[Stage 227:================================>                      (57 + 8) / 97]\r",
      "\r",
      "[Stage 227:==================================>                    (61 + 8) / 97]\r"
     ]
    },
    {
     "name": "stderr",
     "output_type": "stream",
     "text": [
      "\r",
      "[Stage 227:====================================>                  (64 + 8) / 97]\r"
     ]
    },
    {
     "name": "stderr",
     "output_type": "stream",
     "text": [
      "\r",
      "[Stage 227:====================================>                  (65 + 8) / 97]\r"
     ]
    },
    {
     "name": "stderr",
     "output_type": "stream",
     "text": [
      "\r",
      "[Stage 227:=======================================>               (70 + 8) / 97]\r",
      "\r",
      "[Stage 227:========================================>              (72 + 8) / 97]\r"
     ]
    },
    {
     "name": "stderr",
     "output_type": "stream",
     "text": [
      "\r",
      "[Stage 227:=========================================>             (73 + 8) / 97]\r",
      "\r",
      "[Stage 227:==========================================>            (75 + 8) / 97]\r"
     ]
    },
    {
     "name": "stderr",
     "output_type": "stream",
     "text": [
      "\r",
      "[Stage 227:============================================>          (79 + 8) / 97]\r",
      "\r",
      "[Stage 227:=============================================>         (80 + 8) / 97]\r"
     ]
    },
    {
     "name": "stderr",
     "output_type": "stream",
     "text": [
      "\r",
      "[Stage 227:=============================================>         (81 + 8) / 97]\r",
      "\r",
      "[Stage 227:================================================>      (85 + 8) / 97]\r"
     ]
    },
    {
     "name": "stderr",
     "output_type": "stream",
     "text": [
      "\r",
      "[Stage 227:=================================================>     (88 + 8) / 97]\r"
     ]
    },
    {
     "name": "stderr",
     "output_type": "stream",
     "text": [
      "\r",
      "[Stage 227:==================================================>    (89 + 8) / 97]\r",
      "\r",
      "[Stage 227:====================================================>  (92 + 5) / 97]\r"
     ]
    },
    {
     "name": "stderr",
     "output_type": "stream",
     "text": [
      "\r",
      "[Stage 227:======================================================>(96 + 1) / 97]\r"
     ]
    },
    {
     "name": "stderr",
     "output_type": "stream",
     "text": [
      "\r",
      "                                                                                \r"
     ]
    },
    {
     "name": "stderr",
     "output_type": "stream",
     "text": [
      "\r",
      "[Stage 230:>                                                       (0 + 8) / 97]\r"
     ]
    },
    {
     "name": "stderr",
     "output_type": "stream",
     "text": [
      "\r",
      "[Stage 230:==>                                                     (4 + 8) / 97]\r",
      "\r",
      "[Stage 230:====>                                                   (8 + 8) / 97]\r"
     ]
    },
    {
     "name": "stderr",
     "output_type": "stream",
     "text": [
      "\r",
      "[Stage 230:=========>                                             (16 + 8) / 97]\r"
     ]
    },
    {
     "name": "stderr",
     "output_type": "stream",
     "text": [
      "\r",
      "[Stage 230:=============>                                         (24 + 8) / 97]\r"
     ]
    },
    {
     "name": "stderr",
     "output_type": "stream",
     "text": [
      "\r",
      "[Stage 230:=================>                                     (30 + 8) / 97]\r",
      "\r",
      "[Stage 230:==================>                                    (32 + 8) / 97]\r"
     ]
    },
    {
     "name": "stderr",
     "output_type": "stream",
     "text": [
      "\r",
      "[Stage 230:===================>                                   (34 + 8) / 97]\r",
      "\r",
      "[Stage 230:======================>                                (40 + 8) / 97]\r"
     ]
    },
    {
     "name": "stderr",
     "output_type": "stream",
     "text": [
      "\r",
      "[Stage 230:==========================>                            (46 + 8) / 97]\r",
      "\r",
      "[Stage 230:===========================>                           (48 + 8) / 97]\r"
     ]
    },
    {
     "name": "stderr",
     "output_type": "stream",
     "text": [
      "\r",
      "[Stage 230:============================>                          (50 + 8) / 97]\r",
      "\r",
      "[Stage 230:==============================>                        (54 + 8) / 97]\r"
     ]
    },
    {
     "name": "stderr",
     "output_type": "stream",
     "text": [
      "\r",
      "[Stage 230:===============================>                       (56 + 8) / 97]\r"
     ]
    },
    {
     "name": "stderr",
     "output_type": "stream",
     "text": [
      "\r",
      "[Stage 230:==================================>                    (60 + 8) / 97]\r",
      "\r",
      "[Stage 230:===================================>                   (63 + 8) / 97]\r"
     ]
    },
    {
     "name": "stderr",
     "output_type": "stream",
     "text": [
      "\r",
      "[Stage 230:====================================>                  (64 + 8) / 97]\r"
     ]
    },
    {
     "name": "stderr",
     "output_type": "stream",
     "text": [
      "\r",
      "[Stage 230:=======================================>               (69 + 8) / 97]\r",
      "\r",
      "[Stage 230:========================================>              (72 + 8) / 97]\r"
     ]
    },
    {
     "name": "stderr",
     "output_type": "stream",
     "text": [
      "\r",
      "[Stage 230:=========================================>             (73 + 8) / 97]\r",
      "\r",
      "[Stage 230:============================================>          (78 + 8) / 97]\r"
     ]
    },
    {
     "name": "stderr",
     "output_type": "stream",
     "text": [
      "\r",
      "[Stage 230:=============================================>         (80 + 8) / 97]\r"
     ]
    },
    {
     "name": "stderr",
     "output_type": "stream",
     "text": [
      "\r",
      "[Stage 230:===============================================>       (84 + 8) / 97]\r",
      "\r",
      "[Stage 230:=================================================>     (88 + 8) / 97]\r"
     ]
    },
    {
     "name": "stderr",
     "output_type": "stream",
     "text": [
      "\r",
      "[Stage 230:===================================================>   (90 + 7) / 97]\r",
      "\r",
      "[Stage 230:======================================================>(96 + 1) / 97]\r"
     ]
    },
    {
     "name": "stderr",
     "output_type": "stream",
     "text": [
      "\r",
      "                                                                                \r"
     ]
    },
    {
     "name": "stderr",
     "output_type": "stream",
     "text": [
      "\r",
      "[Stage 233:>                                                       (0 + 8) / 97]\r"
     ]
    },
    {
     "name": "stderr",
     "output_type": "stream",
     "text": [
      "\r",
      "[Stage 233:>                                                       (1 + 8) / 97]\r",
      "\r",
      "[Stage 233:====>                                                   (8 + 8) / 97]\r"
     ]
    },
    {
     "name": "stderr",
     "output_type": "stream",
     "text": [
      "\r",
      "[Stage 233:=======>                                               (14 + 8) / 97]\r",
      "\r",
      "[Stage 233:=========>                                             (16 + 8) / 97]\r"
     ]
    },
    {
     "name": "stderr",
     "output_type": "stream",
     "text": [
      "\r",
      "[Stage 233:=============>                                         (23 + 8) / 97]\r",
      "\r",
      "[Stage 233:=============>                                         (24 + 8) / 97]\r"
     ]
    },
    {
     "name": "stderr",
     "output_type": "stream",
     "text": [
      "\r",
      "[Stage 233:=================>                                     (30 + 8) / 97]\r",
      "\r",
      "[Stage 233:==================>                                    (32 + 8) / 97]\r"
     ]
    },
    {
     "name": "stderr",
     "output_type": "stream",
     "text": [
      "\r",
      "[Stage 233:====================>                                  (37 + 8) / 97]\r",
      "\r",
      "[Stage 233:======================>                                (40 + 8) / 97]\r"
     ]
    },
    {
     "name": "stderr",
     "output_type": "stream",
     "text": [
      "\r",
      "[Stage 233:=======================>                               (42 + 8) / 97]\r"
     ]
    },
    {
     "name": "stderr",
     "output_type": "stream",
     "text": [
      "\r",
      "[Stage 233:==========================>                            (47 + 8) / 97]\r",
      "\r",
      "[Stage 233:===========================>                           (48 + 8) / 97]\r"
     ]
    },
    {
     "name": "stderr",
     "output_type": "stream",
     "text": [
      "\r",
      "[Stage 233:============================>                          (50 + 8) / 97]\r",
      "\r",
      "[Stage 233:==============================>                        (54 + 8) / 97]\r"
     ]
    },
    {
     "name": "stderr",
     "output_type": "stream",
     "text": [
      "\r",
      "[Stage 233:===============================>                       (56 + 8) / 97]\r"
     ]
    },
    {
     "name": "stderr",
     "output_type": "stream",
     "text": [
      "\r",
      "[Stage 233:================================>                      (58 + 8) / 97]\r",
      "\r",
      "[Stage 233:=================================>                     (59 + 8) / 97]\r"
     ]
    },
    {
     "name": "stderr",
     "output_type": "stream",
     "text": [
      "\r",
      "[Stage 233:===================================>                   (62 + 8) / 97]\r",
      "\r",
      "[Stage 233:===================================>                   (63 + 8) / 97]\r"
     ]
    },
    {
     "name": "stderr",
     "output_type": "stream",
     "text": [
      "\r",
      "[Stage 233:====================================>                  (64 + 8) / 97]\r"
     ]
    },
    {
     "name": "stderr",
     "output_type": "stream",
     "text": [
      "\r",
      "[Stage 233:=====================================>                 (66 + 8) / 97]\r",
      "\r",
      "[Stage 233:======================================>                (68 + 8) / 97]\r"
     ]
    },
    {
     "name": "stderr",
     "output_type": "stream",
     "text": [
      "\r",
      "[Stage 233:=======================================>               (70 + 8) / 97]\r"
     ]
    },
    {
     "name": "stderr",
     "output_type": "stream",
     "text": [
      "\r",
      "[Stage 233:========================================>              (72 + 8) / 97]\r"
     ]
    },
    {
     "name": "stderr",
     "output_type": "stream",
     "text": [
      "\r",
      "[Stage 233:=========================================>             (74 + 8) / 97]\r",
      "\r",
      "[Stage 233:===========================================>           (76 + 8) / 97]\r"
     ]
    },
    {
     "name": "stderr",
     "output_type": "stream",
     "text": [
      "\r",
      "[Stage 233:============================================>          (78 + 8) / 97]\r",
      "\r",
      "[Stage 233:============================================>          (79 + 8) / 97]\r"
     ]
    },
    {
     "name": "stderr",
     "output_type": "stream",
     "text": [
      "\r",
      "[Stage 233:=============================================>         (80 + 8) / 97]\r"
     ]
    },
    {
     "name": "stderr",
     "output_type": "stream",
     "text": [
      "\r",
      "[Stage 233:===============================================>       (83 + 8) / 97]\r",
      "\r",
      "[Stage 233:===============================================>       (84 + 8) / 97]\r"
     ]
    },
    {
     "name": "stderr",
     "output_type": "stream",
     "text": [
      "\r",
      "[Stage 233:================================================>      (85 + 8) / 97]\r"
     ]
    },
    {
     "name": "stderr",
     "output_type": "stream",
     "text": [
      "\r",
      "[Stage 233:================================================>      (86 + 8) / 97]\r",
      "\r",
      "[Stage 233:=================================================>     (88 + 8) / 97]\r"
     ]
    },
    {
     "name": "stderr",
     "output_type": "stream",
     "text": [
      "\r",
      "[Stage 233:==================================================>    (89 + 8) / 97]\r",
      "\r",
      "[Stage 233:===================================================>   (91 + 6) / 97]\r"
     ]
    },
    {
     "name": "stderr",
     "output_type": "stream",
     "text": [
      "\r",
      "[Stage 233:====================================================>  (92 + 5) / 97]\r",
      "\r",
      "[Stage 233:====================================================>  (93 + 4) / 97]\r"
     ]
    },
    {
     "name": "stderr",
     "output_type": "stream",
     "text": [
      "\r",
      "[Stage 233:======================================================>(96 + 1) / 97]\r"
     ]
    },
    {
     "name": "stderr",
     "output_type": "stream",
     "text": [
      "\r",
      "                                                                                \r"
     ]
    },
    {
     "name": "stderr",
     "output_type": "stream",
     "text": [
      "\r",
      "[Stage 236:>                                                       (0 + 8) / 97]\r"
     ]
    },
    {
     "name": "stderr",
     "output_type": "stream",
     "text": [
      "\r",
      "[Stage 236:====>                                                   (8 + 8) / 97]\r"
     ]
    },
    {
     "name": "stderr",
     "output_type": "stream",
     "text": [
      "\r",
      "[Stage 236:========>                                              (15 + 8) / 97]\r",
      "\r",
      "[Stage 236:=========>                                             (16 + 8) / 97]\r"
     ]
    },
    {
     "name": "stderr",
     "output_type": "stream",
     "text": [
      "\r",
      "[Stage 236:=============>                                         (23 + 8) / 97]\r",
      "\r",
      "[Stage 236:=============>                                         (24 + 8) / 97]\r"
     ]
    },
    {
     "name": "stderr",
     "output_type": "stream",
     "text": [
      "\r",
      "[Stage 236:===============>                                       (28 + 8) / 97]\r",
      "\r",
      "[Stage 236:==================>                                    (32 + 8) / 97]\r"
     ]
    },
    {
     "name": "stderr",
     "output_type": "stream",
     "text": [
      "\r",
      "[Stage 236:===================>                                   (35 + 8) / 97]\r",
      "\r",
      "[Stage 236:======================>                                (40 + 8) / 97]\r"
     ]
    },
    {
     "name": "stderr",
     "output_type": "stream",
     "text": [
      "\r",
      "[Stage 236:=======================>                               (42 + 8) / 97]\r",
      "\r",
      "[Stage 236:===========================>                           (48 + 8) / 97]\r"
     ]
    },
    {
     "name": "stderr",
     "output_type": "stream",
     "text": [
      "\r",
      "[Stage 236:===========================>                           (49 + 8) / 97]\r",
      "\r",
      "[Stage 236:===============================>                       (55 + 8) / 97]\r"
     ]
    },
    {
     "name": "stderr",
     "output_type": "stream",
     "text": [
      "\r",
      "[Stage 236:===============================>                       (56 + 8) / 97]\r"
     ]
    },
    {
     "name": "stderr",
     "output_type": "stream",
     "text": [
      "\r",
      "[Stage 236:================================>                      (57 + 8) / 97]\r",
      "\r",
      "[Stage 236:==================================>                    (60 + 8) / 97]\r"
     ]
    },
    {
     "name": "stderr",
     "output_type": "stream",
     "text": [
      "\r",
      "[Stage 236:====================================>                  (64 + 8) / 97]\r"
     ]
    },
    {
     "name": "stderr",
     "output_type": "stream",
     "text": [
      "\r",
      "[Stage 236:=====================================>                 (67 + 8) / 97]\r",
      "\r",
      "[Stage 236:=======================================>               (70 + 8) / 97]\r"
     ]
    },
    {
     "name": "stderr",
     "output_type": "stream",
     "text": [
      "\r",
      "[Stage 236:========================================>              (72 + 8) / 97]\r"
     ]
    },
    {
     "name": "stderr",
     "output_type": "stream",
     "text": [
      "\r",
      "[Stage 236:=========================================>             (73 + 8) / 97]\r",
      "\r",
      "[Stage 236:===========================================>           (76 + 8) / 97]\r"
     ]
    },
    {
     "name": "stderr",
     "output_type": "stream",
     "text": [
      "\r",
      "[Stage 236:============================================>          (79 + 8) / 97]\r",
      "\r",
      "[Stage 236:=============================================>         (80 + 8) / 97]\r"
     ]
    },
    {
     "name": "stderr",
     "output_type": "stream",
     "text": [
      "\r",
      "[Stage 236:==============================================>        (82 + 8) / 97]\r",
      "\r",
      "[Stage 236:================================================>      (85 + 8) / 97]\r"
     ]
    },
    {
     "name": "stderr",
     "output_type": "stream",
     "text": [
      "\r",
      "[Stage 236:=================================================>     (87 + 8) / 97]\r",
      "\r",
      "[Stage 236:=================================================>     (88 + 8) / 97]\r"
     ]
    },
    {
     "name": "stderr",
     "output_type": "stream",
     "text": [
      "\r",
      "[Stage 236:==================================================>    (89 + 8) / 97]\r",
      "\r",
      "[Stage 236:====================================================>  (92 + 5) / 97]\r"
     ]
    },
    {
     "name": "stderr",
     "output_type": "stream",
     "text": [
      "\r",
      "[Stage 236:======================================================>(96 + 1) / 97]\r"
     ]
    },
    {
     "name": "stderr",
     "output_type": "stream",
     "text": [
      "\r",
      "                                                                                \r"
     ]
    },
    {
     "name": "stderr",
     "output_type": "stream",
     "text": [
      "\r",
      "[Stage 239:>                                                       (0 + 8) / 97]\r"
     ]
    },
    {
     "name": "stderr",
     "output_type": "stream",
     "text": [
      "\r",
      "[Stage 239:===>                                                    (6 + 8) / 97]\r",
      "\r",
      "[Stage 239:====>                                                   (8 + 8) / 97]\r"
     ]
    },
    {
     "name": "stderr",
     "output_type": "stream",
     "text": [
      "\r",
      "[Stage 239:=======>                                               (14 + 8) / 97]\r",
      "\r",
      "[Stage 239:=========>                                             (16 + 8) / 97]\r"
     ]
    },
    {
     "name": "stderr",
     "output_type": "stream",
     "text": [
      "\r",
      "[Stage 239:=========>                                             (17 + 8) / 97]\r",
      "\r",
      "[Stage 239:=============>                                         (24 + 8) / 97]\r"
     ]
    },
    {
     "name": "stderr",
     "output_type": "stream",
     "text": [
      "\r",
      "[Stage 239:==============>                                        (25 + 8) / 97]\r",
      "\r",
      "[Stage 239:==================>                                    (32 + 8) / 97]\r"
     ]
    },
    {
     "name": "stderr",
     "output_type": "stream",
     "text": [
      "\r",
      "[Stage 239:===================>                                   (34 + 8) / 97]\r",
      "\r",
      "[Stage 239:======================>                                (39 + 8) / 97]\r"
     ]
    },
    {
     "name": "stderr",
     "output_type": "stream",
     "text": [
      "\r",
      "[Stage 239:======================>                                (40 + 8) / 97]\r"
     ]
    },
    {
     "name": "stderr",
     "output_type": "stream",
     "text": [
      "\r",
      "[Stage 239:========================>                              (43 + 8) / 97]\r",
      "\r",
      "[Stage 239:==========================>                            (47 + 8) / 97]\r"
     ]
    },
    {
     "name": "stderr",
     "output_type": "stream",
     "text": [
      "\r",
      "[Stage 239:===========================>                           (48 + 8) / 97]\r"
     ]
    },
    {
     "name": "stderr",
     "output_type": "stream",
     "text": [
      "\r",
      "[Stage 239:=============================>                         (52 + 8) / 97]\r",
      "\r",
      "[Stage 239:===============================>                       (55 + 8) / 97]\r"
     ]
    },
    {
     "name": "stderr",
     "output_type": "stream",
     "text": [
      "\r",
      "[Stage 239:===============================>                       (56 + 8) / 97]\r"
     ]
    },
    {
     "name": "stderr",
     "output_type": "stream",
     "text": [
      "\r",
      "[Stage 239:==================================>                    (61 + 8) / 97]\r",
      "\r",
      "[Stage 239:====================================>                  (64 + 8) / 97]\r"
     ]
    },
    {
     "name": "stderr",
     "output_type": "stream",
     "text": [
      "\r",
      "[Stage 239:====================================>                  (65 + 8) / 97]\r",
      "\r",
      "[Stage 239:======================================>                (68 + 8) / 97]\r"
     ]
    },
    {
     "name": "stderr",
     "output_type": "stream",
     "text": [
      "\r",
      "[Stage 239:========================================>              (72 + 8) / 97]\r"
     ]
    },
    {
     "name": "stderr",
     "output_type": "stream",
     "text": [
      "\r",
      "[Stage 239:=========================================>             (74 + 8) / 97]\r",
      "\r",
      "[Stage 239:============================================>          (79 + 8) / 97]\r"
     ]
    },
    {
     "name": "stderr",
     "output_type": "stream",
     "text": [
      "\r",
      "[Stage 239:=============================================>         (80 + 8) / 97]\r"
     ]
    },
    {
     "name": "stderr",
     "output_type": "stream",
     "text": [
      "\r",
      "[Stage 239:==============================================>        (82 + 8) / 97]\r",
      "\r",
      "[Stage 239:================================================>      (85 + 8) / 97]\r"
     ]
    },
    {
     "name": "stderr",
     "output_type": "stream",
     "text": [
      "\r",
      "[Stage 239:=================================================>     (87 + 8) / 97]\r",
      "\r",
      "[Stage 239:=================================================>     (88 + 8) / 97]\r"
     ]
    },
    {
     "name": "stderr",
     "output_type": "stream",
     "text": [
      "\r",
      "[Stage 239:===================================================>   (91 + 6) / 97]\r",
      "\r",
      "[Stage 239:====================================================>  (93 + 4) / 97]\r"
     ]
    },
    {
     "name": "stderr",
     "output_type": "stream",
     "text": [
      "\r",
      "[Stage 239:=====================================================> (95 + 2) / 97]\r",
      "\r",
      "[Stage 239:======================================================>(96 + 1) / 97]\r"
     ]
    },
    {
     "name": "stderr",
     "output_type": "stream",
     "text": [
      "\r",
      "                                                                                \r"
     ]
    },
    {
     "name": "stderr",
     "output_type": "stream",
     "text": [
      "\r",
      "[Stage 242:>                                                       (0 + 8) / 97]\r"
     ]
    },
    {
     "name": "stderr",
     "output_type": "stream",
     "text": [
      "\r",
      "[Stage 242:====>                                                   (7 + 8) / 97]\r",
      "\r",
      "[Stage 242:====>                                                   (8 + 8) / 97]\r"
     ]
    },
    {
     "name": "stderr",
     "output_type": "stream",
     "text": [
      "\r",
      "[Stage 242:=======>                                               (14 + 8) / 97]\r",
      "\r",
      "[Stage 242:=========>                                             (16 + 8) / 97]\r"
     ]
    },
    {
     "name": "stderr",
     "output_type": "stream",
     "text": [
      "\r",
      "[Stage 242:=============>                                         (23 + 8) / 97]\r"
     ]
    },
    {
     "name": "stderr",
     "output_type": "stream",
     "text": [
      "\r",
      "[Stage 242:=============>                                         (24 + 8) / 97]\r"
     ]
    },
    {
     "name": "stderr",
     "output_type": "stream",
     "text": [
      "\r",
      "[Stage 242:==============>                                        (26 + 8) / 97]\r",
      "\r",
      "[Stage 242:================>                                      (29 + 8) / 97]\r"
     ]
    },
    {
     "name": "stderr",
     "output_type": "stream",
     "text": [
      "\r",
      "[Stage 242:=================>                                     (31 + 8) / 97]\r",
      "\r",
      "[Stage 242:==================>                                    (32 + 8) / 97]\r"
     ]
    },
    {
     "name": "stderr",
     "output_type": "stream",
     "text": [
      "\r",
      "[Stage 242:==================>                                    (33 + 8) / 97]\r",
      "\r",
      "[Stage 242:===================>                                   (34 + 8) / 97]\r"
     ]
    },
    {
     "name": "stderr",
     "output_type": "stream",
     "text": [
      "\r",
      "[Stage 242:===================>                                   (35 + 8) / 97]\r",
      "\r",
      "[Stage 242:======================>                                (40 + 8) / 97]\r"
     ]
    },
    {
     "name": "stderr",
     "output_type": "stream",
     "text": [
      "\r",
      "[Stage 242:=======================>                               (41 + 8) / 97]\r",
      "\r",
      "[Stage 242:=======================>                               (42 + 8) / 97]\r"
     ]
    },
    {
     "name": "stderr",
     "output_type": "stream",
     "text": [
      "\r",
      "[Stage 242:==========================>                            (47 + 8) / 97]\r",
      "\r",
      "[Stage 242:===========================>                           (48 + 8) / 97]\r"
     ]
    },
    {
     "name": "stderr",
     "output_type": "stream",
     "text": [
      "\r",
      "[Stage 242:===========================>                           (49 + 8) / 97]\r"
     ]
    },
    {
     "name": "stderr",
     "output_type": "stream",
     "text": [
      "\r",
      "[Stage 242:============================>                          (50 + 8) / 97]\r",
      "\r",
      "[Stage 242:==============================>                        (54 + 8) / 97]\r"
     ]
    },
    {
     "name": "stderr",
     "output_type": "stream",
     "text": [
      "\r",
      "[Stage 242:===============================>                       (56 + 8) / 97]\r"
     ]
    },
    {
     "name": "stderr",
     "output_type": "stream",
     "text": [
      "\r",
      "[Stage 242:================================>                      (57 + 8) / 97]\r"
     ]
    },
    {
     "name": "stderr",
     "output_type": "stream",
     "text": [
      "\r",
      "[Stage 242:=================================>                     (59 + 8) / 97]\r",
      "\r",
      "[Stage 242:===================================>                   (62 + 8) / 97]\r"
     ]
    },
    {
     "name": "stderr",
     "output_type": "stream",
     "text": [
      "\r",
      "[Stage 242:===================================>                   (63 + 8) / 97]\r",
      "\r",
      "[Stage 242:====================================>                  (64 + 8) / 97]\r"
     ]
    },
    {
     "name": "stderr",
     "output_type": "stream",
     "text": [
      "\r",
      "[Stage 242:====================================>                  (65 + 8) / 97]\r"
     ]
    },
    {
     "name": "stderr",
     "output_type": "stream",
     "text": [
      "\r",
      "[Stage 242:=====================================>                 (66 + 8) / 97]\r",
      "\r",
      "[Stage 242:=======================================>               (69 + 8) / 97]\r"
     ]
    },
    {
     "name": "stderr",
     "output_type": "stream",
     "text": [
      "\r",
      "[Stage 242:=======================================>               (70 + 8) / 97]\r",
      "\r",
      "[Stage 242:========================================>              (72 + 8) / 97]\r"
     ]
    },
    {
     "name": "stderr",
     "output_type": "stream",
     "text": [
      "\r",
      "[Stage 242:=========================================>             (73 + 8) / 97]\r"
     ]
    },
    {
     "name": "stderr",
     "output_type": "stream",
     "text": [
      "\r",
      "[Stage 242:===========================================>           (76 + 8) / 97]\r",
      "\r",
      "[Stage 242:============================================>          (78 + 8) / 97]\r"
     ]
    },
    {
     "name": "stderr",
     "output_type": "stream",
     "text": [
      "\r",
      "[Stage 242:============================================>          (79 + 8) / 97]\r",
      "\r",
      "[Stage 242:=============================================>         (80 + 8) / 97]\r"
     ]
    },
    {
     "name": "stderr",
     "output_type": "stream",
     "text": [
      "\r",
      "[Stage 242:=============================================>         (81 + 8) / 97]\r",
      "\r",
      "[Stage 242:===============================================>       (83 + 8) / 97]\r"
     ]
    },
    {
     "name": "stderr",
     "output_type": "stream",
     "text": [
      "\r",
      "[Stage 242:===============================================>       (84 + 8) / 97]\r",
      "\r",
      "[Stage 242:================================================>      (86 + 8) / 97]\r"
     ]
    },
    {
     "name": "stderr",
     "output_type": "stream",
     "text": [
      "\r",
      "[Stage 242:=================================================>     (87 + 8) / 97]\r"
     ]
    },
    {
     "name": "stderr",
     "output_type": "stream",
     "text": [
      "\r",
      "[Stage 242:=================================================>     (88 + 8) / 97]\r"
     ]
    },
    {
     "name": "stderr",
     "output_type": "stream",
     "text": [
      "\r",
      "[Stage 242:==================================================>    (89 + 8) / 97]\r",
      "\r",
      "[Stage 242:===================================================>   (91 + 6) / 97]\r"
     ]
    },
    {
     "name": "stderr",
     "output_type": "stream",
     "text": [
      "\r",
      "[Stage 242:====================================================>  (92 + 5) / 97]\r",
      "\r",
      "[Stage 242:=====================================================> (95 + 2) / 97]\r"
     ]
    },
    {
     "name": "stderr",
     "output_type": "stream",
     "text": [
      "\r",
      "                                                                                \r"
     ]
    },
    {
     "name": "stderr",
     "output_type": "stream",
     "text": [
      "\r",
      "[Stage 245:>                                                       (0 + 8) / 97]\r"
     ]
    },
    {
     "name": "stderr",
     "output_type": "stream",
     "text": [
      "\r",
      "[Stage 245:==>                                                     (4 + 8) / 97]\r",
      "\r",
      "[Stage 245:====>                                                   (8 + 8) / 97]\r"
     ]
    },
    {
     "name": "stderr",
     "output_type": "stream",
     "text": [
      "\r",
      "[Stage 245:=======>                                               (14 + 8) / 97]\r",
      "\r",
      "[Stage 245:=========>                                             (16 + 8) / 97]\r"
     ]
    },
    {
     "name": "stderr",
     "output_type": "stream",
     "text": [
      "\r",
      "[Stage 245:==========>                                            (18 + 8) / 97]\r",
      "\r",
      "[Stage 245:===========>                                           (21 + 8) / 97]\r"
     ]
    },
    {
     "name": "stderr",
     "output_type": "stream",
     "text": [
      "\r",
      "[Stage 245:=============>                                         (24 + 8) / 97]\r"
     ]
    },
    {
     "name": "stderr",
     "output_type": "stream",
     "text": [
      "\r",
      "[Stage 245:==============>                                        (25 + 8) / 97]\r"
     ]
    },
    {
     "name": "stderr",
     "output_type": "stream",
     "text": [
      "\r",
      "[Stage 245:===============>                                       (27 + 8) / 97]\r",
      "\r",
      "[Stage 245:=================>                                     (31 + 8) / 97]\r"
     ]
    },
    {
     "name": "stderr",
     "output_type": "stream",
     "text": [
      "\r",
      "[Stage 245:==================>                                    (32 + 8) / 97]\r"
     ]
    },
    {
     "name": "stderr",
     "output_type": "stream",
     "text": [
      "\r",
      "[Stage 245:==================>                                    (33 + 8) / 97]\r"
     ]
    },
    {
     "name": "stderr",
     "output_type": "stream",
     "text": [
      "\r",
      "[Stage 245:====================>                                  (36 + 8) / 97]\r",
      "\r",
      "[Stage 245:====================>                                  (37 + 8) / 97]\r"
     ]
    },
    {
     "name": "stderr",
     "output_type": "stream",
     "text": [
      "\r",
      "[Stage 245:======================>                                (39 + 8) / 97]\r",
      "\r",
      "[Stage 245:======================>                                (40 + 8) / 97]\r"
     ]
    },
    {
     "name": "stderr",
     "output_type": "stream",
     "text": [
      "\r",
      "[Stage 245:=======================>                               (41 + 8) / 97]\r",
      "\r",
      "[Stage 245:========================>                              (43 + 8) / 97]\r"
     ]
    },
    {
     "name": "stderr",
     "output_type": "stream",
     "text": [
      "\r",
      "[Stage 245:=========================>                             (45 + 8) / 97]\r",
      "\r",
      "[Stage 245:==========================>                            (47 + 8) / 97]\r"
     ]
    },
    {
     "name": "stderr",
     "output_type": "stream",
     "text": [
      "\r",
      "[Stage 245:===========================>                           (48 + 8) / 97]\r"
     ]
    },
    {
     "name": "stderr",
     "output_type": "stream",
     "text": [
      "\r",
      "[Stage 245:============================>                          (50 + 8) / 97]\r",
      "\r",
      "[Stage 245:=============================>                         (52 + 8) / 97]\r"
     ]
    },
    {
     "name": "stderr",
     "output_type": "stream",
     "text": [
      "\r",
      "[Stage 245:==============================>                        (54 + 9) / 97]\r"
     ]
    },
    {
     "name": "stderr",
     "output_type": "stream",
     "text": [
      "\r",
      "[Stage 245:===============================>                       (56 + 8) / 97]\r"
     ]
    },
    {
     "name": "stderr",
     "output_type": "stream",
     "text": [
      "\r",
      "[Stage 245:================================>                      (58 + 8) / 97]\r",
      "\r",
      "[Stage 245:==================================>                    (60 + 8) / 97]\r"
     ]
    },
    {
     "name": "stderr",
     "output_type": "stream",
     "text": [
      "\r",
      "[Stage 245:===================================>                   (62 + 8) / 97]\r",
      "\r",
      "[Stage 245:====================================>                  (64 + 8) / 97]\r"
     ]
    },
    {
     "name": "stderr",
     "output_type": "stream",
     "text": [
      "\r",
      "[Stage 245:====================================>                  (65 + 8) / 97]\r",
      "\r",
      "[Stage 245:=====================================>                 (66 + 8) / 97]\r"
     ]
    },
    {
     "name": "stderr",
     "output_type": "stream",
     "text": [
      "\r",
      "[Stage 245:=======================================>               (69 + 8) / 97]\r",
      "\r",
      "[Stage 245:========================================>              (71 + 8) / 97]\r"
     ]
    },
    {
     "name": "stderr",
     "output_type": "stream",
     "text": [
      "\r",
      "[Stage 245:========================================>              (72 + 8) / 97]\r"
     ]
    },
    {
     "name": "stderr",
     "output_type": "stream",
     "text": [
      "\r",
      "[Stage 245:=========================================>             (73 + 8) / 97]\r"
     ]
    },
    {
     "name": "stderr",
     "output_type": "stream",
     "text": [
      "\r",
      "[Stage 245:==========================================>            (75 + 8) / 97]\r",
      "\r",
      "[Stage 245:===========================================>           (77 + 8) / 97]\r"
     ]
    },
    {
     "name": "stderr",
     "output_type": "stream",
     "text": [
      "\r",
      "[Stage 245:============================================>          (79 + 8) / 97]\r",
      "\r",
      "[Stage 245:=============================================>         (80 + 8) / 97]\r"
     ]
    },
    {
     "name": "stderr",
     "output_type": "stream",
     "text": [
      "\r",
      "[Stage 245:=============================================>         (81 + 8) / 97]\r"
     ]
    },
    {
     "name": "stderr",
     "output_type": "stream",
     "text": [
      "\r",
      "[Stage 245:===============================================>       (83 + 8) / 97]\r",
      "\r",
      "[Stage 245:================================================>      (85 + 8) / 97]\r"
     ]
    },
    {
     "name": "stderr",
     "output_type": "stream",
     "text": [
      "\r",
      "[Stage 245:=================================================>     (87 + 8) / 97]\r",
      "\r",
      "[Stage 245:=================================================>     (88 + 8) / 97]\r"
     ]
    },
    {
     "name": "stderr",
     "output_type": "stream",
     "text": [
      "\r",
      "[Stage 245:==================================================>    (89 + 8) / 97]\r"
     ]
    },
    {
     "name": "stderr",
     "output_type": "stream",
     "text": [
      "\r",
      "[Stage 245:===================================================>   (91 + 6) / 97]\r",
      "\r",
      "[Stage 245:=====================================================> (94 + 3) / 97]\r"
     ]
    },
    {
     "name": "stderr",
     "output_type": "stream",
     "text": [
      "\r",
      "[Stage 245:======================================================>(96 + 1) / 97]\r",
      "\r",
      "                                                                                \r"
     ]
    }
   ],
   "source": [
    "col_dict = {}\n",
    "for col in col_names:\n",
    "    col_count = df.select(col).na.drop().count()\n",
    "    col_dict[col] = col_count"
   ]
  },
  {
   "cell_type": "code",
   "execution_count": 91,
   "id": "707a41d8-9dcb-4cfc-8af0-0795872e8acb",
   "metadata": {
    "collapsed": false
   },
   "outputs": [
    {
     "name": "stdout",
     "output_type": "stream",
     "text": [
      "agriculturestructureindicator percentage: 22.781841779216805\n",
      "basefloodelevation percentage: 33.26959145290759\n",
      "basementenclosurecrawlspacetype percentage: 99.99840894933858\n",
      "cancellationdateoffloodpolicy percentage: 13.476091974075873\n",
      "censustract percentage: 99.07330424699629\n",
      "condominiumindicator percentage: 99.99998809687784\n",
      "construction percentage: 99.99997420990199\n",
      "countycode percentage: 99.90279315291943\n",
      "crsdiscount percentage: 100.0\n",
      "deductibleamountinbuildingcoverage percentage: 98.68670274251704\n",
      "deductibleamountincontentscoverage percentage: 88.96663104525105\n",
      "elevatedbuildingindicator percentage: 99.99948816574732\n",
      "elevationcertificateindicator percentage: 35.31367891125633\n",
      "elevationdifference percentage: 100.0\n",
      "federalpolicyfee percentage: 100.0\n",
      "floodzone percentage: 99.664441067176\n",
      "hfiaasurcharge percentage: 100.0\n",
      "houseofworshipindicator percentage: 31.604162148853185\n",
      "latitude percentage: 99.32807073819176\n",
      "locationofcontents percentage: 69.46895390978183\n",
      "longitude percentage: 99.32807073819176\n",
      "lowestadjacentgrade percentage: 30.683003331505343\n",
      "lowestfloorelevation percentage: 34.41260264483803\n",
      "nonprofitindicator percentage: 31.570748101109803\n",
      "numberoffloorsininsuredbuilding percentage: 99.67801856184772\n",
      "obstructiontype percentage: 19.397869456197732\n",
      "occupancytype percentage: 99.99998809687784\n",
      "originalconstructiondate percentage: 99.6422754698693\n",
      "originalnbdate percentage: 100.0\n",
      "policycost percentage: 100.0\n",
      "policycount percentage: 100.0\n",
      "policyeffectivedate percentage: 100.0\n",
      "policyterminationdate percentage: 100.0\n",
      "policytermindicator percentage: 99.99999404843892\n",
      "postfirmconstructionindicator percentage: 99.64235879172439\n",
      "primaryresidenceindicator percentage: 99.95658534579255\n",
      "propertystate percentage: 100.0\n",
      "reportedzipcode percentage: 99.99998611302415\n",
      "ratemethod percentage: 98.20864558281187\n",
      "regularemergencyprogramindicator percentage: 99.99999603229261\n",
      "reportedcity percentage: 99.99999603229261\n",
      "smallbusinessindicatorbuilding percentage: 33.63781652063288\n",
      "totalbuildinginsurancecoverage percentage: 100.0\n",
      "totalcontentsinsurancecoverage percentage: 100.0\n",
      "totalinsurancepremiumofthepolicy percentage: 100.0\n"
     ]
    }
   ],
   "source": [
    "for col in col_names:\n",
    "    print(f\"{col} percentage: {col_dict[col] * 100/50406943}\")"
   ]
  }
 ],
 "metadata": {
  "kernelspec": {
   "argv": [
    "python",
    "-m",
    "ipykernel_launcher",
    "-f",
    "{connection_file}"
   ],
   "display_name": "Python 3 (ipykernel)",
   "env": null,
   "interrupt_mode": "signal",
   "language": "python",
   "metadata": {
    "debugger": true
   },
   "name": "python3"
  },
  "name": "20230404-jds-pyspark-setup.ipynb"
 },
 "nbformat": 4,
 "nbformat_minor": 5
}
