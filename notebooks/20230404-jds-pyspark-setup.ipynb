{
 "cells": [
  {
   "cell_type": "code",
   "execution_count": 1,
   "id": "c29cce31-aefb-4e17-9b80-63064541af49",
   "metadata": {
    "collapsed": false
   },
   "outputs": [],
   "source": [
    "import pandas as pd\n",
    "import numpy as np\n",
    "import pyspark"
   ]
  },
  {
   "cell_type": "markdown",
   "id": "7ce056f7-d70b-40e5-8d99-6035d5221e3b",
   "metadata": {
    "collapsed": false
   },
   "source": [
    "# Establish Spark Context\n",
    "`local[*]` lets pyspark know that we're using only one machine, as opposed to a set of machines in a cluster, etc.\n",
    "\n",
    "The * tells `pyspark` to use all the cores on your machine.\n",
    "\n",
    "It's important to not run more than once because once it's running, you'd have to kill the old SparkContext and start again. "
   ]
  },
  {
   "cell_type": "code",
   "execution_count": 3,
   "id": "43a4197a-0ff6-4681-bd61-a3b18afcda7a",
   "metadata": {
    "collapsed": false
   },
   "outputs": [
    {
     "name": "stderr",
     "output_type": "stream",
     "text": [
      "Setting default log level to \"WARN\".\n",
      "To adjust logging level use sc.setLogLevel(newLevel). For SparkR, use setLogLevel(newLevel).\n"
     ]
    },
    {
     "name": "stdout",
     "output_type": "stream",
     "text": [
      "23/04/04 16:28:45 WARN NativeCodeLoader: Unable to load native-hadoop library for your platform... using builtin-java classes where applicable\n"
     ]
    }
   ],
   "source": [
    "sc = pyspark.SparkContext('local[*]')"
   ]
  },
  {
   "cell_type": "code",
   "execution_count": 4,
   "id": "d8476690-6060-4f54-a6af-ae52ad44f6f6",
   "metadata": {
    "collapsed": false
   },
   "outputs": [],
   "source": [
    "spark = pyspark.sql.SparkSession(sc)"
   ]
  },
  {
   "cell_type": "code",
   "execution_count": 26,
   "id": "b67b1459-32d5-4b43-971a-c04c4d724e1c",
   "metadata": {
    "collapsed": false
   },
   "outputs": [],
   "source": [
    "#df = spark.read.csv('../data/NFIP/nfip-flood-policies.csv')\n",
    "df = spark.read.csv('../data/NFIP/small.csv', header=True, inferSchema=True)"
   ]
  },
  {
   "cell_type": "code",
   "execution_count": 27,
   "id": "42f46fc0-14ca-42fd-a7ac-7118cbfe5921",
   "metadata": {
    "collapsed": false
   },
   "outputs": [
    {
     "data": {
      "text/plain": [
       "DataFrame[_c0: string, _c1: string, _c2: string, _c3: string, _c4: string, _c5: string, _c6: string, _c7: string, _c8: string, _c9: string, _c10: string, _c11: string, _c12: string, _c13: string, _c14: string, _c15: string, _c16: string, _c17: string, _c18: string, _c19: string, _c20: string, _c21: string, _c22: string, _c23: string, _c24: string, _c25: string, _c26: string, _c27: string, _c28: string, _c29: string, _c30: string, _c31: string, _c32: string, _c33: string, _c34: string, _c35: string, _c36: string, _c37: string, _c38: string, _c39: string, _c40: string, _c41: string, _c42: string, _c43: string, _c44: string]"
      ]
     },
     "execution_count": 27,
     "metadata": {},
     "output_type": "execute_result"
    }
   ],
   "source": [
    "df"
   ]
  },
  {
   "cell_type": "markdown",
   "id": "5b8f6a6d-2e12-46bc-bedc-26e30561f495",
   "metadata": {
    "collapsed": false
   },
   "source": [
    "# Create a sample DaraFrame\n",
    "1% of our dataset is 500k entries. This is the sample dataset that will be used for exploration"
   ]
  },
  {
   "cell_type": "code",
   "execution_count": 21,
   "id": "707a41d8-9dcb-4cfc-8af0-0795872e8acb",
   "metadata": {
    "collapsed": false
   },
   "outputs": [
    {
     "name": "stderr",
     "output_type": "stream",
     "text": [
      "\r",
      "[Stage 5:>                                                         (0 + 8) / 97]\r"
     ]
    },
    {
     "name": "stderr",
     "output_type": "stream",
     "text": [
      "\r",
      "[Stage 5:====>                                                     (8 + 8) / 97]\r"
     ]
    },
    {
     "name": "stderr",
     "output_type": "stream",
     "text": [
      "\r",
      "[Stage 5:=========>                                               (16 + 8) / 97]\r"
     ]
    },
    {
     "name": "stderr",
     "output_type": "stream",
     "text": [
      "\r",
      "[Stage 5:==============>                                          (24 + 8) / 97]\r"
     ]
    },
    {
     "name": "stderr",
     "output_type": "stream",
     "text": [
      "\r",
      "[Stage 5:==================>                                      (32 + 8) / 97]\r"
     ]
    },
    {
     "name": "stderr",
     "output_type": "stream",
     "text": [
      "\r",
      "[Stage 5:===================>                                     (33 + 8) / 97]\r",
      "\r",
      "[Stage 5:=====================>                                   (37 + 8) / 97]\r"
     ]
    },
    {
     "name": "stderr",
     "output_type": "stream",
     "text": [
      "\r",
      "[Stage 5:======================>                                  (39 + 8) / 97]\r",
      "\r",
      "[Stage 5:=========================>                               (43 + 8) / 97]\r"
     ]
    },
    {
     "name": "stderr",
     "output_type": "stream",
     "text": [
      "\r",
      "[Stage 5:=========================>                               (44 + 8) / 97]\r",
      "\r",
      "[Stage 5:============================>                            (49 + 8) / 97]\r"
     ]
    },
    {
     "name": "stderr",
     "output_type": "stream",
     "text": [
      "\r",
      "[Stage 5:=============================>                           (51 + 8) / 97]\r",
      "\r",
      "[Stage 5:==============================>                          (52 + 8) / 97]\r"
     ]
    },
    {
     "name": "stderr",
     "output_type": "stream",
     "text": [
      "\r",
      "[Stage 5:===============================>                         (53 + 8) / 97]\r",
      "\r",
      "[Stage 5:================================>                        (55 + 8) / 97]\r"
     ]
    },
    {
     "name": "stderr",
     "output_type": "stream",
     "text": [
      "\r",
      "[Stage 5:================================>                        (56 + 8) / 97]\r",
      "\r",
      "[Stage 5:==================================>                      (58 + 8) / 97]\r"
     ]
    },
    {
     "name": "stderr",
     "output_type": "stream",
     "text": [
      "\r",
      "[Stage 5:==================================>                      (59 + 8) / 97]\r"
     ]
    },
    {
     "name": "stderr",
     "output_type": "stream",
     "text": [
      "\r",
      "[Stage 5:===================================>                     (60 + 8) / 97]\r",
      "\r",
      "[Stage 5:===================================>                     (61 + 8) / 97]\r"
     ]
    },
    {
     "name": "stderr",
     "output_type": "stream",
     "text": [
      "\r",
      "[Stage 5:=====================================>                   (63 + 8) / 97]\r",
      "\r",
      "[Stage 5:=====================================>                   (64 + 8) / 97]\r"
     ]
    },
    {
     "name": "stderr",
     "output_type": "stream",
     "text": [
      "\r",
      "[Stage 5:======================================>                  (66 + 8) / 97]\r",
      "\r",
      "[Stage 5:=======================================>                 (67 + 8) / 97]\r"
     ]
    },
    {
     "name": "stderr",
     "output_type": "stream",
     "text": [
      "\r",
      "[Stage 5:=======================================>                 (68 + 8) / 97]\r",
      "\r",
      "[Stage 5:========================================>                (69 + 8) / 97]\r"
     ]
    },
    {
     "name": "stderr",
     "output_type": "stream",
     "text": [
      "\r",
      "[Stage 5:=========================================>               (71 + 8) / 97]\r",
      "\r",
      "[Stage 5:==========================================>              (72 + 8) / 97]\r"
     ]
    },
    {
     "name": "stderr",
     "output_type": "stream",
     "text": [
      "\r",
      "[Stage 5:===========================================>             (74 + 8) / 97]\r",
      "\r",
      "[Stage 5:============================================>            (75 + 8) / 97]\r"
     ]
    },
    {
     "name": "stderr",
     "output_type": "stream",
     "text": [
      "\r",
      "[Stage 5:============================================>            (76 + 8) / 97]\r",
      "\r",
      "[Stage 5:=============================================>           (78 + 8) / 97]\r"
     ]
    },
    {
     "name": "stderr",
     "output_type": "stream",
     "text": [
      "\r",
      "[Stage 5:==============================================>          (79 + 8) / 97]\r",
      "\r",
      "[Stage 5:===============================================>         (80 + 8) / 97]\r"
     ]
    },
    {
     "name": "stderr",
     "output_type": "stream",
     "text": [
      "\r",
      "[Stage 5:================================================>        (82 + 8) / 97]\r",
      "\r",
      "[Stage 5:================================================>        (83 + 8) / 97]\r"
     ]
    },
    {
     "name": "stderr",
     "output_type": "stream",
     "text": [
      "\r",
      "[Stage 5:=================================================>       (84 + 8) / 97]\r",
      "\r",
      "[Stage 5:==================================================>      (86 + 8) / 97]\r"
     ]
    },
    {
     "name": "stderr",
     "output_type": "stream",
     "text": [
      "\r",
      "[Stage 5:===================================================>     (87 + 8) / 97]\r",
      "\r",
      "[Stage 5:===================================================>     (88 + 8) / 97]\r"
     ]
    },
    {
     "name": "stderr",
     "output_type": "stream",
     "text": [
      "\r",
      "[Stage 5:====================================================>    (90 + 7) / 97]\r",
      "\r",
      "[Stage 5:=====================================================>   (91 + 6) / 97]\r"
     ]
    },
    {
     "name": "stderr",
     "output_type": "stream",
     "text": [
      "\r",
      "[Stage 5:======================================================>  (93 + 4) / 97]\r"
     ]
    },
    {
     "name": "stderr",
     "output_type": "stream",
     "text": [
      "\r",
      "                                                                                \r"
     ]
    },
    {
     "data": {
      "text/plain": [
       "504097"
      ]
     },
     "execution_count": 21,
     "metadata": {},
     "output_type": "execute_result"
    }
   ],
   "source": [
    "sam = df.sample(0.01)\n",
    "sam.count()"
   ]
  }
 ],
 "metadata": {
  "kernelspec": {
   "argv": [
    "python",
    "-m",
    "ipykernel_launcher",
    "-f",
    "{connection_file}"
   ],
   "display_name": "Python 3 (ipykernel)",
   "env": null,
   "interrupt_mode": "signal",
   "language": "python",
   "metadata": {
    "debugger": true
   },
   "name": "python3"
  },
  "name": "20230404-jds-pyspark-setup.ipynb"
 },
 "nbformat": 4,
 "nbformat_minor": 5
}
