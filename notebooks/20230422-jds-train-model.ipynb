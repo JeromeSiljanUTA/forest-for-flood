{
 "cells": [
  {
   "cell_type": "code",
   "execution_count": 26,
   "id": "18281b8a-06bc-47de-b18b-6d978845ac3d",
   "metadata": {
    "collapsed": false
   },
   "outputs": [],
   "source": [
    "import numpy as np\n",
    "import pyspark\n",
    "from pyspark.ml.regression import RandomForestRegressor\n",
    "from pyspark.sql.functions import col\n",
    "from pyspark.sql.types import DateType, IntegerType, LongType, DoubleType\n",
    "from pyspark.ml.linalg import Vectors\n",
    "from pyspark.ml.feature import VectorAssembler"
   ]
  },
  {
   "cell_type": "code",
   "execution_count": 2,
   "id": "b246cbaf-c84f-4f76-97cf-95ce94611910",
   "metadata": {
    "collapsed": false
   },
   "outputs": [
    {
     "name": "stderr",
     "output_type": "stream",
     "text": [
      "Setting default log level to \"WARN\".\n",
      "To adjust logging level use sc.setLogLevel(newLevel). For SparkR, use setLogLevel(newLevel).\n"
     ]
    },
    {
     "name": "stdout",
     "output_type": "stream",
     "text": [
      "23/04/23 16:49:11 WARN NativeCodeLoader: Unable to load native-hadoop library for your platform... using builtin-java classes where applicable\n"
     ]
    }
   ],
   "source": [
    "sc = pyspark.SparkContext('local[*]')\n",
    "spark = pyspark.sql.SparkSession(sc)"
   ]
  },
  {
   "cell_type": "code",
   "execution_count": 44,
   "id": "faf6db6e-dcaf-4d97-b567-c5fb1dcb7477",
   "metadata": {
    "collapsed": false
   },
   "outputs": [],
   "source": [
    "df = spark.read.parquet('../data/02_intermediate/nfip-flood-policies.parquet', inferSchema=True)"
   ]
  },
  {
   "cell_type": "code",
   "execution_count": 45,
   "id": "2549416a-0726-449c-afcd-a2079b7f255d",
   "metadata": {
    "collapsed": false
   },
   "outputs": [],
   "source": [
    "df = df.drop(*['policyeffectivedate', 'policyterminationdate', 'policytermindicator'])"
   ]
  },
  {
   "cell_type": "code",
   "execution_count": 46,
   "id": "889b2635-7d48-4b4e-95ce-0fb57b03c55a",
   "metadata": {
    "collapsed": false
   },
   "outputs": [
    {
     "name": "stdout",
     "output_type": "stream",
     "text": [
      "root\n",
      " |-- agriculturestructureindicator: string (nullable = true)\n",
      " |-- basementenclosurecrawlspacetype: string (nullable = true)\n",
      " |-- censustract: string (nullable = true)\n",
      " |-- condominiumindicator: string (nullable = true)\n",
      " |-- construction: string (nullable = true)\n",
      " |-- countycode: string (nullable = true)\n",
      " |-- crsdiscount: string (nullable = true)\n",
      " |-- deductibleamountinbuildingcoverage: string (nullable = true)\n",
      " |-- elevatedbuildingindicator: string (nullable = true)\n",
      " |-- elevationdifference: string (nullable = true)\n",
      " |-- federalpolicyfee: string (nullable = true)\n",
      " |-- floodzone: string (nullable = true)\n",
      " |-- hfiaasurcharge: string (nullable = true)\n",
      " |-- latitude: string (nullable = true)\n",
      " |-- longitude: string (nullable = true)\n",
      " |-- numberoffloorsininsuredbuilding: string (nullable = true)\n",
      " |-- occupancytype: string (nullable = true)\n",
      " |-- originalconstructiondate: string (nullable = true)\n",
      " |-- originalnbdate: string (nullable = true)\n",
      " |-- policycost: string (nullable = true)\n",
      " |-- policycount: string (nullable = true)\n",
      " |-- postfirmconstructionindicator: string (nullable = true)\n",
      " |-- primaryresidenceindicator: string (nullable = true)\n",
      " |-- propertystate: string (nullable = true)\n",
      " |-- reportedzipcode: string (nullable = true)\n",
      " |-- ratemethod: string (nullable = true)\n",
      " |-- regularemergencyprogramindicator: string (nullable = true)\n",
      " |-- reportedcity: string (nullable = true)\n",
      " |-- totalbuildinginsurancecoverage: string (nullable = true)\n",
      " |-- totalcontentsinsurancecoverage: string (nullable = true)\n",
      " |-- totalinsurancepremiumofthepolicy: string (nullable = true)\n",
      "\n"
     ]
    }
   ],
   "source": [
    "df.printSchema()"
   ]
  },
  {
   "cell_type": "code",
   "execution_count": 47,
   "id": "8e5a6457-6bfd-4f89-8b5d-bdf598a16f79",
   "metadata": {
    "collapsed": false
   },
   "outputs": [],
   "source": [
    "df = df.withColumn('censustract', col('censustract').cast(LongType()))\\\n",
    "\t.withColumn('crsdiscount', col('crsdiscount').cast(DoubleType())) \\\n",
    "\t.withColumn('elevationdifference', col('elevationdifference').cast(IntegerType())) \\\n",
    "\t.withColumn('federalpolicyfee', col('federalpolicyfee').cast(IntegerType())) \\\n",
    "\t.withColumn('hfiaasurcharge', col('hfiaasurcharge').cast(IntegerType())) \\\n",
    "\t.withColumn('latitude', col('latitude').cast(DoubleType())) \\\n",
    "\t.withColumn('longitude', col('longitude').cast(DoubleType())) \\\n",
    "\t.withColumn('numberoffloorsininsuredbuilding', col('numberoffloorsininsuredbuilding').cast(IntegerType())) \\\n",
    "\t.withColumn('originalconstructiondate', col('originalconstructiondate').cast(DateType())) \\\n",
    "\t.withColumn('originalnbdate', col('originalnbdate').cast(DateType())) \\\n",
    "\t.withColumn('policycost', col('policycost').cast(IntegerType())) \\\n",
    "\t.withColumn('policycount', col('policycount').cast(IntegerType())) \\\n",
    "\t.withColumn('totalbuildinginsurancecoverage', col('totalbuildinginsurancecoverage').cast(IntegerType())) \\\n",
    "\t.withColumn('totalcontentsinsurancecoverage', col('totalcontentsinsurancecoverage').cast(IntegerType())) \\\n",
    "\t.withColumn('totalinsurancepremiumofthepolicy', col('totalinsurancepremiumofthepolicy').cast(IntegerType()))\n"
   ]
  },
  {
   "cell_type": "code",
   "execution_count": 61,
   "id": "3b2cced8-533c-479e-aecc-7ac1d2ced845",
   "metadata": {
    "collapsed": false
   },
   "outputs": [],
   "source": [
    "assembler = VectorAssembler(inputCols=['censustract','crsdiscount','elevationdifference','federalpolicyfee','hfiaasurcharge','latitude','longitude','numberoffloorsininsuredbuilding','policycost','policycount'], outputCol='features')\n",
    "output = assembler.transform(df)\n",
    "final_df = output.select(['features', 'totalinsurancepremiumofthepolicy'])"
   ]
  },
  {
   "cell_type": "code",
   "execution_count": 67,
   "id": "e18ae41d-f906-4764-90a8-4db53e4266e7",
   "metadata": {
    "collapsed": false
   },
   "outputs": [],
   "source": [
    "train, test, validate = final_df.randomSplit([0.6, 0.2, 0.2], seed=0)"
   ]
  },
  {
   "cell_type": "code",
   "execution_count": 70,
   "id": "4d742216-0770-4b6f-8b57-15aa7a982918",
   "metadata": {
    "collapsed": false
   },
   "outputs": [
    {
     "data": {
      "text/plain": [
       "RandomForestRegressor_11709a0e0153"
      ]
     },
     "execution_count": 70,
     "metadata": {},
     "output_type": "execute_result"
    }
   ],
   "source": [
    "model = RandomForestRegressor(labelCol='totalinsurancepremiumofthepolicy')\n",
    "model.setSeed(0)"
   ]
  },
  {
   "cell_type": "code",
   "execution_count": null,
   "id": "77808e3e-c74e-4052-bcea-4e588f3c13b7",
   "metadata": {
    "collapsed": false
   },
   "outputs": [
    {
     "name": "stderr",
     "output_type": "stream",
     "text": [
      "\r",
      "[Stage 13:>                                                         (0 + 1) / 1]\r"
     ]
    }
   ],
   "source": [
    "model.fit(train)"
   ]
  }
 ],
 "metadata": {
  "kernelspec": {
   "argv": [
    "python",
    "-m",
    "ipykernel_launcher",
    "-f",
    "{connection_file}"
   ],
   "display_name": "Python 3 (ipykernel)",
   "env": null,
   "interrupt_mode": "signal",
   "language": "python",
   "metadata": {
    "debugger": true
   },
   "name": "python3"
  },
  "name": "20230422-jds-train-model.ipynb"
 },
 "nbformat": 4,
 "nbformat_minor": 5
}
